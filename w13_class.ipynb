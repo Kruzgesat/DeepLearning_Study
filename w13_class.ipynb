{
 "cells": [
  {
   "metadata": {
    "ExecuteTime": {
     "end_time": "2024-11-19T05:22:57.827869Z",
     "start_time": "2024-11-19T05:22:30.056493Z"
    }
   },
   "cell_type": "code",
   "source": [
    "import nltk\n",
    "nltk.download()"
   ],
   "id": "1e49a44c5759767f",
   "outputs": [
    {
     "name": "stdout",
     "output_type": "stream",
     "text": [
      "showing info https://raw.githubusercontent.com/nltk/nltk_data/gh-pages/index.xml\n"
     ]
    },
    {
     "name": "stderr",
     "output_type": "stream",
     "text": [
      "2024-11-19 14:22:49.359 python[1596:24331] +[IMKClient subclass]: chose IMKClient_Modern\n",
      "2024-11-19 14:22:49.359 python[1596:24331] +[IMKInputSession subclass]: chose IMKInputSession_Modern\n"
     ]
    },
    {
     "data": {
      "text/plain": [
       "True"
      ]
     },
     "execution_count": 1,
     "metadata": {},
     "output_type": "execute_result"
    }
   ],
   "execution_count": 1
  },
  {
   "metadata": {
    "ExecuteTime": {
     "end_time": "2024-11-19T05:23:02.932364Z",
     "start_time": "2024-11-19T05:23:02.917196Z"
    }
   },
   "cell_type": "code",
   "source": [
    "import nltk\n",
    "from nltk.tokenize import word_tokenize\n",
    "\n",
    "nltk.download('punkt'); nltk.download('punkt_tab')\n",
    "\n",
    "tokens = word_tokenize(\"Hello World, This is a dog.\")\n",
    "\n",
    "words = [word for word in tokens if word.isalpha()]\n",
    "print (words)"
   ],
   "id": "27afbd1746a635af",
   "outputs": [
    {
     "name": "stdout",
     "output_type": "stream",
     "text": [
      "['Hello', 'World', 'This', 'is', 'a', 'dog']\n"
     ]
    },
    {
     "name": "stderr",
     "output_type": "stream",
     "text": [
      "[nltk_data] Downloading package punkt to /Users/tommyhong/nltk_data...\n",
      "[nltk_data]   Package punkt is already up-to-date!\n",
      "[nltk_data] Downloading package punkt_tab to\n",
      "[nltk_data]     /Users/tommyhong/nltk_data...\n",
      "[nltk_data]   Package punkt_tab is already up-to-date!\n"
     ]
    }
   ],
   "execution_count": 2
  },
  {
   "metadata": {
    "ExecuteTime": {
     "end_time": "2024-11-19T05:23:06.468845Z",
     "start_time": "2024-11-19T05:23:06.462394Z"
    }
   },
   "cell_type": "code",
   "source": [
    "import nltk\n",
    "nltk.download('punkt')\n",
    "nltk.download('stopwords')\n",
    "\n",
    "from nltk.corpus import stopwords\n",
    "print(stopwords.words('english')[:20])"
   ],
   "id": "1db3d6a7303f6c79",
   "outputs": [
    {
     "name": "stdout",
     "output_type": "stream",
     "text": [
      "['i', 'me', 'my', 'myself', 'we', 'our', 'ours', 'ourselves', 'you', \"you're\", \"you've\", \"you'll\", \"you'd\", 'your', 'yours', 'yourself', 'yourselves', 'he', 'him', 'his']\n"
     ]
    },
    {
     "name": "stderr",
     "output_type": "stream",
     "text": [
      "[nltk_data] Downloading package punkt to /Users/tommyhong/nltk_data...\n",
      "[nltk_data]   Package punkt is already up-to-date!\n",
      "[nltk_data] Downloading package stopwords to\n",
      "[nltk_data]     /Users/tommyhong/nltk_data...\n",
      "[nltk_data]   Package stopwords is already up-to-date!\n"
     ]
    }
   ],
   "execution_count": 3
  },
  {
   "metadata": {
    "ExecuteTime": {
     "end_time": "2024-11-19T05:23:07.967195Z",
     "start_time": "2024-11-19T05:23:07.964372Z"
    }
   },
   "cell_type": "code",
   "source": [
    "import nltk\n",
    "nltk.download('punkt')\n",
    "from nltk.tokenize import word_tokenize\n",
    "text = \"This is a dog.\"\n",
    "print(word_tokenize(text))"
   ],
   "id": "4af42243381d8630",
   "outputs": [
    {
     "name": "stdout",
     "output_type": "stream",
     "text": [
      "['This', 'is', 'a', 'dog', '.']\n"
     ]
    },
    {
     "name": "stderr",
     "output_type": "stream",
     "text": [
      "[nltk_data] Downloading package punkt to /Users/tommyhong/nltk_data...\n",
      "[nltk_data]   Package punkt is already up-to-date!\n"
     ]
    }
   ],
   "execution_count": 4
  },
  {
   "metadata": {
    "ExecuteTime": {
     "end_time": "2024-11-19T05:23:09.887266Z",
     "start_time": "2024-11-19T05:23:09.884447Z"
    }
   },
   "cell_type": "code",
   "source": [
    "from nltk.tokenize import sent_tokenize\n",
    "text = \"This is a house. This is a dog.\"\n",
    "print(sent_tokenize(text))"
   ],
   "id": "77608b0340b0191a",
   "outputs": [
    {
     "name": "stdout",
     "output_type": "stream",
     "text": [
      "['This is a house.', 'This is a dog.']\n"
     ]
    }
   ],
   "execution_count": 5
  },
  {
   "metadata": {
    "ExecuteTime": {
     "end_time": "2024-11-19T05:23:33.422049Z",
     "start_time": "2024-11-19T05:23:33.419197Z"
    }
   },
   "cell_type": "code",
   "source": [
    "from tensorflow.keras.preprocessing.text import *\n",
    "\n",
    "print(text_to_word_sequence(\"This is a dog.\"))"
   ],
   "id": "46b43a06188537f2",
   "outputs": [
    {
     "name": "stdout",
     "output_type": "stream",
     "text": [
      "['this', 'is', 'a', 'dog']\n"
     ]
    }
   ],
   "execution_count": 8
  },
  {
   "metadata": {
    "ExecuteTime": {
     "end_time": "2024-11-19T05:23:36.913665Z",
     "start_time": "2024-11-19T05:23:36.910859Z"
    }
   },
   "cell_type": "code",
   "source": [
    "import numpy as np\n",
    "from tensorflow.keras.utils import to_categorical\n",
    "\n",
    "text = [\"cat\", \"dog\", \"cat\", \"bird\"]\n",
    "\n",
    "total_pets = [\"cat\", \"dog\", \"turtle\", \"fish\", \"bird\"]\n",
    "print(\"text=\", text)"
   ],
   "id": "a3b4392eb64b6a0b",
   "outputs": [
    {
     "name": "stdout",
     "output_type": "stream",
     "text": [
      "text= ['cat', 'dog', 'cat', 'bird']\n"
     ]
    }
   ],
   "execution_count": 9
  },
  {
   "metadata": {
    "ExecuteTime": {
     "end_time": "2024-11-19T05:23:38.010957Z",
     "start_time": "2024-11-19T05:23:38.006848Z"
    }
   },
   "cell_type": "code",
   "source": [
    "mapping = {}\n",
    "for x in range(len(total_pets)):\n",
    "    mapping[total_pets[x]] = x #“cat\"->0, \"dog\"->1, ...\n",
    "print(mapping)\n",
    "# 단어들을 순차적인 정수 인덱스로 만든다.\n",
    "for x in range(len(text)):\n",
    "    text[x] = mapping[text[x]]\n",
    "print(\"text=\", text)\n",
    "# 순차적인 정수 인덱스를 원-핫 인코딩으로 만든다.\n",
    "one_hot_encode = to_categorical(text)\n",
    "print(\"text=\", one_hot_encode)"
   ],
   "id": "41116a50fa7ac2c7",
   "outputs": [
    {
     "name": "stdout",
     "output_type": "stream",
     "text": [
      "{'cat': 0, 'dog': 1, 'turtle': 2, 'fish': 3, 'bird': 4}\n",
      "text= [0, 1, 0, 4]\n",
      "text= [[1. 0. 0. 0. 0.]\n",
      " [0. 1. 0. 0. 0.]\n",
      " [1. 0. 0. 0. 0.]\n",
      " [0. 0. 0. 0. 1.]]\n"
     ]
    }
   ],
   "execution_count": 10
  },
  {
   "metadata": {
    "ExecuteTime": {
     "end_time": "2024-11-19T05:27:19.965838Z",
     "start_time": "2024-11-19T05:27:17.552754Z"
    }
   },
   "cell_type": "code",
   "source": [
    "from tensorflow.keras.preprocessing.text import Tokenizer\n",
    "t = Tokenizer()\n",
    "\n",
    "text = \"\"\"Deep learning is part of a broader family of machine learning methods\n",
    "based on artificial neural networks with representation learning.\"\"\"\n",
    "t.fit_on_texts([text])\n",
    "\n",
    "print(\"단어집합 : \", t.word_index)"
   ],
   "id": "ae2f64b26ee6d264",
   "outputs": [
    {
     "name": "stdout",
     "output_type": "stream",
     "text": [
      "단어집합 :  {'learning': 1, 'of': 2, 'deep': 3, 'is': 4, 'part': 5, 'a': 6, 'broader': 7, 'family': 8, 'machine': 9, 'methods': 10, 'based': 11, 'on': 12, 'artificial': 13, 'neural': 14, 'networks': 15, 'with': 16, 'representation': 17}\n"
     ]
    }
   ],
   "execution_count": 1
  },
  {
   "metadata": {
    "ExecuteTime": {
     "end_time": "2024-11-19T05:27:57.809584Z",
     "start_time": "2024-11-19T05:27:57.806828Z"
    }
   },
   "cell_type": "code",
   "source": [
    "seq = t.texts_to_sequences([text])[0]\n",
    "print(text,\"->\", seq)"
   ],
   "id": "8bd3315fa1d70d21",
   "outputs": [
    {
     "name": "stdout",
     "output_type": "stream",
     "text": [
      "Deep learning is part of a broader family of machine learning methods\n",
      "based on artificial neural networks with representation learning. -> [3, 1, 4, 5, 2, 6, 7, 8, 2, 9, 1, 10, 11, 12, 13, 14, 15, 16, 17, 1]\n"
     ]
    }
   ],
   "execution_count": 2
  },
  {
   "metadata": {
    "ExecuteTime": {
     "end_time": "2024-11-19T05:34:39.087276Z",
     "start_time": "2024-11-19T05:34:39.083066Z"
    }
   },
   "cell_type": "code",
   "source": [
    "from tensorflow.keras.preprocessing.sequence import pad_sequences\n",
    "X = pad_sequences([[7, 8, 9], [1, 2, 3, 4, 5], [7]], maxlen=3, padding='pre')\n",
    "print(X)"
   ],
   "id": "d2d98e62f3b60dd",
   "outputs": [
    {
     "name": "stdout",
     "output_type": "stream",
     "text": [
      "[[7 8 9]\n",
      " [3 4 5]\n",
      " [0 0 7]]\n"
     ]
    }
   ],
   "execution_count": 3
  },
  {
   "metadata": {
    "ExecuteTime": {
     "end_time": "2024-11-19T05:38:13.984119Z",
     "start_time": "2024-11-19T05:38:13.731227Z"
    }
   },
   "cell_type": "code",
   "source": [
    "import numpy as np\n",
    "from tensorflow.keras.layers import Embedding\n",
    "from tensorflow.keras.models import Sequential\n",
    "\n",
    "# 입력 형태: (batch_size, input_length)=(32, 3)\n",
    "# 출력 형태: (None, 3, 4)\n",
    "\n",
    "model = Sequential()\n",
    "model.add(Embedding(100, 4, input_length=3))\n",
    "input_array = np.random.randint(100, size=(32, 3))\n",
    "model.compile('rmsprop', 'mse')\n",
    "output_array = model.predict(input_array)\n",
    "print(output_array.shape)"
   ],
   "id": "4dfed9e03c7b1d77",
   "outputs": [
    {
     "name": "stdout",
     "output_type": "stream",
     "text": [
      "1/1 [==============================] - 0s 58ms/step\n",
      "(32, 3, 4)\n"
     ]
    }
   ],
   "execution_count": 4
  },
  {
   "metadata": {
    "ExecuteTime": {
     "end_time": "2024-11-19T05:41:46.627768Z",
     "start_time": "2024-11-19T05:41:46.623363Z"
    }
   },
   "cell_type": "code",
   "source": [
    "import numpy as np\n",
    "from tensorflow.keras.layers import Embedding, Flatten, Dense\n",
    "from tensorflow.keras.models import Sequential\n",
    "from tensorflow.keras.preprocessing.text import one_hot\n",
    "from tensorflow.keras.preprocessing.sequence import pad_sequences\n",
    "\n",
    "docs = [  'additional income',\n",
    "          'best price',\n",
    "          'big bucks',\n",
    "          'cash bonus',\n",
    "          'earn extra cash',\n",
    "          'spring savings certificate',\n",
    "          'valero gas marketing',\n",
    "          'all domestic employees',\n",
    "          'nominations for oct',\n",
    "          'confirmation from spinner']\n",
    "\n",
    "labels = np.array([1,1,1,1,1,0,0,0,0,0])\n",
    "vocab_size = 50\n",
    "encoded_docs = [one_hot(d, vocab_size) for d in docs]\n",
    "print(encoded_docs)"
   ],
   "id": "6a5e51bed953db41",
   "outputs": [
    {
     "name": "stdout",
     "output_type": "stream",
     "text": [
      "[[20, 15], [15, 33], [4, 21], [14, 11], [8, 21, 14], [18, 22, 44], [37, 41, 41], [44, 35, 30], [37, 16, 2], [22, 48, 41]]\n"
     ]
    }
   ],
   "execution_count": 5
  },
  {
   "metadata": {
    "ExecuteTime": {
     "end_time": "2024-11-19T05:42:09.617983Z",
     "start_time": "2024-11-19T05:42:09.615269Z"
    }
   },
   "cell_type": "code",
   "source": [
    "max_length = 4\n",
    "padded_docs = pad_sequences(encoded_docs, maxlen=max_length, padding='post')\n",
    "print(padded_docs)"
   ],
   "id": "40f582f29695aa18",
   "outputs": [
    {
     "name": "stdout",
     "output_type": "stream",
     "text": [
      "[[20 15  0  0]\n",
      " [15 33  0  0]\n",
      " [ 4 21  0  0]\n",
      " [14 11  0  0]\n",
      " [ 8 21 14  0]\n",
      " [18 22 44  0]\n",
      " [37 41 41  0]\n",
      " [44 35 30  0]\n",
      " [37 16  2  0]\n",
      " [22 48 41  0]]\n"
     ]
    }
   ],
   "execution_count": 6
  },
  {
   "metadata": {
    "ExecuteTime": {
     "end_time": "2024-11-19T05:42:27.449525Z",
     "start_time": "2024-11-19T05:42:27.028951Z"
    }
   },
   "cell_type": "code",
   "source": [
    "model = Sequential()\n",
    "model.add(Embedding(vocab_size, 8, input_length=max_length))\n",
    "model.add(Flatten())\n",
    "model.add(Dense(1, activation='sigmoid'))\n",
    "model.compile(optimizer='adam', loss='binary_crossentropy', metrics=['accuracy'])\n",
    "model.fit(padded_docs, labels, epochs=50, verbose=0)\n",
    "loss, accuracy = model.evaluate(padded_docs, labels, verbose=0)\n",
    "print('Accuracy=', accuracy)"
   ],
   "id": "6b54e1b3e458086a",
   "outputs": [
    {
     "name": "stdout",
     "output_type": "stream",
     "text": [
      "Accuracy= 1.0\n"
     ]
    }
   ],
   "execution_count": 7
  },
  {
   "metadata": {
    "ExecuteTime": {
     "end_time": "2024-11-19T05:42:45.093374Z",
     "start_time": "2024-11-19T05:42:45.029657Z"
    }
   },
   "cell_type": "code",
   "source": [
    "test_doc = ['big income']\n",
    "encoded_docs = [one_hot(d, vocab_size) for d in test_doc]\n",
    "padded_docs = pad_sequences(encoded_docs, maxlen=max_length, padding='post')\n",
    "print(model.predict(padded_docs))"
   ],
   "id": "5389004c5c5079e8",
   "outputs": [
    {
     "name": "stdout",
     "output_type": "stream",
     "text": [
      "1/1 [==============================] - 0s 32ms/step\n",
      "[[0.57640487]]\n"
     ]
    }
   ],
   "execution_count": 9
  },
  {
   "metadata": {
    "ExecuteTime": {
     "end_time": "2024-11-19T05:56:56.126809Z",
     "start_time": "2024-11-19T05:56:56.124489Z"
    }
   },
   "cell_type": "code",
   "source": [
    "import numpy as np\n",
    "from tensorflow.keras.models import Sequential\n",
    "from tensorflow.keras.layers import Embedding, Dense, LSTM\n",
    "from tensorflow.keras.preprocessing.text import Tokenizer\n",
    "\n",
    "# Sample text data\n",
    "text_data = \"\"\"Soft as the voice of an angel\n",
    "Breathing a lesson unhead\n",
    "Hope with a gentle persuasion\n",
    "Whispers her comforting word\n",
    "Wait till the darkness is over\n",
    "Wait till the tempest is done\n",
    "Hope for sunshine tomorrow\n",
    "After the shower\n",
    "\"\"\"\n"
   ],
   "id": "b24af2cbe3df924a",
   "outputs": [],
   "execution_count": 18
  },
  {
   "metadata": {
    "ExecuteTime": {
     "end_time": "2024-11-19T05:56:59.869242Z",
     "start_time": "2024-11-19T05:56:59.866264Z"
    }
   },
   "cell_type": "code",
   "source": [
    "# Tokenize and encode the text\n",
    "tokenizer = Tokenizer()\n",
    "tokenizer.fit_on_texts([text_data])\n",
    "encoded = tokenizer.texts_to_sequences([text_data])[0]\n",
    "vocab_size = len(tokenizer.word_index) + 1\n",
    "print('Vocabulary size:', vocab_size)"
   ],
   "id": "cca34146a55a4242",
   "outputs": [
    {
     "name": "stdout",
     "output_type": "stream",
     "text": [
      "Vocabulary size: 32\n"
     ]
    }
   ],
   "execution_count": 19
  },
  {
   "metadata": {
    "ExecuteTime": {
     "end_time": "2024-11-19T05:57:01.336553Z",
     "start_time": "2024-11-19T05:57:01.334327Z"
    }
   },
   "cell_type": "code",
   "source": [
    "print(tokenizer.word_index)\n",
    "vocab_size = len(tokenizer.word_index) + 1\n",
    "print('Vocabulary Size : %d' % vocab_size)"
   ],
   "id": "e161c731b8a59c36",
   "outputs": [
    {
     "name": "stdout",
     "output_type": "stream",
     "text": [
      "{'the': 1, 'a': 2, 'hope': 3, 'wait': 4, 'till': 5, 'is': 6, 'soft': 7, 'as': 8, 'voice': 9, 'of': 10, 'an': 11, 'angel': 12, 'breathing': 13, 'lesson': 14, 'unhead': 15, 'with': 16, 'gentle': 17, 'persuasion': 18, 'whispers': 19, 'her': 20, 'comforting': 21, 'word': 22, 'darkness': 23, 'over': 24, 'tempest': 25, 'done': 26, 'for': 27, 'sunshine': 28, 'tomorrow': 29, 'after': 30, 'shower': 31}\n",
      "Vocabulary Size : 32\n"
     ]
    }
   ],
   "execution_count": 20
  },
  {
   "metadata": {
    "ExecuteTime": {
     "end_time": "2024-11-19T05:57:05.969225Z",
     "start_time": "2024-11-19T05:57:05.966549Z"
    }
   },
   "cell_type": "code",
   "source": [
    "sequences = list()\n",
    "for i in range(1, len(encoded)):\n",
    "    sequence = encoded[i-1:i+1]\n",
    "sequences.append(sequence)\n",
    "print(sequences)\n",
    "print('Total Sequences : %d' % len(sequences))"
   ],
   "id": "69e7f3a88b7cc524",
   "outputs": [
    {
     "name": "stdout",
     "output_type": "stream",
     "text": [
      "[[1, 31]]\n",
      "Total Sequences : 1\n"
     ]
    }
   ],
   "execution_count": 21
  },
  {
   "metadata": {
    "ExecuteTime": {
     "end_time": "2024-11-19T05:57:07.205462Z",
     "start_time": "2024-11-19T05:57:07.202598Z"
    }
   },
   "cell_type": "code",
   "source": [
    "sequences = np.array(sequences)\n",
    "X, y = sequences[:,0],sequences[:,1]\n",
    "print(\"X=\", X)\n",
    "print(\"y=\", y)\n",
    "X = X.reshape((X.shape[0], 1)) # (samples, timesteps)"
   ],
   "id": "97940ff9043db8f0",
   "outputs": [
    {
     "name": "stdout",
     "output_type": "stream",
     "text": [
      "X= [1]\n",
      "y= [31]\n"
     ]
    }
   ],
   "execution_count": 22
  },
  {
   "metadata": {
    "ExecuteTime": {
     "end_time": "2024-11-19T05:57:08.339900Z",
     "start_time": "2024-11-19T05:57:08.221109Z"
    }
   },
   "cell_type": "code",
   "source": [
    "from tensorflow.keras.models import Sequential\n",
    "from tensorflow.keras.layers import Embedding, Dense, SimpleRNN, LSTM\n",
    "model = Sequential()\n",
    "model.add(Embedding(vocab_size, 10, input_length=1))\n",
    "model.add(LSTM(50))\n",
    "model.add(Dense(vocab_size, activation='softmax'))"
   ],
   "id": "7fadaa4796557a6b",
   "outputs": [],
   "execution_count": 23
  },
  {
   "metadata": {
    "ExecuteTime": {
     "end_time": "2024-11-19T05:57:12.205Z",
     "start_time": "2024-11-19T05:57:10.140988Z"
    }
   },
   "cell_type": "code",
   "source": [
    "model.compile(loss='sparse_categorical_crossentropy', optimizer='adam', metrics=['accuracy'])\n",
    "model.fit(X, y, epochs=500, verbose=2)"
   ],
   "id": "1b4e7fc99d1dde3e",
   "outputs": [
    {
     "name": "stdout",
     "output_type": "stream",
     "text": [
      "Epoch 1/500\n",
      "1/1 - 1s - loss: 3.4630 - accuracy: 0.0000e+00 - 767ms/epoch - 767ms/step\n",
      "Epoch 2/500\n",
      "1/1 - 0s - loss: 3.4587 - accuracy: 0.0000e+00 - 2ms/epoch - 2ms/step\n",
      "Epoch 3/500\n",
      "1/1 - 0s - loss: 3.4543 - accuracy: 1.0000 - 2ms/epoch - 2ms/step\n",
      "Epoch 4/500\n",
      "1/1 - 0s - loss: 3.4498 - accuracy: 1.0000 - 2ms/epoch - 2ms/step\n",
      "Epoch 5/500\n",
      "1/1 - 0s - loss: 3.4454 - accuracy: 1.0000 - 2ms/epoch - 2ms/step\n",
      "Epoch 6/500\n",
      "1/1 - 0s - loss: 3.4408 - accuracy: 1.0000 - 2ms/epoch - 2ms/step\n",
      "Epoch 7/500\n",
      "1/1 - 0s - loss: 3.4363 - accuracy: 1.0000 - 2ms/epoch - 2ms/step\n",
      "Epoch 8/500\n",
      "1/1 - 0s - loss: 3.4316 - accuracy: 1.0000 - 2ms/epoch - 2ms/step\n",
      "Epoch 9/500\n",
      "1/1 - 0s - loss: 3.4269 - accuracy: 1.0000 - 2ms/epoch - 2ms/step\n",
      "Epoch 10/500\n",
      "1/1 - 0s - loss: 3.4221 - accuracy: 1.0000 - 2ms/epoch - 2ms/step\n",
      "Epoch 11/500\n",
      "1/1 - 0s - loss: 3.4171 - accuracy: 1.0000 - 2ms/epoch - 2ms/step\n",
      "Epoch 12/500\n",
      "1/1 - 0s - loss: 3.4121 - accuracy: 1.0000 - 2ms/epoch - 2ms/step\n",
      "Epoch 13/500\n",
      "1/1 - 0s - loss: 3.4070 - accuracy: 1.0000 - 2ms/epoch - 2ms/step\n",
      "Epoch 14/500\n",
      "1/1 - 0s - loss: 3.4017 - accuracy: 1.0000 - 2ms/epoch - 2ms/step\n",
      "Epoch 15/500\n",
      "1/1 - 0s - loss: 3.3963 - accuracy: 1.0000 - 2ms/epoch - 2ms/step\n",
      "Epoch 16/500\n",
      "1/1 - 0s - loss: 3.3908 - accuracy: 1.0000 - 2ms/epoch - 2ms/step\n",
      "Epoch 17/500\n",
      "1/1 - 0s - loss: 3.3851 - accuracy: 1.0000 - 2ms/epoch - 2ms/step\n",
      "Epoch 18/500\n",
      "1/1 - 0s - loss: 3.3793 - accuracy: 1.0000 - 2ms/epoch - 2ms/step\n",
      "Epoch 19/500\n",
      "1/1 - 0s - loss: 3.3733 - accuracy: 1.0000 - 2ms/epoch - 2ms/step\n",
      "Epoch 20/500\n",
      "1/1 - 0s - loss: 3.3671 - accuracy: 1.0000 - 2ms/epoch - 2ms/step\n",
      "Epoch 21/500\n",
      "1/1 - 0s - loss: 3.3608 - accuracy: 1.0000 - 2ms/epoch - 2ms/step\n",
      "Epoch 22/500\n",
      "1/1 - 0s - loss: 3.3542 - accuracy: 1.0000 - 2ms/epoch - 2ms/step\n",
      "Epoch 23/500\n",
      "1/1 - 0s - loss: 3.3475 - accuracy: 1.0000 - 2ms/epoch - 2ms/step\n",
      "Epoch 24/500\n",
      "1/1 - 0s - loss: 3.3405 - accuracy: 1.0000 - 2ms/epoch - 2ms/step\n",
      "Epoch 25/500\n",
      "1/1 - 0s - loss: 3.3334 - accuracy: 1.0000 - 3ms/epoch - 3ms/step\n",
      "Epoch 26/500\n",
      "1/1 - 0s - loss: 3.3260 - accuracy: 1.0000 - 2ms/epoch - 2ms/step\n",
      "Epoch 27/500\n",
      "1/1 - 0s - loss: 3.3183 - accuracy: 1.0000 - 2ms/epoch - 2ms/step\n",
      "Epoch 28/500\n",
      "1/1 - 0s - loss: 3.3104 - accuracy: 1.0000 - 2ms/epoch - 2ms/step\n",
      "Epoch 29/500\n",
      "1/1 - 0s - loss: 3.3023 - accuracy: 1.0000 - 2ms/epoch - 2ms/step\n",
      "Epoch 30/500\n",
      "1/1 - 0s - loss: 3.2939 - accuracy: 1.0000 - 2ms/epoch - 2ms/step\n",
      "Epoch 31/500\n",
      "1/1 - 0s - loss: 3.2852 - accuracy: 1.0000 - 2ms/epoch - 2ms/step\n",
      "Epoch 32/500\n",
      "1/1 - 0s - loss: 3.2762 - accuracy: 1.0000 - 2ms/epoch - 2ms/step\n",
      "Epoch 33/500\n",
      "1/1 - 0s - loss: 3.2669 - accuracy: 1.0000 - 2ms/epoch - 2ms/step\n",
      "Epoch 34/500\n",
      "1/1 - 0s - loss: 3.2573 - accuracy: 1.0000 - 2ms/epoch - 2ms/step\n",
      "Epoch 35/500\n",
      "1/1 - 0s - loss: 3.2474 - accuracy: 1.0000 - 2ms/epoch - 2ms/step\n",
      "Epoch 36/500\n",
      "1/1 - 0s - loss: 3.2372 - accuracy: 1.0000 - 2ms/epoch - 2ms/step\n",
      "Epoch 37/500\n",
      "1/1 - 0s - loss: 3.2266 - accuracy: 1.0000 - 2ms/epoch - 2ms/step\n",
      "Epoch 38/500\n",
      "1/1 - 0s - loss: 3.2156 - accuracy: 1.0000 - 2ms/epoch - 2ms/step\n",
      "Epoch 39/500\n",
      "1/1 - 0s - loss: 3.2043 - accuracy: 1.0000 - 2ms/epoch - 2ms/step\n",
      "Epoch 40/500\n",
      "1/1 - 0s - loss: 3.1926 - accuracy: 1.0000 - 2ms/epoch - 2ms/step\n",
      "Epoch 41/500\n",
      "1/1 - 0s - loss: 3.1804 - accuracy: 1.0000 - 2ms/epoch - 2ms/step\n",
      "Epoch 42/500\n",
      "1/1 - 0s - loss: 3.1679 - accuracy: 1.0000 - 2ms/epoch - 2ms/step\n",
      "Epoch 43/500\n",
      "1/1 - 0s - loss: 3.1549 - accuracy: 1.0000 - 2ms/epoch - 2ms/step\n",
      "Epoch 44/500\n",
      "1/1 - 0s - loss: 3.1415 - accuracy: 1.0000 - 2ms/epoch - 2ms/step\n",
      "Epoch 45/500\n",
      "1/1 - 0s - loss: 3.1277 - accuracy: 1.0000 - 2ms/epoch - 2ms/step\n",
      "Epoch 46/500\n",
      "1/1 - 0s - loss: 3.1133 - accuracy: 1.0000 - 2ms/epoch - 2ms/step\n",
      "Epoch 47/500\n",
      "1/1 - 0s - loss: 3.0985 - accuracy: 1.0000 - 2ms/epoch - 2ms/step\n",
      "Epoch 48/500\n",
      "1/1 - 0s - loss: 3.0832 - accuracy: 1.0000 - 2ms/epoch - 2ms/step\n",
      "Epoch 49/500\n",
      "1/1 - 0s - loss: 3.0673 - accuracy: 1.0000 - 2ms/epoch - 2ms/step\n",
      "Epoch 50/500\n",
      "1/1 - 0s - loss: 3.0509 - accuracy: 1.0000 - 2ms/epoch - 2ms/step\n",
      "Epoch 51/500\n",
      "1/1 - 0s - loss: 3.0340 - accuracy: 1.0000 - 2ms/epoch - 2ms/step\n",
      "Epoch 52/500\n",
      "1/1 - 0s - loss: 3.0165 - accuracy: 1.0000 - 2ms/epoch - 2ms/step\n",
      "Epoch 53/500\n",
      "1/1 - 0s - loss: 2.9984 - accuracy: 1.0000 - 2ms/epoch - 2ms/step\n",
      "Epoch 54/500\n",
      "1/1 - 0s - loss: 2.9797 - accuracy: 1.0000 - 2ms/epoch - 2ms/step\n",
      "Epoch 55/500\n",
      "1/1 - 0s - loss: 2.9604 - accuracy: 1.0000 - 2ms/epoch - 2ms/step\n",
      "Epoch 56/500\n",
      "1/1 - 0s - loss: 2.9405 - accuracy: 1.0000 - 2ms/epoch - 2ms/step\n",
      "Epoch 57/500\n",
      "1/1 - 0s - loss: 2.9199 - accuracy: 1.0000 - 2ms/epoch - 2ms/step\n",
      "Epoch 58/500\n",
      "1/1 - 0s - loss: 2.8986 - accuracy: 1.0000 - 2ms/epoch - 2ms/step\n",
      "Epoch 59/500\n",
      "1/1 - 0s - loss: 2.8766 - accuracy: 1.0000 - 2ms/epoch - 2ms/step\n",
      "Epoch 60/500\n",
      "1/1 - 0s - loss: 2.8540 - accuracy: 1.0000 - 2ms/epoch - 2ms/step\n",
      "Epoch 61/500\n",
      "1/1 - 0s - loss: 2.8306 - accuracy: 1.0000 - 2ms/epoch - 2ms/step\n",
      "Epoch 62/500\n",
      "1/1 - 0s - loss: 2.8064 - accuracy: 1.0000 - 2ms/epoch - 2ms/step\n",
      "Epoch 63/500\n",
      "1/1 - 0s - loss: 2.7815 - accuracy: 1.0000 - 2ms/epoch - 2ms/step\n",
      "Epoch 64/500\n",
      "1/1 - 0s - loss: 2.7558 - accuracy: 1.0000 - 2ms/epoch - 2ms/step\n",
      "Epoch 65/500\n",
      "1/1 - 0s - loss: 2.7294 - accuracy: 1.0000 - 2ms/epoch - 2ms/step\n",
      "Epoch 66/500\n",
      "1/1 - 0s - loss: 2.7021 - accuracy: 1.0000 - 2ms/epoch - 2ms/step\n",
      "Epoch 67/500\n",
      "1/1 - 0s - loss: 2.6739 - accuracy: 1.0000 - 2ms/epoch - 2ms/step\n",
      "Epoch 68/500\n",
      "1/1 - 0s - loss: 2.6450 - accuracy: 1.0000 - 2ms/epoch - 2ms/step\n",
      "Epoch 69/500\n",
      "1/1 - 0s - loss: 2.6151 - accuracy: 1.0000 - 2ms/epoch - 2ms/step\n",
      "Epoch 70/500\n",
      "1/1 - 0s - loss: 2.5844 - accuracy: 1.0000 - 2ms/epoch - 2ms/step\n",
      "Epoch 71/500\n",
      "1/1 - 0s - loss: 2.5528 - accuracy: 1.0000 - 2ms/epoch - 2ms/step\n",
      "Epoch 72/500\n",
      "1/1 - 0s - loss: 2.5203 - accuracy: 1.0000 - 2ms/epoch - 2ms/step\n",
      "Epoch 73/500\n",
      "1/1 - 0s - loss: 2.4868 - accuracy: 1.0000 - 2ms/epoch - 2ms/step\n",
      "Epoch 74/500\n",
      "1/1 - 0s - loss: 2.4524 - accuracy: 1.0000 - 2ms/epoch - 2ms/step\n",
      "Epoch 75/500\n",
      "1/1 - 0s - loss: 2.4171 - accuracy: 1.0000 - 2ms/epoch - 2ms/step\n",
      "Epoch 76/500\n",
      "1/1 - 0s - loss: 2.3808 - accuracy: 1.0000 - 2ms/epoch - 2ms/step\n",
      "Epoch 77/500\n",
      "1/1 - 0s - loss: 2.3436 - accuracy: 1.0000 - 2ms/epoch - 2ms/step\n",
      "Epoch 78/500\n",
      "1/1 - 0s - loss: 2.3054 - accuracy: 1.0000 - 2ms/epoch - 2ms/step\n",
      "Epoch 79/500\n",
      "1/1 - 0s - loss: 2.2662 - accuracy: 1.0000 - 2ms/epoch - 2ms/step\n",
      "Epoch 80/500\n",
      "1/1 - 0s - loss: 2.2260 - accuracy: 1.0000 - 2ms/epoch - 2ms/step\n",
      "Epoch 81/500\n",
      "1/1 - 0s - loss: 2.1849 - accuracy: 1.0000 - 2ms/epoch - 2ms/step\n",
      "Epoch 82/500\n",
      "1/1 - 0s - loss: 2.1427 - accuracy: 1.0000 - 2ms/epoch - 2ms/step\n",
      "Epoch 83/500\n",
      "1/1 - 0s - loss: 2.0997 - accuracy: 1.0000 - 2ms/epoch - 2ms/step\n",
      "Epoch 84/500\n",
      "1/1 - 0s - loss: 2.0556 - accuracy: 1.0000 - 2ms/epoch - 2ms/step\n",
      "Epoch 85/500\n",
      "1/1 - 0s - loss: 2.0107 - accuracy: 1.0000 - 2ms/epoch - 2ms/step\n",
      "Epoch 86/500\n",
      "1/1 - 0s - loss: 1.9648 - accuracy: 1.0000 - 2ms/epoch - 2ms/step\n",
      "Epoch 87/500\n",
      "1/1 - 0s - loss: 1.9180 - accuracy: 1.0000 - 2ms/epoch - 2ms/step\n",
      "Epoch 88/500\n",
      "1/1 - 0s - loss: 1.8703 - accuracy: 1.0000 - 2ms/epoch - 2ms/step\n",
      "Epoch 89/500\n",
      "1/1 - 0s - loss: 1.8218 - accuracy: 1.0000 - 2ms/epoch - 2ms/step\n",
      "Epoch 90/500\n",
      "1/1 - 0s - loss: 1.7725 - accuracy: 1.0000 - 2ms/epoch - 2ms/step\n",
      "Epoch 91/500\n",
      "1/1 - 0s - loss: 1.7225 - accuracy: 1.0000 - 2ms/epoch - 2ms/step\n",
      "Epoch 92/500\n",
      "1/1 - 0s - loss: 1.6718 - accuracy: 1.0000 - 2ms/epoch - 2ms/step\n",
      "Epoch 93/500\n",
      "1/1 - 0s - loss: 1.6204 - accuracy: 1.0000 - 2ms/epoch - 2ms/step\n",
      "Epoch 94/500\n",
      "1/1 - 0s - loss: 1.5684 - accuracy: 1.0000 - 1ms/epoch - 1ms/step\n",
      "Epoch 95/500\n",
      "1/1 - 0s - loss: 1.5160 - accuracy: 1.0000 - 2ms/epoch - 2ms/step\n",
      "Epoch 96/500\n",
      "1/1 - 0s - loss: 1.4632 - accuracy: 1.0000 - 2ms/epoch - 2ms/step\n",
      "Epoch 97/500\n",
      "1/1 - 0s - loss: 1.4100 - accuracy: 1.0000 - 2ms/epoch - 2ms/step\n",
      "Epoch 98/500\n",
      "1/1 - 0s - loss: 1.3566 - accuracy: 1.0000 - 2ms/epoch - 2ms/step\n",
      "Epoch 99/500\n",
      "1/1 - 0s - loss: 1.3031 - accuracy: 1.0000 - 2ms/epoch - 2ms/step\n",
      "Epoch 100/500\n",
      "1/1 - 0s - loss: 1.2496 - accuracy: 1.0000 - 1ms/epoch - 1ms/step\n",
      "Epoch 101/500\n",
      "1/1 - 0s - loss: 1.1963 - accuracy: 1.0000 - 2ms/epoch - 2ms/step\n",
      "Epoch 102/500\n",
      "1/1 - 0s - loss: 1.1432 - accuracy: 1.0000 - 2ms/epoch - 2ms/step\n",
      "Epoch 103/500\n",
      "1/1 - 0s - loss: 1.0905 - accuracy: 1.0000 - 2ms/epoch - 2ms/step\n",
      "Epoch 104/500\n",
      "1/1 - 0s - loss: 1.0384 - accuracy: 1.0000 - 2ms/epoch - 2ms/step\n",
      "Epoch 105/500\n",
      "1/1 - 0s - loss: 0.9869 - accuracy: 1.0000 - 2ms/epoch - 2ms/step\n",
      "Epoch 106/500\n",
      "1/1 - 0s - loss: 0.9362 - accuracy: 1.0000 - 2ms/epoch - 2ms/step\n",
      "Epoch 107/500\n",
      "1/1 - 0s - loss: 0.8866 - accuracy: 1.0000 - 2ms/epoch - 2ms/step\n",
      "Epoch 108/500\n",
      "1/1 - 0s - loss: 0.8380 - accuracy: 1.0000 - 1ms/epoch - 1ms/step\n",
      "Epoch 109/500\n",
      "1/1 - 0s - loss: 0.7907 - accuracy: 1.0000 - 2ms/epoch - 2ms/step\n",
      "Epoch 110/500\n",
      "1/1 - 0s - loss: 0.7448 - accuracy: 1.0000 - 1ms/epoch - 1ms/step\n",
      "Epoch 111/500\n",
      "1/1 - 0s - loss: 0.7003 - accuracy: 1.0000 - 2ms/epoch - 2ms/step\n",
      "Epoch 112/500\n",
      "1/1 - 0s - loss: 0.6575 - accuracy: 1.0000 - 2ms/epoch - 2ms/step\n",
      "Epoch 113/500\n",
      "1/1 - 0s - loss: 0.6164 - accuracy: 1.0000 - 2ms/epoch - 2ms/step\n",
      "Epoch 114/500\n",
      "1/1 - 0s - loss: 0.5770 - accuracy: 1.0000 - 2ms/epoch - 2ms/step\n",
      "Epoch 115/500\n",
      "1/1 - 0s - loss: 0.5395 - accuracy: 1.0000 - 2ms/epoch - 2ms/step\n",
      "Epoch 116/500\n",
      "1/1 - 0s - loss: 0.5039 - accuracy: 1.0000 - 2ms/epoch - 2ms/step\n",
      "Epoch 117/500\n",
      "1/1 - 0s - loss: 0.4701 - accuracy: 1.0000 - 2ms/epoch - 2ms/step\n",
      "Epoch 118/500\n",
      "1/1 - 0s - loss: 0.4383 - accuracy: 1.0000 - 2ms/epoch - 2ms/step\n",
      "Epoch 119/500\n",
      "1/1 - 0s - loss: 0.4084 - accuracy: 1.0000 - 2ms/epoch - 2ms/step\n",
      "Epoch 120/500\n",
      "1/1 - 0s - loss: 0.3803 - accuracy: 1.0000 - 2ms/epoch - 2ms/step\n",
      "Epoch 121/500\n",
      "1/1 - 0s - loss: 0.3541 - accuracy: 1.0000 - 2ms/epoch - 2ms/step\n",
      "Epoch 122/500\n",
      "1/1 - 0s - loss: 0.3296 - accuracy: 1.0000 - 2ms/epoch - 2ms/step\n",
      "Epoch 123/500\n",
      "1/1 - 0s - loss: 0.3069 - accuracy: 1.0000 - 2ms/epoch - 2ms/step\n",
      "Epoch 124/500\n",
      "1/1 - 0s - loss: 0.2858 - accuracy: 1.0000 - 2ms/epoch - 2ms/step\n",
      "Epoch 125/500\n",
      "1/1 - 0s - loss: 0.2663 - accuracy: 1.0000 - 2ms/epoch - 2ms/step\n",
      "Epoch 126/500\n",
      "1/1 - 0s - loss: 0.2482 - accuracy: 1.0000 - 2ms/epoch - 2ms/step\n",
      "Epoch 127/500\n",
      "1/1 - 0s - loss: 0.2315 - accuracy: 1.0000 - 1ms/epoch - 1ms/step\n",
      "Epoch 128/500\n",
      "1/1 - 0s - loss: 0.2162 - accuracy: 1.0000 - 2ms/epoch - 2ms/step\n",
      "Epoch 129/500\n",
      "1/1 - 0s - loss: 0.2020 - accuracy: 1.0000 - 2ms/epoch - 2ms/step\n",
      "Epoch 130/500\n",
      "1/1 - 0s - loss: 0.1890 - accuracy: 1.0000 - 2ms/epoch - 2ms/step\n",
      "Epoch 131/500\n",
      "1/1 - 0s - loss: 0.1770 - accuracy: 1.0000 - 2ms/epoch - 2ms/step\n",
      "Epoch 132/500\n",
      "1/1 - 0s - loss: 0.1660 - accuracy: 1.0000 - 2ms/epoch - 2ms/step\n",
      "Epoch 133/500\n",
      "1/1 - 0s - loss: 0.1559 - accuracy: 1.0000 - 2ms/epoch - 2ms/step\n",
      "Epoch 134/500\n",
      "1/1 - 0s - loss: 0.1466 - accuracy: 1.0000 - 2ms/epoch - 2ms/step\n",
      "Epoch 135/500\n",
      "1/1 - 0s - loss: 0.1381 - accuracy: 1.0000 - 2ms/epoch - 2ms/step\n",
      "Epoch 136/500\n",
      "1/1 - 0s - loss: 0.1302 - accuracy: 1.0000 - 2ms/epoch - 2ms/step\n",
      "Epoch 137/500\n",
      "1/1 - 0s - loss: 0.1230 - accuracy: 1.0000 - 2ms/epoch - 2ms/step\n",
      "Epoch 138/500\n",
      "1/1 - 0s - loss: 0.1164 - accuracy: 1.0000 - 2ms/epoch - 2ms/step\n",
      "Epoch 139/500\n",
      "1/1 - 0s - loss: 0.1102 - accuracy: 1.0000 - 2ms/epoch - 2ms/step\n",
      "Epoch 140/500\n",
      "1/1 - 0s - loss: 0.1046 - accuracy: 1.0000 - 1ms/epoch - 1ms/step\n",
      "Epoch 141/500\n",
      "1/1 - 0s - loss: 0.0994 - accuracy: 1.0000 - 1ms/epoch - 1ms/step\n",
      "Epoch 142/500\n",
      "1/1 - 0s - loss: 0.0946 - accuracy: 1.0000 - 2ms/epoch - 2ms/step\n",
      "Epoch 143/500\n",
      "1/1 - 0s - loss: 0.0901 - accuracy: 1.0000 - 2ms/epoch - 2ms/step\n",
      "Epoch 144/500\n",
      "1/1 - 0s - loss: 0.0860 - accuracy: 1.0000 - 2ms/epoch - 2ms/step\n",
      "Epoch 145/500\n",
      "1/1 - 0s - loss: 0.0822 - accuracy: 1.0000 - 1ms/epoch - 1ms/step\n",
      "Epoch 146/500\n",
      "1/1 - 0s - loss: 0.0786 - accuracy: 1.0000 - 2ms/epoch - 2ms/step\n",
      "Epoch 147/500\n",
      "1/1 - 0s - loss: 0.0753 - accuracy: 1.0000 - 2ms/epoch - 2ms/step\n",
      "Epoch 148/500\n",
      "1/1 - 0s - loss: 0.0723 - accuracy: 1.0000 - 2ms/epoch - 2ms/step\n",
      "Epoch 149/500\n",
      "1/1 - 0s - loss: 0.0694 - accuracy: 1.0000 - 2ms/epoch - 2ms/step\n",
      "Epoch 150/500\n",
      "1/1 - 0s - loss: 0.0668 - accuracy: 1.0000 - 2ms/epoch - 2ms/step\n",
      "Epoch 151/500\n",
      "1/1 - 0s - loss: 0.0643 - accuracy: 1.0000 - 1ms/epoch - 1ms/step\n",
      "Epoch 152/500\n",
      "1/1 - 0s - loss: 0.0620 - accuracy: 1.0000 - 2ms/epoch - 2ms/step\n",
      "Epoch 153/500\n",
      "1/1 - 0s - loss: 0.0598 - accuracy: 1.0000 - 2ms/epoch - 2ms/step\n",
      "Epoch 154/500\n",
      "1/1 - 0s - loss: 0.0577 - accuracy: 1.0000 - 2ms/epoch - 2ms/step\n",
      "Epoch 155/500\n",
      "1/1 - 0s - loss: 0.0558 - accuracy: 1.0000 - 1ms/epoch - 1ms/step\n",
      "Epoch 156/500\n",
      "1/1 - 0s - loss: 0.0540 - accuracy: 1.0000 - 2ms/epoch - 2ms/step\n",
      "Epoch 157/500\n",
      "1/1 - 0s - loss: 0.0523 - accuracy: 1.0000 - 2ms/epoch - 2ms/step\n",
      "Epoch 158/500\n",
      "1/1 - 0s - loss: 0.0507 - accuracy: 1.0000 - 2ms/epoch - 2ms/step\n",
      "Epoch 159/500\n",
      "1/1 - 0s - loss: 0.0492 - accuracy: 1.0000 - 1ms/epoch - 1ms/step\n",
      "Epoch 160/500\n",
      "1/1 - 0s - loss: 0.0478 - accuracy: 1.0000 - 2ms/epoch - 2ms/step\n",
      "Epoch 161/500\n",
      "1/1 - 0s - loss: 0.0465 - accuracy: 1.0000 - 2ms/epoch - 2ms/step\n",
      "Epoch 162/500\n",
      "1/1 - 0s - loss: 0.0452 - accuracy: 1.0000 - 1ms/epoch - 1ms/step\n",
      "Epoch 163/500\n",
      "1/1 - 0s - loss: 0.0440 - accuracy: 1.0000 - 1ms/epoch - 1ms/step\n",
      "Epoch 164/500\n",
      "1/1 - 0s - loss: 0.0428 - accuracy: 1.0000 - 2ms/epoch - 2ms/step\n",
      "Epoch 165/500\n",
      "1/1 - 0s - loss: 0.0417 - accuracy: 1.0000 - 2ms/epoch - 2ms/step\n",
      "Epoch 166/500\n",
      "1/1 - 0s - loss: 0.0407 - accuracy: 1.0000 - 2ms/epoch - 2ms/step\n",
      "Epoch 167/500\n",
      "1/1 - 0s - loss: 0.0397 - accuracy: 1.0000 - 2ms/epoch - 2ms/step\n",
      "Epoch 168/500\n",
      "1/1 - 0s - loss: 0.0388 - accuracy: 1.0000 - 2ms/epoch - 2ms/step\n",
      "Epoch 169/500\n",
      "1/1 - 0s - loss: 0.0379 - accuracy: 1.0000 - 2ms/epoch - 2ms/step\n",
      "Epoch 170/500\n",
      "1/1 - 0s - loss: 0.0370 - accuracy: 1.0000 - 2ms/epoch - 2ms/step\n",
      "Epoch 171/500\n",
      "1/1 - 0s - loss: 0.0362 - accuracy: 1.0000 - 2ms/epoch - 2ms/step\n",
      "Epoch 172/500\n",
      "1/1 - 0s - loss: 0.0354 - accuracy: 1.0000 - 2ms/epoch - 2ms/step\n",
      "Epoch 173/500\n",
      "1/1 - 0s - loss: 0.0347 - accuracy: 1.0000 - 2ms/epoch - 2ms/step\n",
      "Epoch 174/500\n",
      "1/1 - 0s - loss: 0.0339 - accuracy: 1.0000 - 2ms/epoch - 2ms/step\n",
      "Epoch 175/500\n",
      "1/1 - 0s - loss: 0.0332 - accuracy: 1.0000 - 2ms/epoch - 2ms/step\n",
      "Epoch 176/500\n",
      "1/1 - 0s - loss: 0.0326 - accuracy: 1.0000 - 2ms/epoch - 2ms/step\n",
      "Epoch 177/500\n",
      "1/1 - 0s - loss: 0.0319 - accuracy: 1.0000 - 2ms/epoch - 2ms/step\n",
      "Epoch 178/500\n",
      "1/1 - 0s - loss: 0.0313 - accuracy: 1.0000 - 2ms/epoch - 2ms/step\n",
      "Epoch 179/500\n",
      "1/1 - 0s - loss: 0.0307 - accuracy: 1.0000 - 2ms/epoch - 2ms/step\n",
      "Epoch 180/500\n",
      "1/1 - 0s - loss: 0.0301 - accuracy: 1.0000 - 2ms/epoch - 2ms/step\n",
      "Epoch 181/500\n",
      "1/1 - 0s - loss: 0.0296 - accuracy: 1.0000 - 2ms/epoch - 2ms/step\n",
      "Epoch 182/500\n",
      "1/1 - 0s - loss: 0.0290 - accuracy: 1.0000 - 2ms/epoch - 2ms/step\n",
      "Epoch 183/500\n",
      "1/1 - 0s - loss: 0.0285 - accuracy: 1.0000 - 2ms/epoch - 2ms/step\n",
      "Epoch 184/500\n",
      "1/1 - 0s - loss: 0.0280 - accuracy: 1.0000 - 2ms/epoch - 2ms/step\n",
      "Epoch 185/500\n",
      "1/1 - 0s - loss: 0.0275 - accuracy: 1.0000 - 2ms/epoch - 2ms/step\n",
      "Epoch 186/500\n",
      "1/1 - 0s - loss: 0.0271 - accuracy: 1.0000 - 2ms/epoch - 2ms/step\n",
      "Epoch 187/500\n",
      "1/1 - 0s - loss: 0.0266 - accuracy: 1.0000 - 2ms/epoch - 2ms/step\n",
      "Epoch 188/500\n",
      "1/1 - 0s - loss: 0.0262 - accuracy: 1.0000 - 2ms/epoch - 2ms/step\n",
      "Epoch 189/500\n",
      "1/1 - 0s - loss: 0.0257 - accuracy: 1.0000 - 2ms/epoch - 2ms/step\n",
      "Epoch 190/500\n",
      "1/1 - 0s - loss: 0.0253 - accuracy: 1.0000 - 2ms/epoch - 2ms/step\n",
      "Epoch 191/500\n",
      "1/1 - 0s - loss: 0.0249 - accuracy: 1.0000 - 2ms/epoch - 2ms/step\n",
      "Epoch 192/500\n",
      "1/1 - 0s - loss: 0.0245 - accuracy: 1.0000 - 2ms/epoch - 2ms/step\n",
      "Epoch 193/500\n",
      "1/1 - 0s - loss: 0.0242 - accuracy: 1.0000 - 2ms/epoch - 2ms/step\n",
      "Epoch 194/500\n",
      "1/1 - 0s - loss: 0.0238 - accuracy: 1.0000 - 2ms/epoch - 2ms/step\n",
      "Epoch 195/500\n",
      "1/1 - 0s - loss: 0.0234 - accuracy: 1.0000 - 2ms/epoch - 2ms/step\n",
      "Epoch 196/500\n",
      "1/1 - 0s - loss: 0.0231 - accuracy: 1.0000 - 1ms/epoch - 1ms/step\n",
      "Epoch 197/500\n",
      "1/1 - 0s - loss: 0.0227 - accuracy: 1.0000 - 1ms/epoch - 1ms/step\n",
      "Epoch 198/500\n",
      "1/1 - 0s - loss: 0.0224 - accuracy: 1.0000 - 2ms/epoch - 2ms/step\n",
      "Epoch 199/500\n",
      "1/1 - 0s - loss: 0.0221 - accuracy: 1.0000 - 2ms/epoch - 2ms/step\n",
      "Epoch 200/500\n",
      "1/1 - 0s - loss: 0.0218 - accuracy: 1.0000 - 1ms/epoch - 1ms/step\n",
      "Epoch 201/500\n",
      "1/1 - 0s - loss: 0.0215 - accuracy: 1.0000 - 2ms/epoch - 2ms/step\n",
      "Epoch 202/500\n",
      "1/1 - 0s - loss: 0.0212 - accuracy: 1.0000 - 2ms/epoch - 2ms/step\n",
      "Epoch 203/500\n",
      "1/1 - 0s - loss: 0.0209 - accuracy: 1.0000 - 2ms/epoch - 2ms/step\n",
      "Epoch 204/500\n",
      "1/1 - 0s - loss: 0.0206 - accuracy: 1.0000 - 2ms/epoch - 2ms/step\n",
      "Epoch 205/500\n",
      "1/1 - 0s - loss: 0.0203 - accuracy: 1.0000 - 2ms/epoch - 2ms/step\n",
      "Epoch 206/500\n",
      "1/1 - 0s - loss: 0.0201 - accuracy: 1.0000 - 2ms/epoch - 2ms/step\n",
      "Epoch 207/500\n",
      "1/1 - 0s - loss: 0.0198 - accuracy: 1.0000 - 1ms/epoch - 1ms/step\n",
      "Epoch 208/500\n",
      "1/1 - 0s - loss: 0.0195 - accuracy: 1.0000 - 2ms/epoch - 2ms/step\n",
      "Epoch 209/500\n",
      "1/1 - 0s - loss: 0.0193 - accuracy: 1.0000 - 2ms/epoch - 2ms/step\n",
      "Epoch 210/500\n",
      "1/1 - 0s - loss: 0.0190 - accuracy: 1.0000 - 2ms/epoch - 2ms/step\n",
      "Epoch 211/500\n",
      "1/1 - 0s - loss: 0.0188 - accuracy: 1.0000 - 2ms/epoch - 2ms/step\n",
      "Epoch 212/500\n",
      "1/1 - 0s - loss: 0.0186 - accuracy: 1.0000 - 2ms/epoch - 2ms/step\n",
      "Epoch 213/500\n",
      "1/1 - 0s - loss: 0.0183 - accuracy: 1.0000 - 2ms/epoch - 2ms/step\n",
      "Epoch 214/500\n",
      "1/1 - 0s - loss: 0.0181 - accuracy: 1.0000 - 2ms/epoch - 2ms/step\n",
      "Epoch 215/500\n",
      "1/1 - 0s - loss: 0.0179 - accuracy: 1.0000 - 2ms/epoch - 2ms/step\n",
      "Epoch 216/500\n",
      "1/1 - 0s - loss: 0.0177 - accuracy: 1.0000 - 2ms/epoch - 2ms/step\n",
      "Epoch 217/500\n",
      "1/1 - 0s - loss: 0.0174 - accuracy: 1.0000 - 2ms/epoch - 2ms/step\n",
      "Epoch 218/500\n",
      "1/1 - 0s - loss: 0.0172 - accuracy: 1.0000 - 2ms/epoch - 2ms/step\n",
      "Epoch 219/500\n",
      "1/1 - 0s - loss: 0.0170 - accuracy: 1.0000 - 2ms/epoch - 2ms/step\n",
      "Epoch 220/500\n",
      "1/1 - 0s - loss: 0.0168 - accuracy: 1.0000 - 2ms/epoch - 2ms/step\n",
      "Epoch 221/500\n",
      "1/1 - 0s - loss: 0.0166 - accuracy: 1.0000 - 2ms/epoch - 2ms/step\n",
      "Epoch 222/500\n",
      "1/1 - 0s - loss: 0.0164 - accuracy: 1.0000 - 1ms/epoch - 1ms/step\n",
      "Epoch 223/500\n",
      "1/1 - 0s - loss: 0.0163 - accuracy: 1.0000 - 1ms/epoch - 1ms/step\n",
      "Epoch 224/500\n",
      "1/1 - 0s - loss: 0.0161 - accuracy: 1.0000 - 2ms/epoch - 2ms/step\n",
      "Epoch 225/500\n",
      "1/1 - 0s - loss: 0.0159 - accuracy: 1.0000 - 1ms/epoch - 1ms/step\n",
      "Epoch 226/500\n",
      "1/1 - 0s - loss: 0.0157 - accuracy: 1.0000 - 1ms/epoch - 1ms/step\n",
      "Epoch 227/500\n",
      "1/1 - 0s - loss: 0.0155 - accuracy: 1.0000 - 2ms/epoch - 2ms/step\n",
      "Epoch 228/500\n",
      "1/1 - 0s - loss: 0.0154 - accuracy: 1.0000 - 2ms/epoch - 2ms/step\n",
      "Epoch 229/500\n",
      "1/1 - 0s - loss: 0.0152 - accuracy: 1.0000 - 2ms/epoch - 2ms/step\n",
      "Epoch 230/500\n",
      "1/1 - 0s - loss: 0.0150 - accuracy: 1.0000 - 2ms/epoch - 2ms/step\n",
      "Epoch 231/500\n",
      "1/1 - 0s - loss: 0.0149 - accuracy: 1.0000 - 2ms/epoch - 2ms/step\n",
      "Epoch 232/500\n",
      "1/1 - 0s - loss: 0.0147 - accuracy: 1.0000 - 2ms/epoch - 2ms/step\n",
      "Epoch 233/500\n",
      "1/1 - 0s - loss: 0.0146 - accuracy: 1.0000 - 2ms/epoch - 2ms/step\n",
      "Epoch 234/500\n",
      "1/1 - 0s - loss: 0.0144 - accuracy: 1.0000 - 2ms/epoch - 2ms/step\n",
      "Epoch 235/500\n",
      "1/1 - 0s - loss: 0.0143 - accuracy: 1.0000 - 2ms/epoch - 2ms/step\n",
      "Epoch 236/500\n",
      "1/1 - 0s - loss: 0.0141 - accuracy: 1.0000 - 2ms/epoch - 2ms/step\n",
      "Epoch 237/500\n",
      "1/1 - 0s - loss: 0.0140 - accuracy: 1.0000 - 2ms/epoch - 2ms/step\n",
      "Epoch 238/500\n",
      "1/1 - 0s - loss: 0.0138 - accuracy: 1.0000 - 2ms/epoch - 2ms/step\n",
      "Epoch 239/500\n",
      "1/1 - 0s - loss: 0.0137 - accuracy: 1.0000 - 2ms/epoch - 2ms/step\n",
      "Epoch 240/500\n",
      "1/1 - 0s - loss: 0.0135 - accuracy: 1.0000 - 2ms/epoch - 2ms/step\n",
      "Epoch 241/500\n",
      "1/1 - 0s - loss: 0.0134 - accuracy: 1.0000 - 2ms/epoch - 2ms/step\n",
      "Epoch 242/500\n",
      "1/1 - 0s - loss: 0.0133 - accuracy: 1.0000 - 2ms/epoch - 2ms/step\n",
      "Epoch 243/500\n",
      "1/1 - 0s - loss: 0.0131 - accuracy: 1.0000 - 2ms/epoch - 2ms/step\n",
      "Epoch 244/500\n",
      "1/1 - 0s - loss: 0.0130 - accuracy: 1.0000 - 2ms/epoch - 2ms/step\n",
      "Epoch 245/500\n",
      "1/1 - 0s - loss: 0.0129 - accuracy: 1.0000 - 2ms/epoch - 2ms/step\n",
      "Epoch 246/500\n",
      "1/1 - 0s - loss: 0.0128 - accuracy: 1.0000 - 2ms/epoch - 2ms/step\n",
      "Epoch 247/500\n",
      "1/1 - 0s - loss: 0.0126 - accuracy: 1.0000 - 2ms/epoch - 2ms/step\n",
      "Epoch 248/500\n",
      "1/1 - 0s - loss: 0.0125 - accuracy: 1.0000 - 2ms/epoch - 2ms/step\n",
      "Epoch 249/500\n",
      "1/1 - 0s - loss: 0.0124 - accuracy: 1.0000 - 2ms/epoch - 2ms/step\n",
      "Epoch 250/500\n",
      "1/1 - 0s - loss: 0.0123 - accuracy: 1.0000 - 2ms/epoch - 2ms/step\n",
      "Epoch 251/500\n",
      "1/1 - 0s - loss: 0.0122 - accuracy: 1.0000 - 1ms/epoch - 1ms/step\n",
      "Epoch 252/500\n",
      "1/1 - 0s - loss: 0.0120 - accuracy: 1.0000 - 2ms/epoch - 2ms/step\n",
      "Epoch 253/500\n",
      "1/1 - 0s - loss: 0.0119 - accuracy: 1.0000 - 2ms/epoch - 2ms/step\n",
      "Epoch 254/500\n",
      "1/1 - 0s - loss: 0.0118 - accuracy: 1.0000 - 2ms/epoch - 2ms/step\n",
      "Epoch 255/500\n",
      "1/1 - 0s - loss: 0.0117 - accuracy: 1.0000 - 2ms/epoch - 2ms/step\n",
      "Epoch 256/500\n",
      "1/1 - 0s - loss: 0.0116 - accuracy: 1.0000 - 2ms/epoch - 2ms/step\n",
      "Epoch 257/500\n",
      "1/1 - 0s - loss: 0.0115 - accuracy: 1.0000 - 2ms/epoch - 2ms/step\n",
      "Epoch 258/500\n",
      "1/1 - 0s - loss: 0.0114 - accuracy: 1.0000 - 1ms/epoch - 1ms/step\n",
      "Epoch 259/500\n",
      "1/1 - 0s - loss: 0.0113 - accuracy: 1.0000 - 2ms/epoch - 2ms/step\n",
      "Epoch 260/500\n",
      "1/1 - 0s - loss: 0.0112 - accuracy: 1.0000 - 2ms/epoch - 2ms/step\n",
      "Epoch 261/500\n",
      "1/1 - 0s - loss: 0.0111 - accuracy: 1.0000 - 2ms/epoch - 2ms/step\n",
      "Epoch 262/500\n",
      "1/1 - 0s - loss: 0.0110 - accuracy: 1.0000 - 2ms/epoch - 2ms/step\n",
      "Epoch 263/500\n",
      "1/1 - 0s - loss: 0.0109 - accuracy: 1.0000 - 2ms/epoch - 2ms/step\n",
      "Epoch 264/500\n",
      "1/1 - 0s - loss: 0.0108 - accuracy: 1.0000 - 1ms/epoch - 1ms/step\n",
      "Epoch 265/500\n",
      "1/1 - 0s - loss: 0.0107 - accuracy: 1.0000 - 2ms/epoch - 2ms/step\n",
      "Epoch 266/500\n",
      "1/1 - 0s - loss: 0.0106 - accuracy: 1.0000 - 2ms/epoch - 2ms/step\n",
      "Epoch 267/500\n",
      "1/1 - 0s - loss: 0.0105 - accuracy: 1.0000 - 2ms/epoch - 2ms/step\n",
      "Epoch 268/500\n",
      "1/1 - 0s - loss: 0.0104 - accuracy: 1.0000 - 2ms/epoch - 2ms/step\n",
      "Epoch 269/500\n",
      "1/1 - 0s - loss: 0.0103 - accuracy: 1.0000 - 2ms/epoch - 2ms/step\n",
      "Epoch 270/500\n",
      "1/1 - 0s - loss: 0.0103 - accuracy: 1.0000 - 2ms/epoch - 2ms/step\n",
      "Epoch 271/500\n",
      "1/1 - 0s - loss: 0.0102 - accuracy: 1.0000 - 2ms/epoch - 2ms/step\n",
      "Epoch 272/500\n",
      "1/1 - 0s - loss: 0.0101 - accuracy: 1.0000 - 2ms/epoch - 2ms/step\n",
      "Epoch 273/500\n",
      "1/1 - 0s - loss: 0.0100 - accuracy: 1.0000 - 2ms/epoch - 2ms/step\n",
      "Epoch 274/500\n",
      "1/1 - 0s - loss: 0.0099 - accuracy: 1.0000 - 2ms/epoch - 2ms/step\n",
      "Epoch 275/500\n",
      "1/1 - 0s - loss: 0.0098 - accuracy: 1.0000 - 2ms/epoch - 2ms/step\n",
      "Epoch 276/500\n",
      "1/1 - 0s - loss: 0.0098 - accuracy: 1.0000 - 2ms/epoch - 2ms/step\n",
      "Epoch 277/500\n",
      "1/1 - 0s - loss: 0.0097 - accuracy: 1.0000 - 2ms/epoch - 2ms/step\n",
      "Epoch 278/500\n",
      "1/1 - 0s - loss: 0.0096 - accuracy: 1.0000 - 2ms/epoch - 2ms/step\n",
      "Epoch 279/500\n",
      "1/1 - 0s - loss: 0.0095 - accuracy: 1.0000 - 2ms/epoch - 2ms/step\n",
      "Epoch 280/500\n",
      "1/1 - 0s - loss: 0.0094 - accuracy: 1.0000 - 2ms/epoch - 2ms/step\n",
      "Epoch 281/500\n",
      "1/1 - 0s - loss: 0.0094 - accuracy: 1.0000 - 2ms/epoch - 2ms/step\n",
      "Epoch 282/500\n",
      "1/1 - 0s - loss: 0.0093 - accuracy: 1.0000 - 2ms/epoch - 2ms/step\n",
      "Epoch 283/500\n",
      "1/1 - 0s - loss: 0.0092 - accuracy: 1.0000 - 2ms/epoch - 2ms/step\n",
      "Epoch 284/500\n",
      "1/1 - 0s - loss: 0.0091 - accuracy: 1.0000 - 2ms/epoch - 2ms/step\n",
      "Epoch 285/500\n",
      "1/1 - 0s - loss: 0.0091 - accuracy: 1.0000 - 2ms/epoch - 2ms/step\n",
      "Epoch 286/500\n",
      "1/1 - 0s - loss: 0.0090 - accuracy: 1.0000 - 2ms/epoch - 2ms/step\n",
      "Epoch 287/500\n",
      "1/1 - 0s - loss: 0.0089 - accuracy: 1.0000 - 2ms/epoch - 2ms/step\n",
      "Epoch 288/500\n",
      "1/1 - 0s - loss: 0.0089 - accuracy: 1.0000 - 2ms/epoch - 2ms/step\n",
      "Epoch 289/500\n",
      "1/1 - 0s - loss: 0.0088 - accuracy: 1.0000 - 2ms/epoch - 2ms/step\n",
      "Epoch 290/500\n",
      "1/1 - 0s - loss: 0.0087 - accuracy: 1.0000 - 1ms/epoch - 1ms/step\n",
      "Epoch 291/500\n",
      "1/1 - 0s - loss: 0.0087 - accuracy: 1.0000 - 2ms/epoch - 2ms/step\n",
      "Epoch 292/500\n",
      "1/1 - 0s - loss: 0.0086 - accuracy: 1.0000 - 2ms/epoch - 2ms/step\n",
      "Epoch 293/500\n",
      "1/1 - 0s - loss: 0.0085 - accuracy: 1.0000 - 2ms/epoch - 2ms/step\n",
      "Epoch 294/500\n",
      "1/1 - 0s - loss: 0.0085 - accuracy: 1.0000 - 2ms/epoch - 2ms/step\n",
      "Epoch 295/500\n",
      "1/1 - 0s - loss: 0.0084 - accuracy: 1.0000 - 2ms/epoch - 2ms/step\n",
      "Epoch 296/500\n",
      "1/1 - 0s - loss: 0.0083 - accuracy: 1.0000 - 2ms/epoch - 2ms/step\n",
      "Epoch 297/500\n",
      "1/1 - 0s - loss: 0.0083 - accuracy: 1.0000 - 2ms/epoch - 2ms/step\n",
      "Epoch 298/500\n",
      "1/1 - 0s - loss: 0.0082 - accuracy: 1.0000 - 2ms/epoch - 2ms/step\n",
      "Epoch 299/500\n",
      "1/1 - 0s - loss: 0.0082 - accuracy: 1.0000 - 2ms/epoch - 2ms/step\n",
      "Epoch 300/500\n",
      "1/1 - 0s - loss: 0.0081 - accuracy: 1.0000 - 1ms/epoch - 1ms/step\n",
      "Epoch 301/500\n",
      "1/1 - 0s - loss: 0.0080 - accuracy: 1.0000 - 2ms/epoch - 2ms/step\n",
      "Epoch 302/500\n",
      "1/1 - 0s - loss: 0.0080 - accuracy: 1.0000 - 2ms/epoch - 2ms/step\n",
      "Epoch 303/500\n",
      "1/1 - 0s - loss: 0.0079 - accuracy: 1.0000 - 2ms/epoch - 2ms/step\n",
      "Epoch 304/500\n",
      "1/1 - 0s - loss: 0.0079 - accuracy: 1.0000 - 2ms/epoch - 2ms/step\n",
      "Epoch 305/500\n",
      "1/1 - 0s - loss: 0.0078 - accuracy: 1.0000 - 2ms/epoch - 2ms/step\n",
      "Epoch 306/500\n",
      "1/1 - 0s - loss: 0.0078 - accuracy: 1.0000 - 2ms/epoch - 2ms/step\n",
      "Epoch 307/500\n",
      "1/1 - 0s - loss: 0.0077 - accuracy: 1.0000 - 2ms/epoch - 2ms/step\n",
      "Epoch 308/500\n",
      "1/1 - 0s - loss: 0.0077 - accuracy: 1.0000 - 2ms/epoch - 2ms/step\n",
      "Epoch 309/500\n",
      "1/1 - 0s - loss: 0.0076 - accuracy: 1.0000 - 2ms/epoch - 2ms/step\n",
      "Epoch 310/500\n",
      "1/1 - 0s - loss: 0.0075 - accuracy: 1.0000 - 2ms/epoch - 2ms/step\n",
      "Epoch 311/500\n",
      "1/1 - 0s - loss: 0.0075 - accuracy: 1.0000 - 2ms/epoch - 2ms/step\n",
      "Epoch 312/500\n",
      "1/1 - 0s - loss: 0.0074 - accuracy: 1.0000 - 2ms/epoch - 2ms/step\n",
      "Epoch 313/500\n",
      "1/1 - 0s - loss: 0.0074 - accuracy: 1.0000 - 2ms/epoch - 2ms/step\n",
      "Epoch 314/500\n",
      "1/1 - 0s - loss: 0.0073 - accuracy: 1.0000 - 2ms/epoch - 2ms/step\n",
      "Epoch 315/500\n",
      "1/1 - 0s - loss: 0.0073 - accuracy: 1.0000 - 2ms/epoch - 2ms/step\n",
      "Epoch 316/500\n",
      "1/1 - 0s - loss: 0.0072 - accuracy: 1.0000 - 2ms/epoch - 2ms/step\n",
      "Epoch 317/500\n",
      "1/1 - 0s - loss: 0.0072 - accuracy: 1.0000 - 2ms/epoch - 2ms/step\n",
      "Epoch 318/500\n",
      "1/1 - 0s - loss: 0.0071 - accuracy: 1.0000 - 2ms/epoch - 2ms/step\n",
      "Epoch 319/500\n",
      "1/1 - 0s - loss: 0.0071 - accuracy: 1.0000 - 2ms/epoch - 2ms/step\n",
      "Epoch 320/500\n",
      "1/1 - 0s - loss: 0.0070 - accuracy: 1.0000 - 2ms/epoch - 2ms/step\n",
      "Epoch 321/500\n",
      "1/1 - 0s - loss: 0.0070 - accuracy: 1.0000 - 2ms/epoch - 2ms/step\n",
      "Epoch 322/500\n",
      "1/1 - 0s - loss: 0.0070 - accuracy: 1.0000 - 2ms/epoch - 2ms/step\n",
      "Epoch 323/500\n",
      "1/1 - 0s - loss: 0.0069 - accuracy: 1.0000 - 2ms/epoch - 2ms/step\n",
      "Epoch 324/500\n",
      "1/1 - 0s - loss: 0.0069 - accuracy: 1.0000 - 2ms/epoch - 2ms/step\n",
      "Epoch 325/500\n",
      "1/1 - 0s - loss: 0.0068 - accuracy: 1.0000 - 2ms/epoch - 2ms/step\n",
      "Epoch 326/500\n",
      "1/1 - 0s - loss: 0.0068 - accuracy: 1.0000 - 2ms/epoch - 2ms/step\n",
      "Epoch 327/500\n",
      "1/1 - 0s - loss: 0.0067 - accuracy: 1.0000 - 2ms/epoch - 2ms/step\n",
      "Epoch 328/500\n",
      "1/1 - 0s - loss: 0.0067 - accuracy: 1.0000 - 2ms/epoch - 2ms/step\n",
      "Epoch 329/500\n",
      "1/1 - 0s - loss: 0.0066 - accuracy: 1.0000 - 2ms/epoch - 2ms/step\n",
      "Epoch 330/500\n",
      "1/1 - 0s - loss: 0.0066 - accuracy: 1.0000 - 2ms/epoch - 2ms/step\n",
      "Epoch 331/500\n",
      "1/1 - 0s - loss: 0.0066 - accuracy: 1.0000 - 2ms/epoch - 2ms/step\n",
      "Epoch 332/500\n",
      "1/1 - 0s - loss: 0.0065 - accuracy: 1.0000 - 1ms/epoch - 1ms/step\n",
      "Epoch 333/500\n",
      "1/1 - 0s - loss: 0.0065 - accuracy: 1.0000 - 2ms/epoch - 2ms/step\n",
      "Epoch 334/500\n",
      "1/1 - 0s - loss: 0.0064 - accuracy: 1.0000 - 2ms/epoch - 2ms/step\n",
      "Epoch 335/500\n",
      "1/1 - 0s - loss: 0.0064 - accuracy: 1.0000 - 2ms/epoch - 2ms/step\n",
      "Epoch 336/500\n",
      "1/1 - 0s - loss: 0.0063 - accuracy: 1.0000 - 2ms/epoch - 2ms/step\n",
      "Epoch 337/500\n",
      "1/1 - 0s - loss: 0.0063 - accuracy: 1.0000 - 2ms/epoch - 2ms/step\n",
      "Epoch 338/500\n",
      "1/1 - 0s - loss: 0.0063 - accuracy: 1.0000 - 2ms/epoch - 2ms/step\n",
      "Epoch 339/500\n",
      "1/1 - 0s - loss: 0.0062 - accuracy: 1.0000 - 2ms/epoch - 2ms/step\n",
      "Epoch 340/500\n",
      "1/1 - 0s - loss: 0.0062 - accuracy: 1.0000 - 1ms/epoch - 1ms/step\n",
      "Epoch 341/500\n",
      "1/1 - 0s - loss: 0.0062 - accuracy: 1.0000 - 2ms/epoch - 2ms/step\n",
      "Epoch 342/500\n",
      "1/1 - 0s - loss: 0.0061 - accuracy: 1.0000 - 2ms/epoch - 2ms/step\n",
      "Epoch 343/500\n",
      "1/1 - 0s - loss: 0.0061 - accuracy: 1.0000 - 2ms/epoch - 2ms/step\n",
      "Epoch 344/500\n",
      "1/1 - 0s - loss: 0.0060 - accuracy: 1.0000 - 2ms/epoch - 2ms/step\n",
      "Epoch 345/500\n",
      "1/1 - 0s - loss: 0.0060 - accuracy: 1.0000 - 2ms/epoch - 2ms/step\n",
      "Epoch 346/500\n",
      "1/1 - 0s - loss: 0.0060 - accuracy: 1.0000 - 2ms/epoch - 2ms/step\n",
      "Epoch 347/500\n",
      "1/1 - 0s - loss: 0.0059 - accuracy: 1.0000 - 2ms/epoch - 2ms/step\n",
      "Epoch 348/500\n",
      "1/1 - 0s - loss: 0.0059 - accuracy: 1.0000 - 2ms/epoch - 2ms/step\n",
      "Epoch 349/500\n",
      "1/1 - 0s - loss: 0.0059 - accuracy: 1.0000 - 2ms/epoch - 2ms/step\n",
      "Epoch 350/500\n",
      "1/1 - 0s - loss: 0.0058 - accuracy: 1.0000 - 2ms/epoch - 2ms/step\n",
      "Epoch 351/500\n",
      "1/1 - 0s - loss: 0.0058 - accuracy: 1.0000 - 2ms/epoch - 2ms/step\n",
      "Epoch 352/500\n",
      "1/1 - 0s - loss: 0.0058 - accuracy: 1.0000 - 2ms/epoch - 2ms/step\n",
      "Epoch 353/500\n",
      "1/1 - 0s - loss: 0.0057 - accuracy: 1.0000 - 2ms/epoch - 2ms/step\n",
      "Epoch 354/500\n",
      "1/1 - 0s - loss: 0.0057 - accuracy: 1.0000 - 1ms/epoch - 1ms/step\n",
      "Epoch 355/500\n",
      "1/1 - 0s - loss: 0.0057 - accuracy: 1.0000 - 2ms/epoch - 2ms/step\n",
      "Epoch 356/500\n",
      "1/1 - 0s - loss: 0.0056 - accuracy: 1.0000 - 2ms/epoch - 2ms/step\n",
      "Epoch 357/500\n",
      "1/1 - 0s - loss: 0.0056 - accuracy: 1.0000 - 2ms/epoch - 2ms/step\n",
      "Epoch 358/500\n",
      "1/1 - 0s - loss: 0.0056 - accuracy: 1.0000 - 2ms/epoch - 2ms/step\n",
      "Epoch 359/500\n",
      "1/1 - 0s - loss: 0.0055 - accuracy: 1.0000 - 2ms/epoch - 2ms/step\n",
      "Epoch 360/500\n",
      "1/1 - 0s - loss: 0.0055 - accuracy: 1.0000 - 2ms/epoch - 2ms/step\n",
      "Epoch 361/500\n",
      "1/1 - 0s - loss: 0.0055 - accuracy: 1.0000 - 2ms/epoch - 2ms/step\n",
      "Epoch 362/500\n",
      "1/1 - 0s - loss: 0.0054 - accuracy: 1.0000 - 2ms/epoch - 2ms/step\n",
      "Epoch 363/500\n",
      "1/1 - 0s - loss: 0.0054 - accuracy: 1.0000 - 2ms/epoch - 2ms/step\n",
      "Epoch 364/500\n",
      "1/1 - 0s - loss: 0.0054 - accuracy: 1.0000 - 2ms/epoch - 2ms/step\n",
      "Epoch 365/500\n",
      "1/1 - 0s - loss: 0.0053 - accuracy: 1.0000 - 2ms/epoch - 2ms/step\n",
      "Epoch 366/500\n",
      "1/1 - 0s - loss: 0.0053 - accuracy: 1.0000 - 2ms/epoch - 2ms/step\n",
      "Epoch 367/500\n",
      "1/1 - 0s - loss: 0.0053 - accuracy: 1.0000 - 2ms/epoch - 2ms/step\n",
      "Epoch 368/500\n",
      "1/1 - 0s - loss: 0.0052 - accuracy: 1.0000 - 2ms/epoch - 2ms/step\n",
      "Epoch 369/500\n",
      "1/1 - 0s - loss: 0.0052 - accuracy: 1.0000 - 2ms/epoch - 2ms/step\n",
      "Epoch 370/500\n",
      "1/1 - 0s - loss: 0.0052 - accuracy: 1.0000 - 2ms/epoch - 2ms/step\n",
      "Epoch 371/500\n",
      "1/1 - 0s - loss: 0.0052 - accuracy: 1.0000 - 1ms/epoch - 1ms/step\n",
      "Epoch 372/500\n",
      "1/1 - 0s - loss: 0.0051 - accuracy: 1.0000 - 1ms/epoch - 1ms/step\n",
      "Epoch 373/500\n",
      "1/1 - 0s - loss: 0.0051 - accuracy: 1.0000 - 2ms/epoch - 2ms/step\n",
      "Epoch 374/500\n",
      "1/1 - 0s - loss: 0.0051 - accuracy: 1.0000 - 2ms/epoch - 2ms/step\n",
      "Epoch 375/500\n",
      "1/1 - 0s - loss: 0.0050 - accuracy: 1.0000 - 2ms/epoch - 2ms/step\n",
      "Epoch 376/500\n",
      "1/1 - 0s - loss: 0.0050 - accuracy: 1.0000 - 2ms/epoch - 2ms/step\n",
      "Epoch 377/500\n",
      "1/1 - 0s - loss: 0.0050 - accuracy: 1.0000 - 2ms/epoch - 2ms/step\n",
      "Epoch 378/500\n",
      "1/1 - 0s - loss: 0.0050 - accuracy: 1.0000 - 2ms/epoch - 2ms/step\n",
      "Epoch 379/500\n",
      "1/1 - 0s - loss: 0.0049 - accuracy: 1.0000 - 2ms/epoch - 2ms/step\n",
      "Epoch 380/500\n",
      "1/1 - 0s - loss: 0.0049 - accuracy: 1.0000 - 2ms/epoch - 2ms/step\n",
      "Epoch 381/500\n",
      "1/1 - 0s - loss: 0.0049 - accuracy: 1.0000 - 2ms/epoch - 2ms/step\n",
      "Epoch 382/500\n",
      "1/1 - 0s - loss: 0.0049 - accuracy: 1.0000 - 2ms/epoch - 2ms/step\n",
      "Epoch 383/500\n",
      "1/1 - 0s - loss: 0.0048 - accuracy: 1.0000 - 2ms/epoch - 2ms/step\n",
      "Epoch 384/500\n",
      "1/1 - 0s - loss: 0.0048 - accuracy: 1.0000 - 2ms/epoch - 2ms/step\n",
      "Epoch 385/500\n",
      "1/1 - 0s - loss: 0.0048 - accuracy: 1.0000 - 2ms/epoch - 2ms/step\n",
      "Epoch 386/500\n",
      "1/1 - 0s - loss: 0.0048 - accuracy: 1.0000 - 2ms/epoch - 2ms/step\n",
      "Epoch 387/500\n",
      "1/1 - 0s - loss: 0.0047 - accuracy: 1.0000 - 2ms/epoch - 2ms/step\n",
      "Epoch 388/500\n",
      "1/1 - 0s - loss: 0.0047 - accuracy: 1.0000 - 2ms/epoch - 2ms/step\n",
      "Epoch 389/500\n",
      "1/1 - 0s - loss: 0.0047 - accuracy: 1.0000 - 2ms/epoch - 2ms/step\n",
      "Epoch 390/500\n",
      "1/1 - 0s - loss: 0.0047 - accuracy: 1.0000 - 2ms/epoch - 2ms/step\n",
      "Epoch 391/500\n",
      "1/1 - 0s - loss: 0.0046 - accuracy: 1.0000 - 2ms/epoch - 2ms/step\n",
      "Epoch 392/500\n",
      "1/1 - 0s - loss: 0.0046 - accuracy: 1.0000 - 2ms/epoch - 2ms/step\n",
      "Epoch 393/500\n",
      "1/1 - 0s - loss: 0.0046 - accuracy: 1.0000 - 2ms/epoch - 2ms/step\n",
      "Epoch 394/500\n",
      "1/1 - 0s - loss: 0.0046 - accuracy: 1.0000 - 2ms/epoch - 2ms/step\n",
      "Epoch 395/500\n",
      "1/1 - 0s - loss: 0.0045 - accuracy: 1.0000 - 2ms/epoch - 2ms/step\n",
      "Epoch 396/500\n",
      "1/1 - 0s - loss: 0.0045 - accuracy: 1.0000 - 2ms/epoch - 2ms/step\n",
      "Epoch 397/500\n",
      "1/1 - 0s - loss: 0.0045 - accuracy: 1.0000 - 2ms/epoch - 2ms/step\n",
      "Epoch 398/500\n",
      "1/1 - 0s - loss: 0.0045 - accuracy: 1.0000 - 2ms/epoch - 2ms/step\n",
      "Epoch 399/500\n",
      "1/1 - 0s - loss: 0.0044 - accuracy: 1.0000 - 2ms/epoch - 2ms/step\n",
      "Epoch 400/500\n",
      "1/1 - 0s - loss: 0.0044 - accuracy: 1.0000 - 2ms/epoch - 2ms/step\n",
      "Epoch 401/500\n",
      "1/1 - 0s - loss: 0.0044 - accuracy: 1.0000 - 2ms/epoch - 2ms/step\n",
      "Epoch 402/500\n",
      "1/1 - 0s - loss: 0.0044 - accuracy: 1.0000 - 2ms/epoch - 2ms/step\n",
      "Epoch 403/500\n",
      "1/1 - 0s - loss: 0.0044 - accuracy: 1.0000 - 2ms/epoch - 2ms/step\n",
      "Epoch 404/500\n",
      "1/1 - 0s - loss: 0.0043 - accuracy: 1.0000 - 2ms/epoch - 2ms/step\n",
      "Epoch 405/500\n",
      "1/1 - 0s - loss: 0.0043 - accuracy: 1.0000 - 2ms/epoch - 2ms/step\n",
      "Epoch 406/500\n",
      "1/1 - 0s - loss: 0.0043 - accuracy: 1.0000 - 1ms/epoch - 1ms/step\n",
      "Epoch 407/500\n",
      "1/1 - 0s - loss: 0.0043 - accuracy: 1.0000 - 2ms/epoch - 2ms/step\n",
      "Epoch 408/500\n",
      "1/1 - 0s - loss: 0.0043 - accuracy: 1.0000 - 2ms/epoch - 2ms/step\n",
      "Epoch 409/500\n",
      "1/1 - 0s - loss: 0.0042 - accuracy: 1.0000 - 2ms/epoch - 2ms/step\n",
      "Epoch 410/500\n",
      "1/1 - 0s - loss: 0.0042 - accuracy: 1.0000 - 2ms/epoch - 2ms/step\n",
      "Epoch 411/500\n",
      "1/1 - 0s - loss: 0.0042 - accuracy: 1.0000 - 2ms/epoch - 2ms/step\n",
      "Epoch 412/500\n",
      "1/1 - 0s - loss: 0.0042 - accuracy: 1.0000 - 2ms/epoch - 2ms/step\n",
      "Epoch 413/500\n",
      "1/1 - 0s - loss: 0.0041 - accuracy: 1.0000 - 2ms/epoch - 2ms/step\n",
      "Epoch 414/500\n",
      "1/1 - 0s - loss: 0.0041 - accuracy: 1.0000 - 2ms/epoch - 2ms/step\n",
      "Epoch 415/500\n",
      "1/1 - 0s - loss: 0.0041 - accuracy: 1.0000 - 2ms/epoch - 2ms/step\n",
      "Epoch 416/500\n",
      "1/1 - 0s - loss: 0.0041 - accuracy: 1.0000 - 2ms/epoch - 2ms/step\n",
      "Epoch 417/500\n",
      "1/1 - 0s - loss: 0.0041 - accuracy: 1.0000 - 2ms/epoch - 2ms/step\n",
      "Epoch 418/500\n",
      "1/1 - 0s - loss: 0.0040 - accuracy: 1.0000 - 1ms/epoch - 1ms/step\n",
      "Epoch 419/500\n",
      "1/1 - 0s - loss: 0.0040 - accuracy: 1.0000 - 1ms/epoch - 1ms/step\n",
      "Epoch 420/500\n",
      "1/1 - 0s - loss: 0.0040 - accuracy: 1.0000 - 1ms/epoch - 1ms/step\n",
      "Epoch 421/500\n",
      "1/1 - 0s - loss: 0.0040 - accuracy: 1.0000 - 2ms/epoch - 2ms/step\n",
      "Epoch 422/500\n",
      "1/1 - 0s - loss: 0.0040 - accuracy: 1.0000 - 2ms/epoch - 2ms/step\n",
      "Epoch 423/500\n",
      "1/1 - 0s - loss: 0.0040 - accuracy: 1.0000 - 2ms/epoch - 2ms/step\n",
      "Epoch 424/500\n",
      "1/1 - 0s - loss: 0.0039 - accuracy: 1.0000 - 2ms/epoch - 2ms/step\n",
      "Epoch 425/500\n",
      "1/1 - 0s - loss: 0.0039 - accuracy: 1.0000 - 2ms/epoch - 2ms/step\n",
      "Epoch 426/500\n",
      "1/1 - 0s - loss: 0.0039 - accuracy: 1.0000 - 2ms/epoch - 2ms/step\n",
      "Epoch 427/500\n",
      "1/1 - 0s - loss: 0.0039 - accuracy: 1.0000 - 1ms/epoch - 1ms/step\n",
      "Epoch 428/500\n",
      "1/1 - 0s - loss: 0.0039 - accuracy: 1.0000 - 2ms/epoch - 2ms/step\n",
      "Epoch 429/500\n",
      "1/1 - 0s - loss: 0.0038 - accuracy: 1.0000 - 2ms/epoch - 2ms/step\n",
      "Epoch 430/500\n",
      "1/1 - 0s - loss: 0.0038 - accuracy: 1.0000 - 2ms/epoch - 2ms/step\n",
      "Epoch 431/500\n",
      "1/1 - 0s - loss: 0.0038 - accuracy: 1.0000 - 2ms/epoch - 2ms/step\n",
      "Epoch 432/500\n",
      "1/1 - 0s - loss: 0.0038 - accuracy: 1.0000 - 2ms/epoch - 2ms/step\n",
      "Epoch 433/500\n",
      "1/1 - 0s - loss: 0.0038 - accuracy: 1.0000 - 1ms/epoch - 1ms/step\n",
      "Epoch 434/500\n",
      "1/1 - 0s - loss: 0.0038 - accuracy: 1.0000 - 2ms/epoch - 2ms/step\n",
      "Epoch 435/500\n",
      "1/1 - 0s - loss: 0.0037 - accuracy: 1.0000 - 2ms/epoch - 2ms/step\n",
      "Epoch 436/500\n",
      "1/1 - 0s - loss: 0.0037 - accuracy: 1.0000 - 2ms/epoch - 2ms/step\n",
      "Epoch 437/500\n",
      "1/1 - 0s - loss: 0.0037 - accuracy: 1.0000 - 2ms/epoch - 2ms/step\n",
      "Epoch 438/500\n",
      "1/1 - 0s - loss: 0.0037 - accuracy: 1.0000 - 2ms/epoch - 2ms/step\n",
      "Epoch 439/500\n",
      "1/1 - 0s - loss: 0.0037 - accuracy: 1.0000 - 2ms/epoch - 2ms/step\n",
      "Epoch 440/500\n",
      "1/1 - 0s - loss: 0.0037 - accuracy: 1.0000 - 2ms/epoch - 2ms/step\n",
      "Epoch 441/500\n",
      "1/1 - 0s - loss: 0.0036 - accuracy: 1.0000 - 2ms/epoch - 2ms/step\n",
      "Epoch 442/500\n",
      "1/1 - 0s - loss: 0.0036 - accuracy: 1.0000 - 1ms/epoch - 1ms/step\n",
      "Epoch 443/500\n",
      "1/1 - 0s - loss: 0.0036 - accuracy: 1.0000 - 2ms/epoch - 2ms/step\n",
      "Epoch 444/500\n",
      "1/1 - 0s - loss: 0.0036 - accuracy: 1.0000 - 1ms/epoch - 1ms/step\n",
      "Epoch 445/500\n",
      "1/1 - 0s - loss: 0.0036 - accuracy: 1.0000 - 2ms/epoch - 2ms/step\n",
      "Epoch 446/500\n",
      "1/1 - 0s - loss: 0.0036 - accuracy: 1.0000 - 1ms/epoch - 1ms/step\n",
      "Epoch 447/500\n",
      "1/1 - 0s - loss: 0.0035 - accuracy: 1.0000 - 1ms/epoch - 1ms/step\n",
      "Epoch 448/500\n",
      "1/1 - 0s - loss: 0.0035 - accuracy: 1.0000 - 2ms/epoch - 2ms/step\n",
      "Epoch 449/500\n",
      "1/1 - 0s - loss: 0.0035 - accuracy: 1.0000 - 2ms/epoch - 2ms/step\n",
      "Epoch 450/500\n",
      "1/1 - 0s - loss: 0.0035 - accuracy: 1.0000 - 1ms/epoch - 1ms/step\n",
      "Epoch 451/500\n",
      "1/1 - 0s - loss: 0.0035 - accuracy: 1.0000 - 2ms/epoch - 2ms/step\n",
      "Epoch 452/500\n",
      "1/1 - 0s - loss: 0.0035 - accuracy: 1.0000 - 2ms/epoch - 2ms/step\n",
      "Epoch 453/500\n",
      "1/1 - 0s - loss: 0.0034 - accuracy: 1.0000 - 2ms/epoch - 2ms/step\n",
      "Epoch 454/500\n",
      "1/1 - 0s - loss: 0.0034 - accuracy: 1.0000 - 2ms/epoch - 2ms/step\n",
      "Epoch 455/500\n",
      "1/1 - 0s - loss: 0.0034 - accuracy: 1.0000 - 2ms/epoch - 2ms/step\n",
      "Epoch 456/500\n",
      "1/1 - 0s - loss: 0.0034 - accuracy: 1.0000 - 2ms/epoch - 2ms/step\n",
      "Epoch 457/500\n",
      "1/1 - 0s - loss: 0.0034 - accuracy: 1.0000 - 2ms/epoch - 2ms/step\n",
      "Epoch 458/500\n",
      "1/1 - 0s - loss: 0.0034 - accuracy: 1.0000 - 1ms/epoch - 1ms/step\n",
      "Epoch 459/500\n",
      "1/1 - 0s - loss: 0.0034 - accuracy: 1.0000 - 1ms/epoch - 1ms/step\n",
      "Epoch 460/500\n",
      "1/1 - 0s - loss: 0.0033 - accuracy: 1.0000 - 2ms/epoch - 2ms/step\n",
      "Epoch 461/500\n",
      "1/1 - 0s - loss: 0.0033 - accuracy: 1.0000 - 2ms/epoch - 2ms/step\n",
      "Epoch 462/500\n",
      "1/1 - 0s - loss: 0.0033 - accuracy: 1.0000 - 2ms/epoch - 2ms/step\n",
      "Epoch 463/500\n",
      "1/1 - 0s - loss: 0.0033 - accuracy: 1.0000 - 2ms/epoch - 2ms/step\n",
      "Epoch 464/500\n",
      "1/1 - 0s - loss: 0.0033 - accuracy: 1.0000 - 2ms/epoch - 2ms/step\n",
      "Epoch 465/500\n",
      "1/1 - 0s - loss: 0.0033 - accuracy: 1.0000 - 2ms/epoch - 2ms/step\n",
      "Epoch 466/500\n",
      "1/1 - 0s - loss: 0.0033 - accuracy: 1.0000 - 2ms/epoch - 2ms/step\n",
      "Epoch 467/500\n",
      "1/1 - 0s - loss: 0.0032 - accuracy: 1.0000 - 2ms/epoch - 2ms/step\n",
      "Epoch 468/500\n",
      "1/1 - 0s - loss: 0.0032 - accuracy: 1.0000 - 2ms/epoch - 2ms/step\n",
      "Epoch 469/500\n",
      "1/1 - 0s - loss: 0.0032 - accuracy: 1.0000 - 2ms/epoch - 2ms/step\n",
      "Epoch 470/500\n",
      "1/1 - 0s - loss: 0.0032 - accuracy: 1.0000 - 2ms/epoch - 2ms/step\n",
      "Epoch 471/500\n",
      "1/1 - 0s - loss: 0.0032 - accuracy: 1.0000 - 2ms/epoch - 2ms/step\n",
      "Epoch 472/500\n",
      "1/1 - 0s - loss: 0.0032 - accuracy: 1.0000 - 2ms/epoch - 2ms/step\n",
      "Epoch 473/500\n",
      "1/1 - 0s - loss: 0.0032 - accuracy: 1.0000 - 2ms/epoch - 2ms/step\n",
      "Epoch 474/500\n",
      "1/1 - 0s - loss: 0.0031 - accuracy: 1.0000 - 2ms/epoch - 2ms/step\n",
      "Epoch 475/500\n",
      "1/1 - 0s - loss: 0.0031 - accuracy: 1.0000 - 2ms/epoch - 2ms/step\n",
      "Epoch 476/500\n",
      "1/1 - 0s - loss: 0.0031 - accuracy: 1.0000 - 2ms/epoch - 2ms/step\n",
      "Epoch 477/500\n",
      "1/1 - 0s - loss: 0.0031 - accuracy: 1.0000 - 2ms/epoch - 2ms/step\n",
      "Epoch 478/500\n",
      "1/1 - 0s - loss: 0.0031 - accuracy: 1.0000 - 2ms/epoch - 2ms/step\n",
      "Epoch 479/500\n",
      "1/1 - 0s - loss: 0.0031 - accuracy: 1.0000 - 2ms/epoch - 2ms/step\n",
      "Epoch 480/500\n",
      "1/1 - 0s - loss: 0.0031 - accuracy: 1.0000 - 2ms/epoch - 2ms/step\n",
      "Epoch 481/500\n",
      "1/1 - 0s - loss: 0.0031 - accuracy: 1.0000 - 2ms/epoch - 2ms/step\n",
      "Epoch 482/500\n",
      "1/1 - 0s - loss: 0.0030 - accuracy: 1.0000 - 2ms/epoch - 2ms/step\n",
      "Epoch 483/500\n",
      "1/1 - 0s - loss: 0.0030 - accuracy: 1.0000 - 1ms/epoch - 1ms/step\n",
      "Epoch 484/500\n",
      "1/1 - 0s - loss: 0.0030 - accuracy: 1.0000 - 2ms/epoch - 2ms/step\n",
      "Epoch 485/500\n",
      "1/1 - 0s - loss: 0.0030 - accuracy: 1.0000 - 2ms/epoch - 2ms/step\n",
      "Epoch 486/500\n",
      "1/1 - 0s - loss: 0.0030 - accuracy: 1.0000 - 2ms/epoch - 2ms/step\n",
      "Epoch 487/500\n",
      "1/1 - 0s - loss: 0.0030 - accuracy: 1.0000 - 1ms/epoch - 1ms/step\n",
      "Epoch 488/500\n",
      "1/1 - 0s - loss: 0.0030 - accuracy: 1.0000 - 2ms/epoch - 2ms/step\n",
      "Epoch 489/500\n",
      "1/1 - 0s - loss: 0.0030 - accuracy: 1.0000 - 3ms/epoch - 3ms/step\n",
      "Epoch 490/500\n",
      "1/1 - 0s - loss: 0.0029 - accuracy: 1.0000 - 2ms/epoch - 2ms/step\n",
      "Epoch 491/500\n",
      "1/1 - 0s - loss: 0.0029 - accuracy: 1.0000 - 2ms/epoch - 2ms/step\n",
      "Epoch 492/500\n",
      "1/1 - 0s - loss: 0.0029 - accuracy: 1.0000 - 2ms/epoch - 2ms/step\n",
      "Epoch 493/500\n",
      "1/1 - 0s - loss: 0.0029 - accuracy: 1.0000 - 2ms/epoch - 2ms/step\n",
      "Epoch 494/500\n",
      "1/1 - 0s - loss: 0.0029 - accuracy: 1.0000 - 2ms/epoch - 2ms/step\n",
      "Epoch 495/500\n",
      "1/1 - 0s - loss: 0.0029 - accuracy: 1.0000 - 2ms/epoch - 2ms/step\n",
      "Epoch 496/500\n",
      "1/1 - 0s - loss: 0.0029 - accuracy: 1.0000 - 2ms/epoch - 2ms/step\n",
      "Epoch 497/500\n",
      "1/1 - 0s - loss: 0.0029 - accuracy: 1.0000 - 2ms/epoch - 2ms/step\n",
      "Epoch 498/500\n",
      "1/1 - 0s - loss: 0.0029 - accuracy: 1.0000 - 2ms/epoch - 2ms/step\n",
      "Epoch 499/500\n",
      "1/1 - 0s - loss: 0.0028 - accuracy: 1.0000 - 2ms/epoch - 2ms/step\n",
      "Epoch 500/500\n",
      "1/1 - 0s - loss: 0.0028 - accuracy: 1.0000 - 2ms/epoch - 2ms/step\n"
     ]
    },
    {
     "data": {
      "text/plain": [
       "<keras.src.callbacks.History at 0x331d7b790>"
      ]
     },
     "execution_count": 24,
     "metadata": {},
     "output_type": "execute_result"
    }
   ],
   "execution_count": 24
  },
  {
   "metadata": {
    "ExecuteTime": {
     "end_time": "2024-11-19T05:57:17.287368Z",
     "start_time": "2024-11-19T05:57:17.115677Z"
    }
   },
   "cell_type": "code",
   "source": [
    "test_text = 'Wait'\n",
    "encoded = tokenizer.texts_to_sequences([test_text])[0]\n",
    "encoded = np.array(encoded)\n",
    "\n",
    "onehot_output = model.predict(encoded)\n",
    "print('onehot_output=', onehot_output)\n",
    "\n",
    "output = np.argmax(onehot_output)\n",
    "print('output=', output)\n",
    "\n",
    "print(test_text, \"=>\", end=\" \")\n",
    "for word, index in tokenizer.word_index.items():\n",
    "    if index == output:\n",
    "        print(word)"
   ],
   "id": "b8a04f0e3ec7c1b0",
   "outputs": [
    {
     "name": "stdout",
     "output_type": "stream",
     "text": [
      "1/1 [==============================] - 0s 148ms/step\n",
      "onehot_output= [[0.02724354 0.02852597 0.02676919 0.02818197 0.02710003 0.027107\n",
      "  0.02675476 0.02835245 0.02767495 0.02704785 0.02740993 0.02775357\n",
      "  0.02837306 0.02663882 0.02901122 0.02792208 0.02748626 0.02676671\n",
      "  0.02719379 0.02717571 0.02918015 0.02846962 0.02746332 0.02929452\n",
      "  0.02759856 0.0279234  0.02912562 0.0287298  0.02698818 0.02749237\n",
      "  0.02742933 0.13981633]]\n",
      "output= 31\n",
      "Wait => shower\n"
     ]
    }
   ],
   "execution_count": 25
  },
  {
   "metadata": {
    "ExecuteTime": {
     "end_time": "2024-11-19T06:14:07.566283Z",
     "start_time": "2024-11-19T06:14:05.564757Z"
    }
   },
   "cell_type": "code",
   "source": [
    "import numpy as np\n",
    "import tensorflow as tf\n",
    "from tensorflow import keras\n",
    "import matplotlib.pyplot as plt\n",
    "\n",
    "imdb = keras.datasets.imdb\n",
    "(x_train, y_train), (x_test, y_test) = imdb.load_data(num_words=10000)\n",
    "print(x_train[0])"
   ],
   "id": "ac98b732aea2319b",
   "outputs": [
    {
     "name": "stdout",
     "output_type": "stream",
     "text": [
      "[1, 14, 22, 16, 43, 530, 973, 1622, 1385, 65, 458, 4468, 66, 3941, 4, 173, 36, 256, 5, 25, 100, 43, 838, 112, 50, 670, 2, 9, 35, 480, 284, 5, 150, 4, 172, 112, 167, 2, 336, 385, 39, 4, 172, 4536, 1111, 17, 546, 38, 13, 447, 4, 192, 50, 16, 6, 147, 2025, 19, 14, 22, 4, 1920, 4613, 469, 4, 22, 71, 87, 12, 16, 43, 530, 38, 76, 15, 13, 1247, 4, 22, 17, 515, 17, 12, 16, 626, 18, 2, 5, 62, 386, 12, 8, 316, 8, 106, 5, 4, 2223, 5244, 16, 480, 66, 3785, 33, 4, 130, 12, 16, 38, 619, 5, 25, 124, 51, 36, 135, 48, 25, 1415, 33, 6, 22, 12, 215, 28, 77, 52, 5, 14, 407, 16, 82, 2, 8, 4, 107, 117, 5952, 15, 256, 4, 2, 7, 3766, 5, 723, 36, 71, 43, 530, 476, 26, 400, 317, 46, 7, 4, 2, 1029, 13, 104, 88, 4, 381, 15, 297, 98, 32, 2071, 56, 26, 141, 6, 194, 7486, 18, 4, 226, 22, 21, 134, 476, 26, 480, 5, 144, 30, 5535, 18, 51, 36, 28, 224, 92, 25, 104, 4, 226, 65, 16, 38, 1334, 88, 12, 16, 283, 5, 16, 4472, 113, 103, 32, 15, 16, 5345, 19, 178, 32]\n"
     ]
    }
   ],
   "execution_count": 26
  },
  {
   "metadata": {
    "ExecuteTime": {
     "end_time": "2024-11-19T06:14:45.529963Z",
     "start_time": "2024-11-19T06:14:44.499358Z"
    }
   },
   "cell_type": "code",
   "source": [
    "# Word to Integer Index Dictionary\n",
    "word_to_index = imdb.get_word_index()\n",
    "\n",
    "# Few index in front are using specific methods\n",
    "word_to_index = {k:(v+3) for k,v in word_to_index.items()}\n",
    "word_to_index[\"<PAD>\"] = 0 # 문장을 채우는 기호\n",
    "word_to_index[\"<START>\"] = 1 # 시작을 표시\n",
    "word_to_index[\"<UNK>\"] = 2 # 알려지지 않은 토큰\n",
    "word_to_index[\"<UNUSED>\"] = 3\n",
    "\n",
    "index_to_word = dict([(value, key) for (key, value) in word_to_index.items()])\n",
    "print(' '.join([index_to_word[index] for index in x_train[0]]))"
   ],
   "id": "f12c23c4ce77b42e",
   "outputs": [
    {
     "name": "stdout",
     "output_type": "stream",
     "text": [
      "Downloading data from https://storage.googleapis.com/tensorflow/tf-keras-datasets/imdb_word_index.json\n",
      "1641221/1641221 [==============================] - 1s 0us/step\n",
      "<START> this film was just brilliant casting location scenery story direction everyone's really suited the part they played and you could just imagine being there robert <UNK> is an amazing actor and now the same being director <UNK> father came from the same scottish island as myself so i loved the fact there was a real connection with this film the witty remarks throughout the film were great it was just brilliant so much that i bought the film as soon as it was released for <UNK> and would recommend it to everyone to watch and the fly fishing was amazing really cried at the end it was so sad and you know what they say if you cry at a film it must have been good and this definitely was also <UNK> to the two little boy's that played the <UNK> of norman and paul they were just brilliant children are often left out of the <UNK> list i think because the stars that play them all grown up are such a big profile for the whole film but these children are amazing and should be praised for what they have done don't you think the whole story was so lovely because it was true and was someone's life after all that was shared with us all\n"
     ]
    }
   ],
   "execution_count": 27
  },
  {
   "metadata": {
    "ExecuteTime": {
     "end_time": "2024-11-19T06:15:06.436894Z",
     "start_time": "2024-11-19T06:15:06.168940Z"
    }
   },
   "cell_type": "code",
   "source": [
    "from tensorflow.keras.preprocessing.sequence import pad_sequences\n",
    "from tensorflow.keras.models import Sequential\n",
    "from tensorflow.keras.layers import *\n",
    "x_train = pad_sequences(x_train, maxlen=100)\n",
    "x_test = pad_sequences(x_test, maxlen=100)\n",
    "vocab_size = 10000\n",
    "model = Sequential()\n",
    "model.add(Embedding(vocab_size, 64,\n",
    "                    input_length=100))\n",
    "model.add(Flatten())\n",
    "model.add(Dense(64, activation='relu'))\n",
    "model.add(Dropout(0.5))\n",
    "model.add(Dense(1, activation='sigmoid'))\n",
    "model.summary()"
   ],
   "id": "3c542ffd12ae6f89",
   "outputs": [
    {
     "name": "stdout",
     "output_type": "stream",
     "text": [
      "Model: \"sequential_4\"\n",
      "_________________________________________________________________\n",
      " Layer (type)                Output Shape              Param #   \n",
      "=================================================================\n",
      " embedding_4 (Embedding)     (None, 100, 64)           640000    \n",
      "                                                                 \n",
      " flatten_1 (Flatten)         (None, 6400)              0         \n",
      "                                                                 \n",
      " dense_3 (Dense)             (None, 64)                409664    \n",
      "                                                                 \n",
      " dropout (Dropout)           (None, 64)                0         \n",
      "                                                                 \n",
      " dense_4 (Dense)             (None, 1)                 65        \n",
      "                                                                 \n",
      "=================================================================\n",
      "Total params: 1049729 (4.00 MB)\n",
      "Trainable params: 1049729 (4.00 MB)\n",
      "Non-trainable params: 0 (0.00 Byte)\n",
      "_________________________________________________________________\n"
     ]
    }
   ],
   "execution_count": 28
  },
  {
   "metadata": {
    "ExecuteTime": {
     "end_time": "2024-11-19T06:16:22.996705Z",
     "start_time": "2024-11-19T06:15:25.626051Z"
    }
   },
   "cell_type": "code",
   "source": [
    "model.compile(loss='binary_crossentropy', optimizer='adam', metrics=['accuracy'])\n",
    "history = model.fit(x_train, y_train, batch_size=64, epochs=20, verbose=1,\n",
    "                    validation_data=(x_test, y_test))"
   ],
   "id": "26bd2d8af076720d",
   "outputs": [
    {
     "name": "stdout",
     "output_type": "stream",
     "text": [
      "Epoch 1/20\n",
      "391/391 [==============================] - 2s 6ms/step - loss: 0.4613 - accuracy: 0.7653 - val_loss: 0.3365 - val_accuracy: 0.8509\n",
      "Epoch 2/20\n",
      "391/391 [==============================] - 2s 6ms/step - loss: 0.1664 - accuracy: 0.9396 - val_loss: 0.4013 - val_accuracy: 0.8340\n",
      "Epoch 3/20\n",
      "391/391 [==============================] - 2s 6ms/step - loss: 0.0271 - accuracy: 0.9940 - val_loss: 0.5280 - val_accuracy: 0.8322\n",
      "Epoch 4/20\n",
      "391/391 [==============================] - 2s 6ms/step - loss: 0.0046 - accuracy: 0.9998 - val_loss: 0.5965 - val_accuracy: 0.8382\n",
      "Epoch 5/20\n",
      "391/391 [==============================] - 3s 7ms/step - loss: 0.0017 - accuracy: 0.9999 - val_loss: 0.6379 - val_accuracy: 0.8391\n",
      "Epoch 6/20\n",
      "391/391 [==============================] - 3s 7ms/step - loss: 8.1020e-04 - accuracy: 1.0000 - val_loss: 0.6766 - val_accuracy: 0.8395\n",
      "Epoch 7/20\n",
      "391/391 [==============================] - 3s 7ms/step - loss: 4.9143e-04 - accuracy: 1.0000 - val_loss: 0.7095 - val_accuracy: 0.8406\n",
      "Epoch 8/20\n",
      "391/391 [==============================] - 3s 8ms/step - loss: 3.7681e-04 - accuracy: 1.0000 - val_loss: 0.7375 - val_accuracy: 0.8403\n",
      "Epoch 9/20\n",
      "391/391 [==============================] - 3s 8ms/step - loss: 2.4742e-04 - accuracy: 1.0000 - val_loss: 0.7599 - val_accuracy: 0.8404\n",
      "Epoch 10/20\n",
      "391/391 [==============================] - 3s 8ms/step - loss: 2.4476e-04 - accuracy: 1.0000 - val_loss: 0.7908 - val_accuracy: 0.8398\n",
      "Epoch 11/20\n",
      "391/391 [==============================] - 3s 8ms/step - loss: 1.6394e-04 - accuracy: 1.0000 - val_loss: 0.8113 - val_accuracy: 0.8391\n",
      "Epoch 12/20\n",
      "391/391 [==============================] - 3s 8ms/step - loss: 1.6318e-04 - accuracy: 1.0000 - val_loss: 0.8401 - val_accuracy: 0.8390\n",
      "Epoch 13/20\n",
      "391/391 [==============================] - 3s 7ms/step - loss: 9.3995e-05 - accuracy: 1.0000 - val_loss: 0.8735 - val_accuracy: 0.8399\n",
      "Epoch 14/20\n",
      "391/391 [==============================] - 3s 7ms/step - loss: 7.6987e-05 - accuracy: 1.0000 - val_loss: 0.8904 - val_accuracy: 0.8396\n",
      "Epoch 15/20\n",
      "391/391 [==============================] - 3s 7ms/step - loss: 5.9109e-05 - accuracy: 1.0000 - val_loss: 0.9142 - val_accuracy: 0.8392\n",
      "Epoch 16/20\n",
      "391/391 [==============================] - 3s 7ms/step - loss: 4.0085e-05 - accuracy: 1.0000 - val_loss: 0.9344 - val_accuracy: 0.8391\n",
      "Epoch 17/20\n",
      "391/391 [==============================] - 3s 8ms/step - loss: 4.6174e-05 - accuracy: 1.0000 - val_loss: 0.9567 - val_accuracy: 0.8391\n",
      "Epoch 18/20\n",
      "391/391 [==============================] - 3s 8ms/step - loss: 3.4587e-05 - accuracy: 1.0000 - val_loss: 0.9794 - val_accuracy: 0.8409\n",
      "Epoch 19/20\n",
      "391/391 [==============================] - 3s 8ms/step - loss: 2.7750e-05 - accuracy: 1.0000 - val_loss: 1.0087 - val_accuracy: 0.8419\n",
      "Epoch 20/20\n",
      "391/391 [==============================] - 3s 8ms/step - loss: 2.3074e-05 - accuracy: 1.0000 - val_loss: 1.0372 - val_accuracy: 0.8406\n"
     ]
    }
   ],
   "execution_count": 29
  },
  {
   "metadata": {
    "ExecuteTime": {
     "end_time": "2024-11-19T06:16:40.163108Z",
     "start_time": "2024-11-19T06:16:39.544690Z"
    }
   },
   "cell_type": "code",
   "source": [
    "results = model.evaluate(x_test, y_test, verbose=2)\n",
    "print(results)"
   ],
   "id": "69880caf7fe5fa19",
   "outputs": [
    {
     "name": "stdout",
     "output_type": "stream",
     "text": [
      "782/782 - 1s - loss: 1.0372 - accuracy: 0.8406 - 595ms/epoch - 760us/step\n",
      "[1.0371841192245483, 0.8405600190162659]\n"
     ]
    }
   ],
   "execution_count": 30
  },
  {
   "metadata": {
    "ExecuteTime": {
     "end_time": "2024-11-19T06:18:17.587587Z",
     "start_time": "2024-11-19T06:18:17.584643Z"
    }
   },
   "cell_type": "code",
   "source": "review = \"What can I say about this movie that was already said? It is my favorite time travel sci-fi, adventure epic comedy in the 80's and I love this movie to death! When I saw this movie I was thrown out by its theme. An excellent sci-fi, adventure epic, I LOVE the 80s. It's simple the greatest time travel movie ever happened in the history of world cinema. I love this movie to death, I love, LOVE, love it!\"",
   "id": "acfe15fd5e63e30d",
   "outputs": [],
   "execution_count": 31
  },
  {
   "metadata": {
    "ExecuteTime": {
     "end_time": "2024-11-19T06:21:03.947710Z",
     "start_time": "2024-11-19T06:21:03.895651Z"
    }
   },
   "cell_type": "code",
   "source": [
    "import re\n",
    "review = re.sub(\"[^0-9a-zA-Z ]\", \"\", review).lower()\n",
    "review_encoding = []\n",
    "\n",
    "#Etorate each vocabulary in sentence\n",
    "for w in review.split():\n",
    "    index = word_to_index.get(w, 2) # Return 2 if there isn't exist in dictionary\n",
    "    if index <= 10000: # under 10000 vocabularies\n",
    "        review_encoding.append(index)\n",
    "    else:\n",
    "        review_encoding.append(word_to_index[\"UNK\"])\n",
    "\n",
    "# handout to 2 - Dimension list\n",
    "test_input = pad_sequences([review_encoding], maxlen = 100)\n",
    "value = model.predict(test_input) # Prediction\n",
    "if(value > 0.5):\n",
    "    print(\"Positive Review.\")\n",
    "else:\n",
    "    print(\"Negative Review.\") "
   ],
   "id": "fdf8e58954ccfcba",
   "outputs": [
    {
     "name": "stdout",
     "output_type": "stream",
     "text": [
      "1/1 [==============================] - 0s 24ms/step\n",
      "Positive Review.\n"
     ]
    }
   ],
   "execution_count": 34
  },
  {
   "metadata": {},
   "cell_type": "code",
   "outputs": [],
   "execution_count": null,
   "source": "",
   "id": "f42b53c452cfd3ab"
  }
 ],
 "metadata": {
  "kernelspec": {
   "display_name": "Python 3",
   "language": "python",
   "name": "python3"
  },
  "language_info": {
   "codemirror_mode": {
    "name": "ipython",
    "version": 2
   },
   "file_extension": ".py",
   "mimetype": "text/x-python",
   "name": "python",
   "nbconvert_exporter": "python",
   "pygments_lexer": "ipython2",
   "version": "2.7.6"
  }
 },
 "nbformat": 4,
 "nbformat_minor": 5
}
