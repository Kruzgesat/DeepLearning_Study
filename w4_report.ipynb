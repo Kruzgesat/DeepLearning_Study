{
 "nbformat": 4,
 "nbformat_minor": 0,
 "metadata": {
  "colab": {
   "provenance": [],
   "authorship_tag": "ABX9TyPxbz1z8ATvVvjraA1DjWJ8"
  },
  "kernelspec": {
   "name": "python3",
   "display_name": "Python 3 (ipykernel)",
   "language": "python"
  },
  "language_info": {
   "name": "python"
  }
 },
 "cells": [
  {
   "cell_type": "code",
   "metadata": {
    "id": "UgF8CnasFmwl",
    "executionInfo": {
     "status": "ok",
     "timestamp": 1726981570866,
     "user_tz": -540,
     "elapsed": 1049,
     "user": {
      "displayName": "홍석민[컴퓨터시스템공학과]",
      "userId": "11359324048911234531"
     }
    },
    "ExecuteTime": {
     "end_time": "2024-11-04T06:02:10.666007Z",
     "start_time": "2024-11-04T06:02:10.663414Z"
    }
   },
   "source": [
    "import numpy as np\n",
    "import matplotlib.pyplot as plt"
   ],
   "outputs": [],
   "execution_count": 3
  },
  {
   "cell_type": "code",
   "source": [
    "X = np.array([0.0, 1.0, 2.0])\n",
    "y = np.array([3.0, 3.5, 5.5])\n",
    "\n",
    "W = 0   #기울기\n",
    "b = 0   #절편\n",
    "\n",
    "lrate = 0.01    #학습률\n",
    "epochs = 1000   #Etoration\n",
    "\n",
    "n = float(len(X))\n",
    "\n",
    "#경사하강\n",
    "\n",
    "for i in range(epochs) :\n",
    "  y_pred = W * X + b  #예측값\n",
    "  dW = (2/n) * sum(X * (y_pred -  y))\n",
    "  db = (2/n) * sum(y_pred - y)\n",
    "  W = W - lrate * dW  #기울기 변경\n",
    "  b = b - lrate * db  #절편 변경"
   ],
   "metadata": {
    "id": "R6fPKC9AH0J0",
    "executionInfo": {
     "status": "ok",
     "timestamp": 1726981769216,
     "user_tz": -540,
     "elapsed": 336,
     "user": {
      "displayName": "홍석민[컴퓨터시스템공학과]",
      "userId": "11359324048911234531"
     }
    },
    "ExecuteTime": {
     "end_time": "2024-11-04T06:02:10.693817Z",
     "start_time": "2024-11-04T06:02:10.684635Z"
    }
   },
   "outputs": [],
   "execution_count": 4
  },
  {
   "cell_type": "code",
   "source": [
    "print (W,b)"
   ],
   "metadata": {
    "colab": {
     "base_uri": "https://localhost:8080/"
    },
    "id": "HtIh5JyrIkdc",
    "executionInfo": {
     "status": "ok",
     "timestamp": 1726981822061,
     "user_tz": -540,
     "elapsed": 342,
     "user": {
      "displayName": "홍석민[컴퓨터시스템공학과]",
      "userId": "11359324048911234531"
     }
    },
    "outputId": "7fded40d-d8a8-46ae-9255-0151ff0d540b",
    "ExecuteTime": {
     "end_time": "2024-11-04T06:02:10.725838Z",
     "start_time": "2024-11-04T06:02:10.723886Z"
    }
   },
   "outputs": [
    {
     "name": "stdout",
     "output_type": "stream",
     "text": [
      "1.2532418085611319 2.745502230882486\n"
     ]
    }
   ],
   "execution_count": 5
  },
  {
   "cell_type": "code",
   "source": [
    "y_pred = W * X + b\n",
    "plt.scatter(X,y)\n",
    "\n",
    "plt.plot([min(X), max(X)], [min(y_pred), max(y_pred)], color = 'red')\n",
    "plt.show()"
   ],
   "metadata": {
    "colab": {
     "base_uri": "https://localhost:8080/",
     "height": 451
    },
    "id": "2CiEr3xzI1JA",
    "executionInfo": {
     "status": "ok",
     "timestamp": 1726981900363,
     "user_tz": -540,
     "elapsed": 614,
     "user": {
      "displayName": "홍석민[컴퓨터시스템공학과]",
      "userId": "11359324048911234531"
     }
    },
    "outputId": "e6f0324d-9723-466b-96e4-c7a1245dd057",
    "ExecuteTime": {
     "end_time": "2024-11-04T06:02:10.926027Z",
     "start_time": "2024-11-04T06:02:10.830724Z"
    }
   },
   "outputs": [
    {
     "data": {
      "text/plain": [
       "<Figure size 640x480 with 1 Axes>"
      ],
      "image/png": "[encoded data removed]"
     },
     "metadata": {},
     "output_type": "display_data"
    }
   ],
   "execution_count": 6
  },
  {
   "cell_type": "code",
   "source": [
    "import matplotlib.pylab as plt\n",
    "from sklearn import linear_model\n",
    "\n",
    "reg = linear_model.LinearRegression()\n",
    "\n",
    "X = [[0], [1], [2]]\n",
    "y = [3,3.5, 5.5]\n",
    "\n",
    "reg.fit(X,y)"
   ],
   "metadata": {
    "colab": {
     "base_uri": "https://localhost:8080/",
     "height": 94
    },
    "id": "gGVV0pbRJHGn",
    "executionInfo": {
     "status": "ok",
     "timestamp": 1726982018870,
     "user_tz": -540,
     "elapsed": 711,
     "user": {
      "displayName": "홍석민[컴퓨터시스템공학과]",
      "userId": "11359324048911234531"
     }
    },
    "outputId": "6b79433e-13d1-4b6f-d2a4-f05ec2cded93",
    "ExecuteTime": {
     "end_time": "2024-11-04T06:02:11.391547Z",
     "start_time": "2024-11-04T06:02:10.934961Z"
    }
   },
   "outputs": [
    {
     "data": {
      "text/plain": [
       "LinearRegression()"
      ],
      "text/html": [
       "<style>#sk-container-id-1 {color: black;}#sk-container-id-1 pre{padding: 0;}#sk-container-id-1 div.sk-toggleable {background-color: white;}#sk-container-id-1 label.sk-toggleable__label {cursor: pointer;display: block;width: 100%;margin-bottom: 0;padding: 0.3em;box-sizing: border-box;text-align: center;}#sk-container-id-1 label.sk-toggleable__label-arrow:before {content: \"▸\";float: left;margin-right: 0.25em;color: #696969;}#sk-container-id-1 label.sk-toggleable__label-arrow:hover:before {color: black;}#sk-container-id-1 div.sk-estimator:hover label.sk-toggleable__label-arrow:before {color: black;}#sk-container-id-1 div.sk-toggleable__content {max-height: 0;max-width: 0;overflow: hidden;text-align: left;background-color: #f0f8ff;}#sk-container-id-1 div.sk-toggleable__content pre {margin: 0.2em;color: black;border-radius: 0.25em;background-color: #f0f8ff;}#sk-container-id-1 input.sk-toggleable__control:checked~div.sk-toggleable__content {max-height: 200px;max-width: 100%;overflow: auto;}#sk-container-id-1 input.sk-toggleable__control:checked~label.sk-toggleable__label-arrow:before {content: \"▾\";}#sk-container-id-1 div.sk-estimator input.sk-toggleable__control:checked~label.sk-toggleable__label {background-color: #d4ebff;}#sk-container-id-1 div.sk-label input.sk-toggleable__control:checked~label.sk-toggleable__label {background-color: #d4ebff;}#sk-container-id-1 input.sk-hidden--visually {border: 0;clip: rect(1px 1px 1px 1px);clip: rect(1px, 1px, 1px, 1px);height: 1px;margin: -1px;overflow: hidden;padding: 0;position: absolute;width: 1px;}#sk-container-id-1 div.sk-estimator {font-family: monospace;background-color: #f0f8ff;border: 1px dotted black;border-radius: 0.25em;box-sizing: border-box;margin-bottom: 0.5em;}#sk-container-id-1 div.sk-estimator:hover {background-color: #d4ebff;}#sk-container-id-1 div.sk-parallel-item::after {content: \"\";width: 100%;border-bottom: 1px solid gray;flex-grow: 1;}#sk-container-id-1 div.sk-label:hover label.sk-toggleable__label {background-color: #d4ebff;}#sk-container-id-1 div.sk-serial::before {content: \"\";position: absolute;border-left: 1px solid gray;box-sizing: border-box;top: 0;bottom: 0;left: 50%;z-index: 0;}#sk-container-id-1 div.sk-serial {display: flex;flex-direction: column;align-items: center;background-color: white;padding-right: 0.2em;padding-left: 0.2em;position: relative;}#sk-container-id-1 div.sk-item {position: relative;z-index: 1;}#sk-container-id-1 div.sk-parallel {display: flex;align-items: stretch;justify-content: center;background-color: white;position: relative;}#sk-container-id-1 div.sk-item::before, #sk-container-id-1 div.sk-parallel-item::before {content: \"\";position: absolute;border-left: 1px solid gray;box-sizing: border-box;top: 0;bottom: 0;left: 50%;z-index: -1;}#sk-container-id-1 div.sk-parallel-item {display: flex;flex-direction: column;z-index: 1;position: relative;background-color: white;}#sk-container-id-1 div.sk-parallel-item:first-child::after {align-self: flex-end;width: 50%;}#sk-container-id-1 div.sk-parallel-item:last-child::after {align-self: flex-start;width: 50%;}#sk-container-id-1 div.sk-parallel-item:only-child::after {width: 0;}#sk-container-id-1 div.sk-dashed-wrapped {border: 1px dashed gray;margin: 0 0.4em 0.5em 0.4em;box-sizing: border-box;padding-bottom: 0.4em;background-color: white;}#sk-container-id-1 div.sk-label label {font-family: monospace;font-weight: bold;display: inline-block;line-height: 1.2em;}#sk-container-id-1 div.sk-label-container {text-align: center;}#sk-container-id-1 div.sk-container {/* jupyter's `normalize.less` sets `[hidden] { display: none; }` but bootstrap.min.css set `[hidden] { display: none !important; }` so we also need the `!important` here to be able to override the default hidden behavior on the sphinx rendered scikit-learn.org. See: https://github.com/scikit-learn/scikit-learn/issues/21755 */display: inline-block !important;position: relative;}#sk-container-id-1 div.sk-text-repr-fallback {display: none;}</style><div id=\"sk-container-id-1\" class=\"sk-top-container\"><div class=\"sk-text-repr-fallback\"><pre>LinearRegression()</pre><b>In a Jupyter environment, please rerun this cell to show the HTML representation or trust the notebook. <br />On GitHub, the HTML representation is unable to render, please try loading this page with nbviewer.org.</b></div><div class=\"sk-container\" hidden><div class=\"sk-item\"><div class=\"sk-estimator sk-toggleable\"><input class=\"sk-toggleable__control sk-hidden--visually\" id=\"sk-estimator-id-1\" type=\"checkbox\" checked><label for=\"sk-estimator-id-1\" class=\"sk-toggleable__label sk-toggleable__label-arrow\">LinearRegression</label><div class=\"sk-toggleable__content\"><pre>LinearRegression()</pre></div></div></div></div></div>"
      ]
     },
     "execution_count": 7,
     "metadata": {},
     "output_type": "execute_result"
    }
   ],
   "execution_count": 7
  },
  {
   "cell_type": "code",
   "source": [
    "reg.coef_"
   ],
   "metadata": {
    "colab": {
     "base_uri": "https://localhost:8080/"
    },
    "id": "lDHqdyfYJlKm",
    "executionInfo": {
     "status": "ok",
     "timestamp": 1726982076080,
     "user_tz": -540,
     "elapsed": 613,
     "user": {
      "displayName": "홍석민[컴퓨터시스템공학과]",
      "userId": "11359324048911234531"
     }
    },
    "outputId": "c717fab5-05db-4f94-e342-b08398f2ca01",
    "ExecuteTime": {
     "end_time": "2024-11-04T06:02:11.400195Z",
     "start_time": "2024-11-04T06:02:11.397699Z"
    }
   },
   "outputs": [
    {
     "data": {
      "text/plain": [
       "array([1.25])"
      ]
     },
     "execution_count": 8,
     "metadata": {},
     "output_type": "execute_result"
    }
   ],
   "execution_count": 8
  },
  {
   "cell_type": "code",
   "source": [
    "reg.intercept_"
   ],
   "metadata": {
    "colab": {
     "base_uri": "https://localhost:8080/"
    },
    "id": "lVVl7RaUJo3U",
    "executionInfo": {
     "status": "ok",
     "timestamp": 1726982082278,
     "user_tz": -540,
     "elapsed": 575,
     "user": {
      "displayName": "홍석민[컴퓨터시스템공학과]",
      "userId": "11359324048911234531"
     }
    },
    "outputId": "3c0b3ea1-3d5d-407d-8d54-f827985c1e44",
    "ExecuteTime": {
     "end_time": "2024-11-04T06:02:11.414690Z",
     "start_time": "2024-11-04T06:02:11.412207Z"
    }
   },
   "outputs": [
    {
     "data": {
      "text/plain": [
       "2.7500000000000004"
      ]
     },
     "execution_count": 9,
     "metadata": {},
     "output_type": "execute_result"
    }
   ],
   "execution_count": 9
  },
  {
   "cell_type": "code",
   "source": [
    "reg.score(X,y)"
   ],
   "metadata": {
    "colab": {
     "base_uri": "https://localhost:8080/"
    },
    "id": "yb3tr1HbJ0rl",
    "executionInfo": {
     "status": "ok",
     "timestamp": 1726982089160,
     "user_tz": -540,
     "elapsed": 347,
     "user": {
      "displayName": "홍석민[컴퓨터시스템공학과]",
      "userId": "11359324048911234531"
     }
    },
    "outputId": "fef2c0d1-6764-4838-9553-3ae7ca00c7de",
    "ExecuteTime": {
     "end_time": "2024-11-04T06:02:11.468589Z",
     "start_time": "2024-11-04T06:02:11.465626Z"
    }
   },
   "outputs": [
    {
     "data": {
      "text/plain": [
       "0.8928571428571429"
      ]
     },
     "execution_count": 10,
     "metadata": {},
     "output_type": "execute_result"
    }
   ],
   "execution_count": 10
  },
  {
   "cell_type": "code",
   "source": [
    "reg.predict([[5]])"
   ],
   "metadata": {
    "colab": {
     "base_uri": "https://localhost:8080/"
    },
    "id": "Ff3YAnQGJ2ap",
    "executionInfo": {
     "status": "ok",
     "timestamp": 1726982095283,
     "user_tz": -540,
     "elapsed": 465,
     "user": {
      "displayName": "홍석민[컴퓨터시스템공학과]",
      "userId": "11359324048911234531"
     }
    },
    "outputId": "6d3a1f2e-c5af-4078-eff8-3447c946f24d",
    "ExecuteTime": {
     "end_time": "2024-11-04T06:02:11.503701Z",
     "start_time": "2024-11-04T06:02:11.501280Z"
    }
   },
   "outputs": [
    {
     "data": {
      "text/plain": [
       "array([9.])"
      ]
     },
     "execution_count": 11,
     "metadata": {},
     "output_type": "execute_result"
    }
   ],
   "execution_count": 11
  },
  {
   "cell_type": "code",
   "source": [
    "plt.scatter(X,y, color = 'black') #학습 데이터 산포도\n",
    "\n",
    "y_pred = reg.predict(X) #예측값 계산\n",
    "\n",
    "plt.plot(X, y_pred, color = 'blue', linewidth = 3)\n",
    "plt.show()"
   ],
   "metadata": {
    "colab": {
     "base_uri": "https://localhost:8080/",
     "height": 451
    },
    "id": "2ttvBrLhJ31m",
    "executionInfo": {
     "status": "ok",
     "timestamp": 1726982177765,
     "user_tz": -540,
     "elapsed": 778,
     "user": {
      "displayName": "홍석민[컴퓨터시스템공학과]",
      "userId": "11359324048911234531"
     }
    },
    "outputId": "840d184f-dcfc-4918-df97-1443058ddf6f",
    "ExecuteTime": {
     "end_time": "2024-11-04T06:02:11.601231Z",
     "start_time": "2024-11-04T06:02:11.540996Z"
    }
   },
   "outputs": [
    {
     "data": {
      "text/plain": [
       "<Figure size 640x480 with 1 Axes>"
      ],
      "image/png": "[encoded data removed]"
     },
     "metadata": {},
     "output_type": "display_data"
    }
   ],
   "execution_count": 12
  },
  {
   "cell_type": "code",
   "source": [
    "import matplotlib.pylab as plt\n",
    "from sklearn import linear_model\n",
    "\n",
    "reg = linear_model.LinearRegression()\n",
    "\n",
    "X = [[174], [152], [138], [128], [186]]\n",
    "y = [71, 55, 46, 38, 88]\n",
    "\n",
    "reg.fit(X,y)\n",
    "\n",
    "print(reg.predict([[165]]))"
   ],
   "metadata": {
    "colab": {
     "base_uri": "https://localhost:8080/"
    },
    "id": "Cqu-fpL5KJbQ",
    "executionInfo": {
     "status": "ok",
     "timestamp": 1726982282518,
     "user_tz": -540,
     "elapsed": 718,
     "user": {
      "displayName": "홍석민[컴퓨터시스템공학과]",
      "userId": "11359324048911234531"
     }
    },
    "outputId": "aaa9ecbe-6779-41ac-f359-ed44d8198b96",
    "ExecuteTime": {
     "end_time": "2024-11-04T06:02:11.611573Z",
     "start_time": "2024-11-04T06:02:11.608555Z"
    }
   },
   "outputs": [
    {
     "name": "stdout",
     "output_type": "stream",
     "text": [
      "[67.30998637]\n"
     ]
    }
   ],
   "execution_count": 13
  },
  {
   "cell_type": "code",
   "source": [
    "plt.scatter(X,y, color = 'black')\n",
    "\n",
    "y_pred = reg.predict(X)\n",
    "\n",
    "plt.plot(X, y_pred, color = 'blue', linewidth = 3)\n",
    "plt.show()"
   ],
   "metadata": {
    "colab": {
     "base_uri": "https://localhost:8080/",
     "height": 452
    },
    "id": "jQAPmm8BKliG",
    "executionInfo": {
     "status": "ok",
     "timestamp": 1726982312693,
     "user_tz": -540,
     "elapsed": 378,
     "user": {
      "displayName": "홍석민[컴퓨터시스템공학과]",
      "userId": "11359324048911234531"
     }
    },
    "outputId": "c3a96af5-15fe-4e5d-8a4a-46d430ea06b1",
    "ExecuteTime": {
     "end_time": "2024-11-04T06:02:11.681674Z",
     "start_time": "2024-11-04T06:02:11.623167Z"
    }
   },
   "outputs": [
    {
     "data": {
      "text/plain": [
       "<Figure size 640x480 with 1 Axes>"
      ],
      "image/png": "[encoded data removed]"
     },
     "metadata": {},
     "output_type": "display_data"
    }
   ],
   "execution_count": 14
  },
  {
   "cell_type": "code",
   "source": [
    "import matplotlib.pylab as plt\n",
    "import numpy as np\n",
    "from sklearn.linear_model import LinearRegression\n",
    "from sklearn import datasets\n",
    "\n",
    "\n",
    "diabetes_X, diabetes_y = datasets.load_diabetes(return_X_y = True) #Diabets Dataset Load\n",
    "\n",
    "diabetes_X_new = diabetes_X[:, np.newaxis, 2] # 특정 BMI 추출\n",
    "\n",
    "from sklearn.model_selection import train_test_split #Test Data, Training Data 분리\n",
    "X_train, X_test, y_train, y_test = train_test_split(diabetes_X_new, diabetes_y, test_size=0.1,\n",
    "random_state=0)"
   ],
   "metadata": {
    "id": "_6h3tJu9Ks6c",
    "executionInfo": {
     "status": "ok",
     "timestamp": 1726982502479,
     "user_tz": -540,
     "elapsed": 622,
     "user": {
      "displayName": "홍석민[컴퓨터시스템공학과]",
      "userId": "11359324048911234531"
     }
    },
    "ExecuteTime": {
     "end_time": "2024-11-04T06:02:11.741910Z",
     "start_time": "2024-11-04T06:02:11.687311Z"
    }
   },
   "outputs": [],
   "execution_count": 15
  },
  {
   "cell_type": "code",
   "source": [
    "regr = linear_model.LinearRegression()\n",
    "regr.fit(X_train, y_train)\n",
    "\n",
    "y_pred = model.predict(X_test) #Test Data 예측\n",
    "\n",
    "\n",
    "plt.plot(y_test, y_pred, '.')\n",
    "plt.scatter(X_test, y_test, color='black')\n",
    "plt.plot(X_test, y_pred, color='blue', linewidth=3)\n",
    "plt.show()"
   ],
   "metadata": {
    "colab": {
     "base_uri": "https://localhost:8080/",
     "height": 225
    },
    "id": "NBTg5y_ULbNb",
    "executionInfo": {
     "status": "error",
     "timestamp": 1726982625689,
     "user_tz": -540,
     "elapsed": 3,
     "user": {
      "displayName": "홍석민[컴퓨터시스템공학과]",
      "userId": "11359324048911234531"
     }
    },
    "outputId": "d386e8a7-90e7-4297-db49-af733177876b",
    "ExecuteTime": {
     "end_time": "2024-11-04T06:02:11.835027Z",
     "start_time": "2024-11-04T06:02:11.796483Z"
    }
   },
   "outputs": [
    {
     "ename": "NameError",
     "evalue": "name 'model' is not defined",
     "output_type": "error",
     "traceback": [
      "\u001B[0;31m---------------------------------------------------------------------------\u001B[0m",
      "\u001B[0;31mNameError\u001B[0m                                 Traceback (most recent call last)",
      "Cell \u001B[0;32mIn[16], line 4\u001B[0m\n\u001B[1;32m      1\u001B[0m regr \u001B[38;5;241m=\u001B[39m linear_model\u001B[38;5;241m.\u001B[39mLinearRegression()\n\u001B[1;32m      2\u001B[0m regr\u001B[38;5;241m.\u001B[39mfit(X_train, y_train)\n\u001B[0;32m----> 4\u001B[0m y_pred \u001B[38;5;241m=\u001B[39m \u001B[43mmodel\u001B[49m\u001B[38;5;241m.\u001B[39mpredict(X_test) \u001B[38;5;66;03m#Test Data 예측\u001B[39;00m\n\u001B[1;32m      7\u001B[0m plt\u001B[38;5;241m.\u001B[39mplot(y_test, y_pred, \u001B[38;5;124m'\u001B[39m\u001B[38;5;124m.\u001B[39m\u001B[38;5;124m'\u001B[39m)\n\u001B[1;32m      8\u001B[0m plt\u001B[38;5;241m.\u001B[39mscatter(X_test, y_test, color\u001B[38;5;241m=\u001B[39m\u001B[38;5;124m'\u001B[39m\u001B[38;5;124mblack\u001B[39m\u001B[38;5;124m'\u001B[39m)\n",
      "\u001B[0;31mNameError\u001B[0m: name 'model' is not defined"
     ]
    }
   ],
   "execution_count": 16
  },
  {
   "cell_type": "code",
   "source": [
    "import matplotlib.pylab as plt\n",
    "from sklearn import linear_model\n",
    "\n",
    "reg = linear_model.LinearRegression()\n",
    "\n",
    "X = [[10], [18], [25], [33], [45]]\n",
    "y = [3,5,7,10,15]\n",
    "\n",
    "reg.fit(X,y)\n",
    "plt.scatter(X, y, color = 'black')\n",
    "\n",
    "y_pred = reg.predict(X)\n",
    "\n",
    "plt.plot(X, y_pred, color = 'blue', linewidth=3)\n",
    "plt.show()\n",
    "\n",
    "area = int(input(\"아파트 면적 입력 : \"))\n",
    "print(reg.predict([[area]]))"
   ],
   "metadata": {
    "colab": {
     "base_uri": "https://localhost:8080/",
     "height": 484
    },
    "id": "JMwdYZ19LqTn",
    "executionInfo": {
     "status": "ok",
     "timestamp": 1726982838889,
     "user_tz": -540,
     "elapsed": 5072,
     "user": {
      "displayName": "홍석민[컴퓨터시스템공학과]",
      "userId": "11359324048911234531"
     }
    },
    "outputId": "fab55cf4-4641-4344-a4f5-c885299c1fa2"
   },
   "execution_count": 21,
   "outputs": [
    {
     "output_type": "display_data",
     "data": {
      "text/plain": [
       "<Figure size 640x480 with 1 Axes>"
      ],
      "image/png": "[encoded data removed]"
     },
     "metadata": {}
    },
    {
     "output_type": "stream",
     "name": "stdout",
     "text": [
      "아파트 면적 입력 : 20\n",
      "[5.86206897]\n"
     ]
    }
   ]
  },
  {
   "cell_type": "code",
   "source": [],
   "metadata": {
    "id": "4UaxoSN4MhHP"
   },
   "execution_count": null,
   "outputs": []
  }
 ]
}
