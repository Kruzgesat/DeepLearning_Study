{
 "nbformat": 4,
 "nbformat_minor": 0,
 "metadata": {
  "colab": {
   "provenance": [],
   "authorship_tag": "ABX9TyNb11BN9/Uxcvd38a4nvdmK"
  },
  "kernelspec": {
   "name": "python3",
   "display_name": "Python 3 (ipykernel)",
   "language": "python"
  },
  "language_info": {
   "name": "python"
  }
 },
 "cells": [
  {
   "cell_type": "code",
   "metadata": {
    "colab": {
     "base_uri": "https://localhost:8080/"
    },
    "id": "DG0icIHWPaVc",
    "executionInfo": {
     "status": "ok",
     "timestamp": 1730121190593,
     "user_tz": -540,
     "elapsed": 8157,
     "user": {
      "displayName": "홍석민[컴퓨터시스템공학과]",
      "userId": "11359324048911234531"
     }
    },
    "outputId": "d7cfd350-8d6b-4829-e446-ed4055302fc0",
    "ExecuteTime": {
     "end_time": "2024-11-04T06:06:13.119105Z",
     "start_time": "2024-11-04T06:06:11.024789Z"
    }
   },
   "source": [
    "import tensorflow as tf\n",
    "\n",
    "shape = (4, 28, 28, 3)\n",
    "x = tf.random.normal(shape)\n",
    "y = tf.keras.layers.Conv2D(2, 3, activation='relu', input_shape=shape[1:])(x)\n",
    "print(y.shape)"
   ],
   "outputs": [
    {
     "name": "stdout",
     "output_type": "stream",
     "text": [
      "(4, 26, 26, 2)\n"
     ]
    }
   ],
   "execution_count": 1
  },
  {
   "cell_type": "code",
   "source": [
    "x = tf.constant([[1., 2., 3.], [4., 5., 6.], [7., 8., 9.]])\n",
    "x = tf.reshape(x, [1, 3, 3, 1])\n",
    "max_pool_2d = tf.keras.layers.MaxPooling2D(pool_size=(2, 2), strides=(1, 1),\n",
    "padding='valid')\n",
    "print(max_pool_2d(x))"
   ],
   "metadata": {
    "colab": {
     "base_uri": "https://localhost:8080/"
    },
    "id": "YDU_d6lYQikI",
    "executionInfo": {
     "status": "ok",
     "timestamp": 1730121258589,
     "user_tz": -540,
     "elapsed": 322,
     "user": {
      "displayName": "홍석민[컴퓨터시스템공학과]",
      "userId": "11359324048911234531"
     }
    },
    "outputId": "877667f5-0725-4577-b615-ec2b686cc74d",
    "ExecuteTime": {
     "end_time": "2024-11-04T06:06:13.188444Z",
     "start_time": "2024-11-04T06:06:13.183153Z"
    }
   },
   "outputs": [
    {
     "name": "stdout",
     "output_type": "stream",
     "text": [
      "tf.Tensor(\n",
      "[[[[5.]\n",
      "   [6.]]\n",
      "\n",
      "  [[8.]\n",
      "   [9.]]]], shape=(1, 2, 2, 1), dtype=float32)\n"
     ]
    }
   ],
   "execution_count": 2
  },
  {
   "cell_type": "code",
   "source": [
    "import tensorflow as tf\n",
    "from tensorflow.keras import datasets, layers, models\n",
    "\n",
    "(train_images, train_labels), (test_images, test_labels) = datasets.mnist.load_data()\n",
    "train_images = train_images.reshape((60000, 28, 28, 1))\n",
    "test_images = test_images.reshape((10000, 28, 28, 1))\n",
    "\n",
    "# Regulaize Pixel Value to 0 ~ 1\n",
    "train_images, test_images = train_images / 255.0, test_images / 255.0\n",
    "\n",
    "model = models.Sequential()\n",
    "\n",
    "model.add(layers.Conv2D(32, (3,3), activation = 'relu', input_shape=(28, 28, 1)))\n",
    "model.add(layers.MaxPooling2D((2,2)))\n",
    "model.add(layers.Conv2D(64, (3,3), activation = 'relu'))\n",
    "model.add(layers.MaxPooling2D((2,2)))\n",
    "model.add(layers.Conv2D(64, (3,3), activation = 'relu'))\n",
    "\n",
    "model.add(layers.Flatten())\n",
    "model.add(layers.Dense(64, activation='relu'))\n",
    "model.add(layers.Dense(10, activation='softmax'))\n",
    "model.summary()\n"
   ],
   "metadata": {
    "colab": {
     "base_uri": "https://localhost:8080/",
     "height": 385
    },
    "id": "nQuq5WBNQzR5",
    "executionInfo": {
     "status": "ok",
     "timestamp": 1730121542978,
     "user_tz": -540,
     "elapsed": 1011,
     "user": {
      "displayName": "홍석민[컴퓨터시스템공학과]",
      "userId": "11359324048911234531"
     }
    },
    "outputId": "6178ab03-e404-4755-e7a0-8e1d4bcecbeb",
    "ExecuteTime": {
     "end_time": "2024-11-04T06:06:13.598506Z",
     "start_time": "2024-11-04T06:06:13.255510Z"
    }
   },
   "outputs": [
    {
     "name": "stdout",
     "output_type": "stream",
     "text": [
      "Model: \"sequential\"\n",
      "_________________________________________________________________\n",
      " Layer (type)                Output Shape              Param #   \n",
      "=================================================================\n",
      " conv2d_1 (Conv2D)           (None, 26, 26, 32)        320       \n",
      "                                                                 \n",
      " max_pooling2d_1 (MaxPoolin  (None, 13, 13, 32)        0         \n",
      " g2D)                                                            \n",
      "                                                                 \n",
      " conv2d_2 (Conv2D)           (None, 11, 11, 64)        18496     \n",
      "                                                                 \n",
      " max_pooling2d_2 (MaxPoolin  (None, 5, 5, 64)          0         \n",
      " g2D)                                                            \n",
      "                                                                 \n",
      " conv2d_3 (Conv2D)           (None, 3, 3, 64)          36928     \n",
      "                                                                 \n",
      " flatten (Flatten)           (None, 576)               0         \n",
      "                                                                 \n",
      " dense (Dense)               (None, 64)                36928     \n",
      "                                                                 \n",
      " dense_1 (Dense)             (None, 10)                650       \n",
      "                                                                 \n",
      "=================================================================\n",
      "Total params: 93322 (364.54 KB)\n",
      "Trainable params: 93322 (364.54 KB)\n",
      "Non-trainable params: 0 (0.00 Byte)\n",
      "_________________________________________________________________\n"
     ]
    }
   ],
   "execution_count": 3
  },
  {
   "cell_type": "code",
   "source": [
    "model.compile(optimizer='adam',loss='sparse_categorical_crossentropy', metrics=['accuracy'])\n",
    "model.fit(train_images, train_labels, epochs=5)"
   ],
   "metadata": {
    "colab": {
     "base_uri": "https://localhost:8080/"
    },
    "id": "F_x5ZmARR6dp",
    "executionInfo": {
     "status": "ok",
     "timestamp": 1730121957014,
     "user_tz": -540,
     "elapsed": 351911,
     "user": {
      "displayName": "홍석민[컴퓨터시스템공학과]",
      "userId": "11359324048911234531"
     }
    },
    "outputId": "2e4c68fb-ac98-4ca5-c698-e0fb1f7efdd8",
    "ExecuteTime": {
     "end_time": "2024-11-04T06:07:19.158081Z",
     "start_time": "2024-11-04T06:06:13.607845Z"
    }
   },
   "outputs": [
    {
     "name": "stdout",
     "output_type": "stream",
     "text": [
      "Epoch 1/5\n",
      "1875/1875 [==============================] - 12s 7ms/step - loss: 0.1432 - accuracy: 0.9558\n",
      "Epoch 2/5\n",
      "1875/1875 [==============================] - 13s 7ms/step - loss: 0.0468 - accuracy: 0.9858\n",
      "Epoch 3/5\n",
      "1875/1875 [==============================] - 13s 7ms/step - loss: 0.0340 - accuracy: 0.9893\n",
      "Epoch 4/5\n",
      "1875/1875 [==============================] - 14s 7ms/step - loss: 0.0254 - accuracy: 0.9917\n",
      "Epoch 5/5\n",
      "1875/1875 [==============================] - 13s 7ms/step - loss: 0.0185 - accuracy: 0.9938\n"
     ]
    },
    {
     "data": {
      "text/plain": [
       "<keras.src.callbacks.History at 0x32f442eb0>"
      ]
     },
     "execution_count": 4,
     "metadata": {},
     "output_type": "execute_result"
    }
   ],
   "execution_count": 4
  },
  {
   "cell_type": "code",
   "source": [],
   "metadata": {
    "id": "Bb_jFwrIR-J6",
    "ExecuteTime": {
     "end_time": "2024-11-04T06:07:19.225548Z",
     "start_time": "2024-11-04T06:07:19.223936Z"
    }
   },
   "outputs": [],
   "execution_count": null
  }
 ]
}
