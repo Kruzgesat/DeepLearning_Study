{
 "nbformat": 4,
 "nbformat_minor": 0,
 "metadata": {
  "colab": {
   "provenance": [],
   "authorship_tag": "ABX9TyP1QoQwgfFKhoT6ULgxMWIQ"
  },
  "kernelspec": {
   "name": "python3",
   "display_name": "Python 3 (ipykernel)",
   "language": "python"
  },
  "language_info": {
   "name": "python"
  }
 },
 "cells": [
  {
   "cell_type": "code",
   "metadata": {
    "colab": {
     "base_uri": "https://localhost:8080/"
    },
    "id": "L6SpIeSWCQf5",
    "executionInfo": {
     "status": "ok",
     "timestamp": 1727752730255,
     "user_tz": -540,
     "elapsed": 340,
     "user": {
      "displayName": "홍석민[컴퓨터시스템공학과]",
      "userId": "11359324048911234531"
     }
    },
    "outputId": "6259bae2-3991-4c79-ebe3-ae87e157d394",
    "ExecuteTime": {
     "end_time": "2024-11-04T06:02:24.991757Z",
     "start_time": "2024-11-04T06:02:24.987146Z"
    }
   },
   "source": [
    "epsilon = 0.000001\n",
    "\n",
    "def perceptron(x1, x2):\n",
    "  w1, w2, b = 1.0, 1.0, -1.5\n",
    "  sum = x1 * w2 + x2 * w2 + b\n",
    "  if sum > epsilon :\n",
    "    return 1\n",
    "  else :\n",
    "    return 0\n",
    "\n",
    "print(perceptron(0,0))\n",
    "print(perceptron(1,0))\n",
    "print(perceptron(0,1))\n",
    "print(perceptron(1,1))"
   ],
   "outputs": [
    {
     "name": "stdout",
     "output_type": "stream",
     "text": [
      "0\n",
      "0\n",
      "0\n",
      "1\n"
     ]
    }
   ],
   "execution_count": 1
  },
  {
   "cell_type": "code",
   "source": [
    "import numpy as np\n",
    "epsilon = 0.0000001\n",
    "\n",
    "def perceptron(x1, x2):\n",
    "  X = np.array([x1, x2])\n",
    "  W = np.array([1.0, 1.0])\n",
    "  B = -1.5\n",
    "  sum = np.dot(W, X)+B\n",
    "  if sum > epsilon :\n",
    "    return 1\n",
    "  else :\n",
    "    return 0\n",
    "\n",
    "\n",
    "print(perceptron(0, 0))\n",
    "print(perceptron(1, 0))\n",
    "print(perceptron(0, 1))\n",
    "print(perceptron(1, 1))"
   ],
   "metadata": {
    "colab": {
     "base_uri": "https://localhost:8080/"
    },
    "id": "TRRvJi70Fkkw",
    "executionInfo": {
     "status": "ok",
     "timestamp": 1727752872786,
     "user_tz": -540,
     "elapsed": 290,
     "user": {
      "displayName": "홍석민[컴퓨터시스템공학과]",
      "userId": "11359324048911234531"
     }
    },
    "outputId": "87f9b1cb-aa26-4b58-b2c1-22c2f835aee4",
    "ExecuteTime": {
     "end_time": "2024-11-04T06:02:25.186816Z",
     "start_time": "2024-11-04T06:02:25.071796Z"
    }
   },
   "outputs": [
    {
     "name": "stdout",
     "output_type": "stream",
     "text": [
      "0\n",
      "0\n",
      "0\n",
      "1\n"
     ]
    }
   ],
   "execution_count": 2
  },
  {
   "cell_type": "code",
   "source": [
    "import numpy as np\n",
    "epsilon = 0.0000001\n",
    "\n",
    "def step_func(t):\n",
    "  if t > epsilon:\n",
    "      return 1\n",
    "  else:\n",
    "      return 0\n",
    "X = np.array([ [0, 0, 1],\n",
    "                [0, 1, 1],\n",
    "                 [1, 0, 1],\n",
    "                  [1, 1, 1]])\n",
    "\n",
    "y = np.array([0, 0, 0, 1])\n",
    "\n",
    "W = np.zeros(len(X[0]))\n",
    "\n",
    "def perceptron_fit(X, Y, epochs=10):\n",
    "  global W\n",
    "\n",
    "  eta = 0.2 # 학습률\n",
    "\n",
    "  for t in range(epochs):\n",
    "    print(\"epoch=\", t, \"======================\")\n",
    "\n",
    "    for i in range(len(X)):\n",
    "      predict = step_func(np.dot(X[i], W))\n",
    "      error = Y[i] - predict\n",
    "      W += eta * error * X[i]\n",
    "      print(\"현재 처리 입력=\",X[i],\"정답=\",Y[i],\"출력=\",predict,\"변경된 가중치=\", W)\n",
    "\n",
    "    print(\"================================\")\n",
    "\n",
    "def perceptron_predict(X, Y): # 예측\n",
    "  global W\n",
    "\n",
    "  for x in X:\n",
    "    print(x[0], x[1], \"->\", step_func(np.dot(x, W)))\n",
    "\n",
    "perceptron_fit(X, y, 6)\n",
    "perceptron_predict(X, y)\n",
    "\n"
   ],
   "metadata": {
    "colab": {
     "base_uri": "https://localhost:8080/"
    },
    "id": "-2Cum93gGKCK",
    "executionInfo": {
     "status": "ok",
     "timestamp": 1727753244671,
     "user_tz": -540,
     "elapsed": 327,
     "user": {
      "displayName": "홍석민[컴퓨터시스템공학과]",
      "userId": "11359324048911234531"
     }
    },
    "outputId": "23d32f76-bfde-4ee6-f3c5-8bf5d97ed89b",
    "ExecuteTime": {
     "end_time": "2024-11-04T06:02:25.238850Z",
     "start_time": "2024-11-04T06:02:25.226191Z"
    }
   },
   "outputs": [
    {
     "name": "stdout",
     "output_type": "stream",
     "text": [
      "epoch= 0 ======================\n",
      "현재 처리 입력= [0 0 1] 정답= 0 출력= 0 변경된 가중치= [0. 0. 0.]\n",
      "현재 처리 입력= [0 1 1] 정답= 0 출력= 0 변경된 가중치= [0. 0. 0.]\n",
      "현재 처리 입력= [1 0 1] 정답= 0 출력= 0 변경된 가중치= [0. 0. 0.]\n",
      "현재 처리 입력= [1 1 1] 정답= 1 출력= 0 변경된 가중치= [0.2 0.2 0.2]\n",
      "================================\n",
      "epoch= 1 ======================\n",
      "현재 처리 입력= [0 0 1] 정답= 0 출력= 1 변경된 가중치= [0.2 0.2 0. ]\n",
      "현재 처리 입력= [0 1 1] 정답= 0 출력= 1 변경된 가중치= [ 0.2  0.  -0.2]\n",
      "현재 처리 입력= [1 0 1] 정답= 0 출력= 0 변경된 가중치= [ 0.2  0.  -0.2]\n",
      "현재 처리 입력= [1 1 1] 정답= 1 출력= 0 변경된 가중치= [0.4 0.2 0. ]\n",
      "================================\n",
      "epoch= 2 ======================\n",
      "현재 처리 입력= [0 0 1] 정답= 0 출력= 0 변경된 가중치= [0.4 0.2 0. ]\n",
      "현재 처리 입력= [0 1 1] 정답= 0 출력= 1 변경된 가중치= [ 0.4  0.  -0.2]\n",
      "현재 처리 입력= [1 0 1] 정답= 0 출력= 1 변경된 가중치= [ 0.2  0.  -0.4]\n",
      "현재 처리 입력= [1 1 1] 정답= 1 출력= 0 변경된 가중치= [ 0.4  0.2 -0.2]\n",
      "================================\n",
      "epoch= 3 ======================\n",
      "현재 처리 입력= [0 0 1] 정답= 0 출력= 0 변경된 가중치= [ 0.4  0.2 -0.2]\n",
      "현재 처리 입력= [0 1 1] 정답= 0 출력= 0 변경된 가중치= [ 0.4  0.2 -0.2]\n",
      "현재 처리 입력= [1 0 1] 정답= 0 출력= 1 변경된 가중치= [ 0.2  0.2 -0.4]\n",
      "현재 처리 입력= [1 1 1] 정답= 1 출력= 0 변경된 가중치= [ 0.4  0.4 -0.2]\n",
      "================================\n",
      "epoch= 4 ======================\n",
      "현재 처리 입력= [0 0 1] 정답= 0 출력= 0 변경된 가중치= [ 0.4  0.4 -0.2]\n",
      "현재 처리 입력= [0 1 1] 정답= 0 출력= 1 변경된 가중치= [ 0.4  0.2 -0.4]\n",
      "현재 처리 입력= [1 0 1] 정답= 0 출력= 0 변경된 가중치= [ 0.4  0.2 -0.4]\n",
      "현재 처리 입력= [1 1 1] 정답= 1 출력= 1 변경된 가중치= [ 0.4  0.2 -0.4]\n",
      "================================\n",
      "epoch= 5 ======================\n",
      "현재 처리 입력= [0 0 1] 정답= 0 출력= 0 변경된 가중치= [ 0.4  0.2 -0.4]\n",
      "현재 처리 입력= [0 1 1] 정답= 0 출력= 0 변경된 가중치= [ 0.4  0.2 -0.4]\n",
      "현재 처리 입력= [1 0 1] 정답= 0 출력= 0 변경된 가중치= [ 0.4  0.2 -0.4]\n",
      "현재 처리 입력= [1 1 1] 정답= 1 출력= 1 변경된 가중치= [ 0.4  0.2 -0.4]\n",
      "================================\n",
      "0 0 -> 0\n",
      "0 1 -> 0\n",
      "1 0 -> 0\n",
      "1 1 -> 1\n"
     ]
    }
   ],
   "execution_count": 3
  },
  {
   "cell_type": "code",
   "source": [
    "from sklearn.linear_model import Perceptron\n",
    "\n",
    "#Sample Lable\n",
    "\n",
    "X = [[0,0],[0,1],[1,0],[1,1]]\n",
    "y = [0, 0, 0, 1]\n",
    "\n",
    "#tol = Quit\n",
    "\n",
    "clf = Perceptron(tol=1e-3, random_state=0)\n",
    "\n",
    "clf.fit(X, y)\n",
    "\n",
    "print(clf.predict(X))"
   ],
   "metadata": {
    "colab": {
     "base_uri": "https://localhost:8080/"
    },
    "id": "3385ofwvGt_t",
    "executionInfo": {
     "status": "ok",
     "timestamp": 1727753300977,
     "user_tz": -540,
     "elapsed": 3246,
     "user": {
      "displayName": "홍석민[컴퓨터시스템공학과]",
      "userId": "11359324048911234531"
     }
    },
    "outputId": "c9521b18-f3e2-43a0-a988-744c1aa3be10",
    "ExecuteTime": {
     "end_time": "2024-11-04T06:02:25.668344Z",
     "start_time": "2024-11-04T06:02:25.265153Z"
    }
   },
   "outputs": [
    {
     "name": "stdout",
     "output_type": "stream",
     "text": [
      "[0 0 0 1]\n"
     ]
    }
   ],
   "execution_count": 4
  },
  {
   "cell_type": "code",
   "source": [
    "def step(x):\n",
    "\n",
    "  if x > 0.000001:\n",
    "      return 1 # 부동 소수점 오차 방지\n",
    "  else:\n",
    "      return 0"
   ],
   "metadata": {
    "id": "90UfMHhSHx1M",
    "executionInfo": {
     "status": "ok",
     "timestamp": 1727753345139,
     "user_tz": -540,
     "elapsed": 321,
     "user": {
      "displayName": "홍석민[컴퓨터시스템공학과]",
      "userId": "11359324048911234531"
     }
    },
    "ExecuteTime": {
     "end_time": "2024-11-04T06:02:25.676664Z",
     "start_time": "2024-11-04T06:02:25.674711Z"
    }
   },
   "outputs": [],
   "execution_count": 5
  },
  {
   "cell_type": "code",
   "source": [
    "def step(x):\n",
    "  result = x > 0.000001 # True 또는 False\n",
    "  return result.astype(np.int32) # Integer Return"
   ],
   "metadata": {
    "id": "EVuGAN-FH9WA",
    "executionInfo": {
     "status": "ok",
     "timestamp": 1727753382039,
     "user_tz": -540,
     "elapsed": 308,
     "user": {
      "displayName": "홍석민[컴퓨터시스템공학과]",
      "userId": "11359324048911234531"
     }
    },
    "ExecuteTime": {
     "end_time": "2024-11-04T06:02:25.683938Z",
     "start_time": "2024-11-04T06:02:25.682270Z"
    }
   },
   "outputs": [],
   "execution_count": 6
  },
  {
   "cell_type": "code",
   "source": [
    "import numpy as np\n",
    "import matplotlib.pyplot as plt\n",
    "\n",
    "x = np.arange(-10.0, 10.0, 0.1)\n",
    "y = step(x)\n",
    "plt.plot(x, y)\n",
    "plt.show()"
   ],
   "metadata": {
    "colab": {
     "base_uri": "https://localhost:8080/",
     "height": 451
    },
    "id": "07PtTrq6IGTv",
    "executionInfo": {
     "status": "ok",
     "timestamp": 1727753397641,
     "user_tz": -540,
     "elapsed": 702,
     "user": {
      "displayName": "홍석민[컴퓨터시스템공학과]",
      "userId": "11359324048911234531"
     }
    },
    "outputId": "37c4d1d4-1f8d-4a1e-c95b-2baa82b85736",
    "ExecuteTime": {
     "end_time": "2024-11-04T06:02:25.993647Z",
     "start_time": "2024-11-04T06:02:25.696566Z"
    }
   },
   "outputs": [
    {
     "data": {
      "text/plain": [
       "<Figure size 640x480 with 1 Axes>"
      ],
      "image/png": "[encoded data removed]"
     },
     "metadata": {},
     "output_type": "display_data"
    }
   ],
   "execution_count": 7
  },
  {
   "cell_type": "code",
   "source": [
    "import numpy as np\n",
    "import matplotlib.pyplot as plt\n",
    "\n",
    "def sigmoid(x):\n",
    "  return 1.0 / (1.0 + np.exp(-x))\n",
    "\n",
    "x = np.arange(-10.0, 10.0, 0.1)\n",
    "y = sigmoid(x)\n",
    "\n",
    "plt.plot(x, y)\n",
    "plt.show()"
   ],
   "metadata": {
    "colab": {
     "base_uri": "https://localhost:8080/",
     "height": 451
    },
    "id": "-rl6pf0xIKEu",
    "executionInfo": {
     "status": "ok",
     "timestamp": 1727753419103,
     "user_tz": -540,
     "elapsed": 816,
     "user": {
      "displayName": "홍석민[컴퓨터시스템공학과]",
      "userId": "11359324048911234531"
     }
    },
    "outputId": "4b7b072f-7b70-419e-b5d0-f950538bf73b",
    "ExecuteTime": {
     "end_time": "2024-11-04T06:02:26.061161Z",
     "start_time": "2024-11-04T06:02:26.001907Z"
    }
   },
   "outputs": [
    {
     "data": {
      "text/plain": [
       "<Figure size 640x480 with 1 Axes>"
      ],
      "image/png": "[encoded data removed]"
     },
     "metadata": {},
     "output_type": "display_data"
    }
   ],
   "execution_count": 8
  },
  {
   "cell_type": "code",
   "source": [
    "import numpy as np\n",
    "import matplotlib.pyplot as plt\n",
    "\n",
    "x = np.linspace(-np.pi, np.pi, 60)\n",
    "y = np.tanh(x)\n",
    "\n",
    "plt.plot(x, y)\n",
    "plt.show()"
   ],
   "metadata": {
    "colab": {
     "base_uri": "https://localhost:8080/",
     "height": 451
    },
    "id": "0pF_ZOb7IPR-",
    "executionInfo": {
     "status": "ok",
     "timestamp": 1727753441332,
     "user_tz": -540,
     "elapsed": 720,
     "user": {
      "displayName": "홍석민[컴퓨터시스템공학과]",
      "userId": "11359324048911234531"
     }
    },
    "outputId": "df4846dd-cd1d-48f0-d496-e5201503f398",
    "ExecuteTime": {
     "end_time": "2024-11-04T06:02:26.129445Z",
     "start_time": "2024-11-04T06:02:26.067760Z"
    }
   },
   "outputs": [
    {
     "data": {
      "text/plain": [
       "<Figure size 640x480 with 1 Axes>"
      ],
      "image/png": "[encoded data removed]"
     },
     "metadata": {},
     "output_type": "display_data"
    }
   ],
   "execution_count": 9
  },
  {
   "cell_type": "code",
   "source": [
    "import numpy as np\n",
    "import matplotlib.pyplot as plt\n",
    "\n",
    "def relu(x):\n",
    "  return np.maximum(x, 0)\n",
    "\n",
    "x = np.arange(-10.0, 10.0, 0.1)\n",
    "y = relu(x)\n",
    "\n",
    "plt.plot(x, y)\n",
    "plt.show()"
   ],
   "metadata": {
    "colab": {
     "base_uri": "https://localhost:8080/",
     "height": 451
    },
    "id": "KRNaaf4aIUuw",
    "executionInfo": {
     "status": "ok",
     "timestamp": 1727753458828,
     "user_tz": -540,
     "elapsed": 349,
     "user": {
      "displayName": "홍석민[컴퓨터시스템공학과]",
      "userId": "11359324048911234531"
     }
    },
    "outputId": "4c43e865-1eb6-43a0-df57-17c8428438fd",
    "ExecuteTime": {
     "end_time": "2024-11-04T06:02:26.192990Z",
     "start_time": "2024-11-04T06:02:26.135171Z"
    }
   },
   "outputs": [
    {
     "data": {
      "text/plain": [
       "<Figure size 640x480 with 1 Axes>"
      ],
      "image/png": "[encoded data removed]"
     },
     "metadata": {},
     "output_type": "display_data"
    }
   ],
   "execution_count": 10
  },
  {
   "cell_type": "code",
   "source": [
    "import numpy as np\n",
    "\n",
    "def actf(x):\n",
    "  return 1/(1+np.exp(-x))\n",
    "\n",
    "def actf_deriv(x):\n",
    "  return x*(1-x)\n",
    "\n",
    "inputs, hiddens, outputs = 2, 2, 1\n",
    "learning_rate=0.2\n",
    "\n",
    "X = np.array([[0, 0], [0, 1], [1, 0], [1, 1]])\n",
    "T = np.array([[0], [1], [1], [0]])\n",
    "\n",
    "\n",
    "W1 = np.array([[0.10, 0.20],[0.30, 0.40]])\n",
    "W2 = np.array([[0.50], [0.60]])\n",
    "B1 = np.array([0.1, 0.2])\n",
    "B2 = np.array([0.3])\n",
    "\n",
    "# 순방향 전파 계산\n",
    "def predict(x):\n",
    "  layer0 = x\n",
    "\n",
    "  Z1 = np.dot(layer0, W1)+B1\n",
    "  layer1 = actf(Z1)\n",
    "\n",
    "  Z2 = np.dot(layer1, W2)+B2\n",
    "  layer2 = actf(Z2)\n",
    "\n",
    "  return layer0, layer1, layer2\n",
    "\n",
    "def test():\n",
    "  for x, y in zip(X, T):\n",
    "    x = np.reshape(x, (1, -1)) # 2nd Demensinal input within Array\n",
    "    layer0, layer1, layer2 = predict(x)\n",
    "    print(x, y, layer2)\n",
    "test()"
   ],
   "metadata": {
    "colab": {
     "base_uri": "https://localhost:8080/"
    },
    "id": "bymeZwBPIZFn",
    "executionInfo": {
     "status": "ok",
     "timestamp": 1727753713865,
     "user_tz": -540,
     "elapsed": 322,
     "user": {
      "displayName": "홍석민[컴퓨터시스템공학과]",
      "userId": "11359324048911234531"
     }
    },
    "outputId": "7a89a235-63c0-4e46-94cc-14c434cd5c7c",
    "ExecuteTime": {
     "end_time": "2024-11-04T06:02:26.204515Z",
     "start_time": "2024-11-04T06:02:26.199825Z"
    }
   },
   "outputs": [
    {
     "name": "stdout",
     "output_type": "stream",
     "text": [
      "[[0 0]] [0] [[0.70938314]]\n",
      "[[0 1]] [1] [[0.72844306]]\n",
      "[[1 0]] [1] [[0.71791234]]\n",
      "[[1 1]] [0] [[0.73598705]]\n"
     ]
    }
   ],
   "execution_count": 11
  },
  {
   "cell_type": "code",
   "source": [
    "x = 10\n",
    "learning_rate = 0.2\n",
    "precision = 0.00001\n",
    "max_iterations = 100\n",
    "\n",
    "# Lamda Function\n",
    "\n",
    "loss_func = lambda x: (x-3)**2 + 10\n",
    "\n",
    "# Define Gradeint To Lamda Function\n",
    "\n",
    "gradient = lambda x: 2*x-6\n",
    "\n",
    "# 그래디언트 강하법\n",
    "for i in range(max_iterations):\n",
    "  x = x - learning_rate * gradient(x)\n",
    "  print(\"손실함수값(\", x, \")=\", loss_func(x))\n",
    "\n",
    "print(\"최소값 = \", x)\n"
   ],
   "metadata": {
    "colab": {
     "base_uri": "https://localhost:8080/"
    },
    "id": "QZEJylg1JXXI",
    "executionInfo": {
     "status": "ok",
     "timestamp": 1727753883923,
     "user_tz": -540,
     "elapsed": 310,
     "user": {
      "displayName": "홍석민[컴퓨터시스템공학과]",
      "userId": "11359324048911234531"
     }
    },
    "outputId": "aa14ee01-706b-4ede-e583-07f10d526865",
    "ExecuteTime": {
     "end_time": "2024-11-04T06:02:26.221718Z",
     "start_time": "2024-11-04T06:02:26.218094Z"
    }
   },
   "outputs": [
    {
     "name": "stdout",
     "output_type": "stream",
     "text": [
      "손실함수값( 7.199999999999999 )= 27.639999999999993\n",
      "손실함수값( 5.52 )= 16.350399999999997\n",
      "손실함수값( 4.512 )= 12.286143999999998\n",
      "손실함수값( 3.9071999999999996 )= 10.82301184\n",
      "손실함수값( 3.54432 )= 10.2962842624\n",
      "손실함수값( 3.3265919999999998 )= 10.106662334464\n",
      "손실함수값( 3.1959551999999998 )= 10.03839844040704\n",
      "손실함수값( 3.11757312 )= 10.013823438546535\n",
      "손실함수값( 3.070543872 )= 10.004976437876753\n",
      "손실함수값( 3.0423263232 )= 10.001791517635631\n",
      "손실함수값( 3.02539579392 )= 10.000644946348826\n",
      "손실함수값( 3.015237476352 )= 10.000232180685577\n",
      "손실함수값( 3.0091424858112 )= 10.000083585046807\n",
      "손실함수값( 3.00548549148672 )= 10.000030090616852\n",
      "손실함수값( 3.003291294892032 )= 10.000010832622067\n",
      "손실함수값( 3.0019747769352194 )= 10.000003899743945\n",
      "손실함수값( 3.0011848661611316 )= 10.00000140390782\n",
      "손실함수값( 3.000710919696679 )= 10.000000505406815\n",
      "손실함수값( 3.0004265518180073 )= 10.000000181946453\n",
      "손실함수값( 3.0002559310908046 )= 10.000000065500723\n",
      "손실함수값( 3.0001535586544827 )= 10.00000002358026\n",
      "손실함수값( 3.0000921351926895 )= 10.000000008488893\n",
      "손실함수값( 3.0000552811156136 )= 10.000000003056002\n",
      "손실함수값( 3.000033168669368 )= 10.00000000110016\n",
      "손실함수값( 3.000019901201621 )= 10.000000000396058\n",
      "손실함수값( 3.0000119407209724 )= 10.000000000142581\n",
      "손실함수값( 3.0000071644325836 )= 10.00000000005133\n",
      "손실함수값( 3.00000429865955 )= 10.000000000018478\n",
      "손실함수값( 3.00000257919573 )= 10.000000000006652\n",
      "손실함수값( 3.0000015475174377 )= 10.000000000002395\n",
      "손실함수값( 3.0000009285104627 )= 10.000000000000862\n",
      "손실함수값( 3.0000005571062776 )= 10.00000000000031\n",
      "손실함수값( 3.0000003342637664 )= 10.000000000000112\n",
      "손실함수값( 3.0000002005582598 )= 10.00000000000004\n",
      "손실함수값( 3.0000001203349558 )= 10.000000000000014\n",
      "손실함수값( 3.0000000722009736 )= 10.000000000000005\n",
      "손실함수값( 3.000000043320584 )= 10.000000000000002\n",
      "손실함수값( 3.0000000259923505 )= 10.0\n",
      "손실함수값( 3.0000000155954103 )= 10.0\n",
      "손실함수값( 3.000000009357246 )= 10.0\n",
      "손실함수값( 3.0000000056143477 )= 10.0\n",
      "손실함수값( 3.0000000033686085 )= 10.0\n",
      "손실함수값( 3.000000002021165 )= 10.0\n",
      "손실함수값( 3.000000001212699 )= 10.0\n",
      "손실함수값( 3.0000000007276193 )= 10.0\n",
      "손실함수값( 3.0000000004365717 )= 10.0\n",
      "손실함수값( 3.000000000261943 )= 10.0\n",
      "손실함수값( 3.000000000157166 )= 10.0\n",
      "손실함수값( 3.0000000000942997 )= 10.0\n",
      "손실함수값( 3.0000000000565796 )= 10.0\n",
      "손실함수값( 3.000000000033948 )= 10.0\n",
      "손실함수값( 3.0000000000203686 )= 10.0\n",
      "손실함수값( 3.0000000000122213 )= 10.0\n",
      "손실함수값( 3.000000000007333 )= 10.0\n",
      "손실함수값( 3.0000000000043996 )= 10.0\n",
      "손실함수값( 3.0000000000026397 )= 10.0\n",
      "손실함수값( 3.0000000000015836 )= 10.0\n",
      "손실함수값( 3.0000000000009504 )= 10.0\n",
      "손실함수값( 3.00000000000057 )= 10.0\n",
      "손실함수값( 3.000000000000342 )= 10.0\n",
      "손실함수값( 3.000000000000205 )= 10.0\n",
      "손실함수값( 3.000000000000123 )= 10.0\n",
      "손실함수값( 3.0000000000000737 )= 10.0\n",
      "손실함수값( 3.0000000000000444 )= 10.0\n",
      "손실함수값( 3.0000000000000266 )= 10.0\n",
      "손실함수값( 3.000000000000016 )= 10.0\n",
      "손실함수값( 3.0000000000000098 )= 10.0\n",
      "손실함수값( 3.0000000000000058 )= 10.0\n",
      "손실함수값( 3.0000000000000036 )= 10.0\n",
      "손실함수값( 3.000000000000002 )= 10.0\n",
      "손실함수값( 3.0000000000000013 )= 10.0\n",
      "손실함수값( 3.000000000000001 )= 10.0\n",
      "손실함수값( 3.0000000000000004 )= 10.0\n",
      "손실함수값( 3.0000000000000004 )= 10.0\n",
      "손실함수값( 3.0000000000000004 )= 10.0\n",
      "손실함수값( 3.0000000000000004 )= 10.0\n",
      "손실함수값( 3.0000000000000004 )= 10.0\n",
      "손실함수값( 3.0000000000000004 )= 10.0\n",
      "손실함수값( 3.0000000000000004 )= 10.0\n",
      "손실함수값( 3.0000000000000004 )= 10.0\n",
      "손실함수값( 3.0000000000000004 )= 10.0\n",
      "손실함수값( 3.0000000000000004 )= 10.0\n",
      "손실함수값( 3.0000000000000004 )= 10.0\n",
      "손실함수값( 3.0000000000000004 )= 10.0\n",
      "손실함수값( 3.0000000000000004 )= 10.0\n",
      "손실함수값( 3.0000000000000004 )= 10.0\n",
      "손실함수값( 3.0000000000000004 )= 10.0\n",
      "손실함수값( 3.0000000000000004 )= 10.0\n",
      "손실함수값( 3.0000000000000004 )= 10.0\n",
      "손실함수값( 3.0000000000000004 )= 10.0\n",
      "손실함수값( 3.0000000000000004 )= 10.0\n",
      "손실함수값( 3.0000000000000004 )= 10.0\n",
      "손실함수값( 3.0000000000000004 )= 10.0\n",
      "손실함수값( 3.0000000000000004 )= 10.0\n",
      "손실함수값( 3.0000000000000004 )= 10.0\n",
      "손실함수값( 3.0000000000000004 )= 10.0\n",
      "손실함수값( 3.0000000000000004 )= 10.0\n",
      "손실함수값( 3.0000000000000004 )= 10.0\n",
      "손실함수값( 3.0000000000000004 )= 10.0\n",
      "손실함수값( 3.0000000000000004 )= 10.0\n",
      "최소값 =  3.0000000000000004\n"
     ]
    }
   ],
   "execution_count": 12
  },
  {
   "cell_type": "code",
   "source": [
    "import numpy as np\n",
    "\n",
    "def actf(x):\n",
    "  return 1/(1+np.exp(-x))\n",
    "\n",
    "def actf_deriv(x):\n",
    "  return x*(1-x)\n",
    "\n",
    "inputs, hiddens, outputs = 2, 2, 1\n",
    "learning_rate=0.2\n",
    "\n",
    "X = np.array([[0, 0], [0, 1], [1, 0], [1, 1]])\n",
    "T = np.array([[0], [1], [1], [0]])\n",
    "\n",
    "\n",
    "W1 = np.array([[0.10, 0.20],[0.30, 0.40]])\n",
    "W2 = np.array([[0.50], [0.60]])\n",
    "B1 = np.array([0.1, 0.2])\n",
    "B2 = np.array([0.3])\n",
    "\n",
    "# 순방향 전파 계산\n",
    "def predict(x):\n",
    "  layer0 = x\n",
    "\n",
    "  Z1 = np.dot(layer0, W1)+B1\n",
    "  layer1 = actf(Z1)\n",
    "\n",
    "  Z2 = np.dot(layer1, W2)+B2\n",
    "  layer2 = actf(Z2)\n",
    "\n",
    "  return layer0, layer1, layer2\n",
    "\n",
    "# 역방향 전파 계산\n",
    "def fit():\n",
    "  global W1, W2, B1, B2\n",
    "\n",
    "  for i in range(90000):\n",
    "    for x, y in zip(X, T):\n",
    "        x = np.reshape(x, (1, -1))\n",
    "        y = np.reshape(y, (1, -1))\n",
    "\n",
    "        layer0, layer1, layer2 = predict(x)\n",
    "\n",
    "        layer2_error = layer2-y\n",
    "        layer2_delta = layer2_error*actf_deriv(layer2)\n",
    "        layer1_error = np.dot(layer2_delta, W2.T)\n",
    "        layer1_delta = layer1_error*actf_deriv(layer1)\n",
    "\n",
    "        W2 += -learning_rate*np.dot(layer1.T, layer2_delta)\n",
    "        W1 += -learning_rate*np.dot(layer0.T, layer1_delta)\n",
    "        B2 += -learning_rate*np.sum(layer2_delta, axis=0)\n",
    "        B1 += -learning_rate*np.sum(layer1_delta, axis=0)\n",
    "\n",
    "def test():\n",
    "  for x, y in zip(X, T):\n",
    "    x = np.reshape(x, (1, -1)) # 2nd Demensional input within Array\n",
    "    layer0, layer1, layer2 = predict(x)\n",
    "    print(x, y, layer2)\n",
    "\n",
    "fit()\n",
    "test()"
   ],
   "metadata": {
    "colab": {
     "base_uri": "https://localhost:8080/"
    },
    "id": "rODCpqfsJ4Om",
    "executionInfo": {
     "status": "ok",
     "timestamp": 1727754128724,
     "user_tz": -540,
     "elapsed": 26495,
     "user": {
      "displayName": "홍석민[컴퓨터시스템공학과]",
      "userId": "11359324048911234531"
     }
    },
    "outputId": "2fe2d3b0-419e-4f62-dd96-fbf8e0f50ad9",
    "ExecuteTime": {
     "end_time": "2024-11-04T06:02:33.587686Z",
     "start_time": "2024-11-04T06:02:26.264961Z"
    }
   },
   "outputs": [
    {
     "name": "stdout",
     "output_type": "stream",
     "text": [
      "[[0 0]] [0] [[0.00814407]]\n",
      "[[0 1]] [1] [[0.99154105]]\n",
      "[[1 0]] [1] [[0.99152258]]\n",
      "[[1 1]] [0] [[0.01038517]]\n"
     ]
    }
   ],
   "execution_count": 13
  },
  {
   "cell_type": "code",
   "source": [],
   "metadata": {
    "id": "8sx6cGyxK2NY",
    "ExecuteTime": {
     "end_time": "2024-11-04T06:02:33.653313Z",
     "start_time": "2024-11-04T06:02:33.651695Z"
    }
   },
   "outputs": [],
   "execution_count": null
  }
 ]
}
