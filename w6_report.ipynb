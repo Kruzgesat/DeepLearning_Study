{
 "nbformat": 4,
 "nbformat_minor": 0,
 "metadata": {
  "colab": {
   "provenance": [],
   "authorship_tag": "ABX9TyMCPp+BgskXe9fR5Jb6Kcg2"
  },
  "kernelspec": {
   "name": "python3",
   "display_name": "Python 3 (ipykernel)",
   "language": "python"
  },
  "language_info": {
   "name": "python"
  }
 },
 "cells": [
  {
   "cell_type": "code",
   "metadata": {
    "id": "8AYoQLUYf4cu",
    "ExecuteTime": {
     "end_time": "2024-11-04T06:04:14.584325Z",
     "start_time": "2024-11-04T06:04:14.578817Z"
    }
   },
   "source": [
    "import numpy as np\n",
    "import tensorflow as tf"
   ],
   "outputs": [],
   "execution_count": 11
  },
  {
   "cell_type": "code",
   "source": [
    "(x_train, y_train), (x_test, y_test) = tf.keras.datasets.mnist.load_data()\n",
    "\n",
    "data_size = x_train.shape[0]\n",
    "batch_size = 12\n",
    "\n",
    "selected = np.random.choice(data_size, batch_size)\n",
    "\n",
    "print(selected)\n",
    "\n",
    "x_batch = x_train[selected]\n",
    "y_batch = y_train[selected]"
   ],
   "metadata": {
    "colab": {
     "base_uri": "https://localhost:8080/"
    },
    "id": "6jQdsnBjoaBu",
    "executionInfo": {
     "status": "ok",
     "timestamp": 1728282108425,
     "user_tz": -540,
     "elapsed": 714,
     "user": {
      "displayName": "홍석민[컴퓨터시스템공학과]",
      "userId": "11359324048911234531"
     }
    },
    "outputId": "d50b6d85-172a-4809-b30b-ce74c5437643",
    "ExecuteTime": {
     "end_time": "2024-11-04T06:04:14.754094Z",
     "start_time": "2024-11-04T06:04:14.591439Z"
    }
   },
   "outputs": [
    {
     "name": "stdout",
     "output_type": "stream",
     "text": [
      "[58047 56660 49808 25110 15078 58563 10737 38162 27252 21470  8920 19518]\n"
     ]
    }
   ],
   "execution_count": 12
  },
  {
   "cell_type": "code",
   "source": [
    "import numpy as np\n",
    "\n",
    "def actf(x):\n",
    "  return 1/(1+np.exp(-x))\n",
    "\n",
    "def actf_deriv(x):\n",
    "  return x*(1-x)\n",
    "\n",
    "inputs, hiddens, outputs = 2,2,1\n",
    "learning_rate = 0.5\n",
    "\n",
    "\n",
    "X = np.array([[0,0],[0,1],[1,0],[1,1]])\n",
    "T = np.array([[0],[1],[1],[0]])\n",
    "\n",
    "W1 = 2*np.random.random((inputs, hiddens)) -1\n",
    "W2 = 2*np.random.random((hiddens, outputs)) -1\n",
    "\n",
    "B1 = np.zeros(hiddens)\n",
    "B2 = np.zeros(outputs)\n",
    "\n",
    "def predict(x):\n",
    "  layer0 = x\n",
    "  Z1 = np.dot(layer0, W1)+B1\n",
    "  layer1 = actf(Z1)\n",
    "  Z2 = np.dot(layer1, W2)+B2\n",
    "  layer2 = actf(Z2)             #Activation Function\n",
    "  return layer0, layer1, layer2\n",
    "\n",
    "def fit(): #Reverse\n",
    "  global W1, W2, B1, B2\n",
    "  for i in range(60000):\n",
    "    layer0, layer1, layer2 = predict(X)\n",
    "    layer2_error = layer2-T\n",
    "    layer2_delta = layer2_error*actf_deriv(layer2)\n",
    "    layer1_error = np.dot(layer2_delta, W2.T)\n",
    "    layer1_delta = layer1_error*actf_deriv(layer1)\n",
    "\n",
    "    W2 += -learning_rate*np.dot(layer1.T, layer2_delta)/4.0\n",
    "    W1 += -learning_rate*np.dot(layer0.T, layer1_delta)/4.0\n",
    "    B2 += -learning_rate*np.sum(layer2_delta, axis=0)/4.0\n",
    "    B1 += -learning_rate*np.sum(layer1_delta, axis=0)/4.0\n",
    "\n",
    "def test():\n",
    "  for x, y in zip(X, T):\n",
    "    x = np.reshape(x, (1, -1))\n",
    "    layer0, layer1, layer2 = predict(x)\n",
    "    print(x, y, layer2)\n",
    "\n",
    "\n",
    "fit()\n",
    "test()\n",
    "\n"
   ],
   "metadata": {
    "colab": {
     "base_uri": "https://localhost:8080/"
    },
    "id": "b1tpZcHbpBuV",
    "executionInfo": {
     "status": "ok",
     "timestamp": 1728282465802,
     "user_tz": -540,
     "elapsed": 4821,
     "user": {
      "displayName": "홍석민[컴퓨터시스템공학과]",
      "userId": "11359324048911234531"
     }
    },
    "outputId": "ab4d1aca-fb51-4675-def2-40f4c73dd3af",
    "ExecuteTime": {
     "end_time": "2024-11-04T06:04:16.135920Z",
     "start_time": "2024-11-04T06:04:14.821294Z"
    }
   },
   "outputs": [
    {
     "name": "stdout",
     "output_type": "stream",
     "text": [
      "[[0 0]] [0] [[0.01485672]]\n",
      "[[0 1]] [1] [[0.98722762]]\n",
      "[[1 0]] [1] [[0.98707946]]\n",
      "[[1 1]] [0] [[0.01345636]]\n"
     ]
    }
   ],
   "execution_count": 13
  },
  {
   "cell_type": "code",
   "source": [
    "import matplotlib.pyplot as plt\n",
    "import tensorflow as tf\n",
    "\n",
    "\n",
    "(train_images, train_labels), (test_images, test_labels) = tf.keras.datasets.mnist.load_data()\n"
   ],
   "metadata": {
    "id": "sv8Wza2Ap5b-",
    "ExecuteTime": {
     "end_time": "2024-11-04T06:04:16.296871Z",
     "start_time": "2024-11-04T06:04:16.143865Z"
    }
   },
   "outputs": [],
   "execution_count": 14
  },
  {
   "cell_type": "code",
   "source": [
    "train_images.shape"
   ],
   "metadata": {
    "colab": {
     "base_uri": "https://localhost:8080/"
    },
    "id": "FrCszq-wrAwA",
    "executionInfo": {
     "status": "ok",
     "timestamp": 1728282839766,
     "user_tz": -540,
     "elapsed": 320,
     "user": {
      "displayName": "홍석민[컴퓨터시스템공학과]",
      "userId": "11359324048911234531"
     }
    },
    "outputId": "8bc7b586-f26c-4d22-ea59-eabb143320f4",
    "ExecuteTime": {
     "end_time": "2024-11-04T06:04:16.309843Z",
     "start_time": "2024-11-04T06:04:16.306637Z"
    }
   },
   "outputs": [
    {
     "data": {
      "text/plain": [
       "(60000, 28, 28)"
      ]
     },
     "execution_count": 15,
     "metadata": {},
     "output_type": "execute_result"
    }
   ],
   "execution_count": 15
  },
  {
   "cell_type": "code",
   "source": [
    "train_labels"
   ],
   "metadata": {
    "colab": {
     "base_uri": "https://localhost:8080/"
    },
    "id": "jWxIlEIYr0fS",
    "executionInfo": {
     "status": "ok",
     "timestamp": 1728282857720,
     "user_tz": -540,
     "elapsed": 305,
     "user": {
      "displayName": "홍석민[컴퓨터시스템공학과]",
      "userId": "11359324048911234531"
     }
    },
    "outputId": "ac31bb28-0002-4b01-927c-c51cf3c3a077",
    "ExecuteTime": {
     "end_time": "2024-11-04T06:04:16.354037Z",
     "start_time": "2024-11-04T06:04:16.351281Z"
    }
   },
   "outputs": [
    {
     "data": {
      "text/plain": [
       "array([5, 0, 4, ..., 5, 6, 8], dtype=uint8)"
      ]
     },
     "execution_count": 16,
     "metadata": {},
     "output_type": "execute_result"
    }
   ],
   "execution_count": 16
  },
  {
   "cell_type": "code",
   "source": [
    "plt.imshow(train_images[0], cmap=\"Greys\")"
   ],
   "metadata": {
    "colab": {
     "base_uri": "https://localhost:8080/",
     "height": 468
    },
    "id": "T4CnTSCtr2_f",
    "executionInfo": {
     "status": "ok",
     "timestamp": 1728282882725,
     "user_tz": -540,
     "elapsed": 684,
     "user": {
      "displayName": "홍석민[컴퓨터시스템공학과]",
      "userId": "11359324048911234531"
     }
    },
    "outputId": "ae4176e7-1e78-46f1-d675-551fd878c859",
    "ExecuteTime": {
     "end_time": "2024-11-04T06:04:16.540073Z",
     "start_time": "2024-11-04T06:04:16.391183Z"
    }
   },
   "outputs": [
    {
     "data": {
      "text/plain": [
       "<matplotlib.image.AxesImage at 0x321507130>"
      ]
     },
     "execution_count": 17,
     "metadata": {},
     "output_type": "execute_result"
    },
    {
     "data": {
      "text/plain": [
       "<Figure size 640x480 with 1 Axes>"
      ],
      "image/png": "[encoded data removed]"
     },
     "metadata": {},
     "output_type": "display_data"
    }
   ],
   "execution_count": 17
  },
  {
   "cell_type": "code",
   "source": [
    "model = tf.keras.models.Sequential()\n",
    "\n",
    "\n",
    "model.add(tf.keras.layers.Dense(512, activation='relu', input_shape=(784,)))\n",
    "model.add(tf.keras.layers.Dense(10, activation='sigmoid'))\n",
    "\n",
    "model.compile(optimizer='rmsprop',loss='mse', metrics=['accuracy']) #Define Optimizer, Loss_Function, Metrics\n",
    "\n",
    "\n",
    "#Data Pre-Set\n",
    "train_images = train_images.reshape((60000, 784))\n",
    "train_images = train_images.astype('float32') / 255.0\n",
    "\n",
    "test_images = test_images.reshape((10000, 784))\n",
    "test_images = test_images.astype('float32') / 255.0\n",
    "\n",
    "#Redefine Lables\n",
    "#OneHotEncoding\n",
    "train_labels = tf.keras.utils.to_categorical(train_labels)\n",
    "test_labels = tf.keras.utils.to_categorical(test_labels)\n",
    "\n",
    "model.fit(train_images, train_labels, epochs=5, batch_size=128)\n",
    "\n",
    "test_loss, test_acc = model.evaluate(test_images, test_labels)\n",
    "print('테스트 정확도:', test_acc)\n",
    "\n"
   ],
   "metadata": {
    "colab": {
     "base_uri": "https://localhost:8080/"
    },
    "id": "HQR8O-xXr-4S",
    "executionInfo": {
     "status": "ok",
     "timestamp": 1728283022610,
     "user_tz": -540,
     "elapsed": 26221,
     "user": {
      "displayName": "홍석민[컴퓨터시스템공학과]",
      "userId": "11359324048911234531"
     }
    },
    "outputId": "cab42c75-3565-449c-d78b-8272d4e6708a",
    "ExecuteTime": {
     "end_time": "2024-11-04T06:04:24.259683Z",
     "start_time": "2024-11-04T06:04:16.566890Z"
    }
   },
   "outputs": [
    {
     "name": "stdout",
     "output_type": "stream",
     "text": [
      "Epoch 1/5\n",
      "469/469 [==============================] - 1s 3ms/step - loss: 0.0159 - accuracy: 0.9151\n",
      "Epoch 2/5\n",
      "469/469 [==============================] - 1s 3ms/step - loss: 0.0062 - accuracy: 0.9664\n",
      "Epoch 3/5\n",
      "469/469 [==============================] - 2s 3ms/step - loss: 0.0044 - accuracy: 0.9771\n",
      "Epoch 4/5\n",
      "469/469 [==============================] - 1s 3ms/step - loss: 0.0033 - accuracy: 0.9833\n",
      "Epoch 5/5\n",
      "469/469 [==============================] - 1s 3ms/step - loss: 0.0027 - accuracy: 0.9864\n",
      "313/313 [==============================] - 0s 1ms/step - loss: 0.0036 - accuracy: 0.9810\n",
      "테스트 정확도: 0.9810000061988831\n"
     ]
    }
   ],
   "execution_count": 18
  },
  {
   "cell_type": "code",
   "source": [
    "history = model.fit(train_images, train_labels, epochs=5, batch_size=128)\n",
    "loss = history.history['loss']\n",
    "acc = history.history['accuracy']\n",
    "epochs = range(1, len(loss)+1)\n",
    "\n",
    "\n",
    "plt.plot(epochs, loss, 'b', label='Training Loss')\n",
    "plt.plot(epochs, acc, 'r', label='Accuracy')\n",
    "plt.xlabel('epochs')\n",
    "plt.ylabel('loss/acc')\n",
    "plt.show()"
   ],
   "metadata": {
    "colab": {
     "base_uri": "https://localhost:8080/",
     "height": 637
    },
    "id": "FIjRetresaw9",
    "executionInfo": {
     "status": "ok",
     "timestamp": 1728283071443,
     "user_tz": -540,
     "elapsed": 32797,
     "user": {
      "displayName": "홍석민[컴퓨터시스템공학과]",
      "userId": "11359324048911234531"
     }
    },
    "outputId": "a74aaf4b-345d-4f63-bd8d-e22cff375826",
    "ExecuteTime": {
     "end_time": "2024-11-04T06:04:32.231727Z",
     "start_time": "2024-11-04T06:04:24.409380Z"
    }
   },
   "outputs": [
    {
     "name": "stdout",
     "output_type": "stream",
     "text": [
      "Epoch 1/5\n",
      "469/469 [==============================] - 2s 4ms/step - loss: 0.0023 - accuracy: 0.9887\n",
      "Epoch 2/5\n",
      "469/469 [==============================] - 1s 3ms/step - loss: 0.0019 - accuracy: 0.9905\n",
      "Epoch 3/5\n",
      "469/469 [==============================] - 1s 3ms/step - loss: 0.0016 - accuracy: 0.9920\n",
      "Epoch 4/5\n",
      "469/469 [==============================] - 1s 3ms/step - loss: 0.0014 - accuracy: 0.9929\n",
      "Epoch 5/5\n",
      "469/469 [==============================] - 1s 3ms/step - loss: 0.0012 - accuracy: 0.9939\n"
     ]
    },
    {
     "data": {
      "text/plain": [
       "<Figure size 640x480 with 1 Axes>"
      ],
      "image/png": "[encoded data removed]"
     },
     "metadata": {},
     "output_type": "display_data"
    }
   ],
   "execution_count": 19
  },
  {
   "cell_type": "code",
   "source": [
    "import cv2 as cv\n",
    "\n",
    "image = cv.imread('test.png', cv.IMREAD_GRAYSCALE)\n",
    "image = cv.resize(image, (28, 28))\n",
    "image = image.astype('float32')\n",
    "image = image.reshape(1, 784)\n",
    "image = 255-image\n",
    "image /= 255.0\n",
    "\n",
    "plt.imshow(image.reshape(28, 28),cmap='Greys')\n",
    "plt.show()"
   ],
   "metadata": {
    "colab": {
     "base_uri": "https://localhost:8080/",
     "height": 360
    },
    "id": "UIcoJpn_slIF",
    "executionInfo": {
     "status": "error",
     "timestamp": 1728283080351,
     "user_tz": -540,
     "elapsed": 5001,
     "user": {
      "displayName": "홍석민[컴퓨터시스템공학과]",
      "userId": "11359324048911234531"
     }
    },
    "outputId": "efee2df6-34c0-4da5-c858-2f876f633239",
    "ExecuteTime": {
     "end_time": "2024-11-04T06:04:32.985688Z",
     "start_time": "2024-11-04T06:04:32.242172Z"
    }
   },
   "outputs": [
    {
     "name": "stdout",
     "output_type": "stream",
     "text": [
      "Requirement already satisfied: cv in /Users/tommyhong/anaconda3/envs/DeepLearningStudy/lib/python3.8/site-packages (1.0.0)\r\n"
     ]
    },
    {
     "name": "stderr",
     "output_type": "stream",
     "text": [
      "[ WARN:0@0.012] global loadsave.cpp:241 findDecoder imread_('test.png'): can't open/read file: check file path/integrity\n"
     ]
    },
    {
     "ename": "error",
     "evalue": "OpenCV(4.10.0) /Users/xperience/GHA-Actions-OpenCV/_work/opencv-python/opencv-python/opencv/modules/imgproc/src/resize.cpp:4152: error: (-215:Assertion failed) !ssize.empty() in function 'resize'\n",
     "output_type": "error",
     "traceback": [
      "\u001B[0;31m---------------------------------------------------------------------------\u001B[0m",
      "\u001B[0;31merror\u001B[0m                                     Traceback (most recent call last)",
      "Cell \u001B[0;32mIn[20], line 6\u001B[0m\n\u001B[1;32m      3\u001B[0m \u001B[38;5;28;01mimport\u001B[39;00m \u001B[38;5;21;01mcv2\u001B[39;00m \u001B[38;5;28;01mas\u001B[39;00m \u001B[38;5;21;01mcv\u001B[39;00m\n\u001B[1;32m      5\u001B[0m image \u001B[38;5;241m=\u001B[39m cv\u001B[38;5;241m.\u001B[39mimread(\u001B[38;5;124m'\u001B[39m\u001B[38;5;124mtest.png\u001B[39m\u001B[38;5;124m'\u001B[39m, cv\u001B[38;5;241m.\u001B[39mIMREAD_GRAYSCALE)\n\u001B[0;32m----> 6\u001B[0m image \u001B[38;5;241m=\u001B[39m \u001B[43mcv\u001B[49m\u001B[38;5;241;43m.\u001B[39;49m\u001B[43mresize\u001B[49m\u001B[43m(\u001B[49m\u001B[43mimage\u001B[49m\u001B[43m,\u001B[49m\u001B[43m \u001B[49m\u001B[43m(\u001B[49m\u001B[38;5;241;43m28\u001B[39;49m\u001B[43m,\u001B[49m\u001B[43m \u001B[49m\u001B[38;5;241;43m28\u001B[39;49m\u001B[43m)\u001B[49m\u001B[43m)\u001B[49m\n\u001B[1;32m      7\u001B[0m image \u001B[38;5;241m=\u001B[39m image\u001B[38;5;241m.\u001B[39mastype(\u001B[38;5;124m'\u001B[39m\u001B[38;5;124mfloat32\u001B[39m\u001B[38;5;124m'\u001B[39m)\n\u001B[1;32m      8\u001B[0m image \u001B[38;5;241m=\u001B[39m image\u001B[38;5;241m.\u001B[39mreshape(\u001B[38;5;241m1\u001B[39m, \u001B[38;5;241m784\u001B[39m)\n",
      "\u001B[0;31merror\u001B[0m: OpenCV(4.10.0) /Users/xperience/GHA-Actions-OpenCV/_work/opencv-python/opencv-python/opencv/modules/imgproc/src/resize.cpp:4152: error: (-215:Assertion failed) !ssize.empty() in function 'resize'\n"
     ]
    }
   ],
   "execution_count": 20
  },
  {
   "cell_type": "code",
   "source": [
    "pred = model.predict(image.reshape(1, 784), batch_size=1)\n",
    "print(\"추정된 숫자=\", pred.argmax())"
   ],
   "metadata": {
    "colab": {
     "base_uri": "https://localhost:8080/",
     "height": 208
    },
    "id": "mjGx6N6PsuFm",
    "executionInfo": {
     "status": "error",
     "timestamp": 1728283108142,
     "user_tz": -540,
     "elapsed": 340,
     "user": {
      "displayName": "홍석민[컴퓨터시스템공학과]",
      "userId": "11359324048911234531"
     }
    },
    "outputId": "b340676f-5997-4bab-cc13-ce3808238bd9"
   },
   "execution_count": null,
   "outputs": [
    {
     "output_type": "error",
     "ename": "AttributeError",
     "evalue": "'NoneType' object has no attribute 'reshape'",
     "traceback": [
      "\u001B[0;31m---------------------------------------------------------------------------\u001B[0m",
      "\u001B[0;31mAttributeError\u001B[0m                            Traceback (most recent call last)",
      "\u001B[0;32m<ipython-input-16-76e09f31b2bd>\u001B[0m in \u001B[0;36m<cell line: 1>\u001B[0;34m()\u001B[0m\n\u001B[0;32m----> 1\u001B[0;31m \u001B[0mpred\u001B[0m \u001B[0;34m=\u001B[0m \u001B[0mmodel\u001B[0m\u001B[0;34m.\u001B[0m\u001B[0mpredict\u001B[0m\u001B[0;34m(\u001B[0m\u001B[0mimage\u001B[0m\u001B[0;34m.\u001B[0m\u001B[0mreshape\u001B[0m\u001B[0;34m(\u001B[0m\u001B[0;36m1\u001B[0m\u001B[0;34m,\u001B[0m \u001B[0;36m784\u001B[0m\u001B[0;34m)\u001B[0m\u001B[0;34m,\u001B[0m \u001B[0mbatch_size\u001B[0m\u001B[0;34m=\u001B[0m\u001B[0;36m1\u001B[0m\u001B[0;34m)\u001B[0m\u001B[0;34m\u001B[0m\u001B[0;34m\u001B[0m\u001B[0m\n\u001B[0m\u001B[1;32m      2\u001B[0m \u001B[0mprint\u001B[0m\u001B[0;34m(\u001B[0m\u001B[0;34m\"추정된 숫자=\"\u001B[0m\u001B[0;34m,\u001B[0m \u001B[0mpred\u001B[0m\u001B[0;34m.\u001B[0m\u001B[0margmax\u001B[0m\u001B[0;34m(\u001B[0m\u001B[0;34m)\u001B[0m\u001B[0;34m)\u001B[0m\u001B[0;34m\u001B[0m\u001B[0;34m\u001B[0m\u001B[0m\n",
      "\u001B[0;31mAttributeError\u001B[0m: 'NoneType' object has no attribute 'reshape'"
     ]
    }
   ]
  },
  {
   "cell_type": "code",
   "source": [
    "!pip install scikeras\n",
    "\n",
    "import numpy as np\n",
    "import matplotlib as plt\n",
    "import tensorflow as tf\n",
    "from sklearn.model_selection import GridSearchCV\n",
    "from scikeras.wrappers import KerasClassifier\n",
    "\n",
    "# Prepareing Datasets\n",
    "(train_images, train_labels), (test_images, test_labels) = tf.keras.datasets.mnist.load_data()\n",
    "train_images = train_images.reshape((60000, 28 * 28))\n",
    "train_images = train_images.astype('float32') / 255\n",
    "test_images = test_images.reshape((10000, 28 * 28))\n",
    "test_images = test_images.astype('float32') / 255\n",
    "train_labels = tf.keras.utils.to_categorical(train_labels)\n",
    "test_labels = tf.keras.utils.to_categorical(test_labels)\n",
    "\n",
    "# Build Neuro-Network\n",
    "def build_model():\n",
    "  network = tf.keras.models.Sequential()\n",
    "  network = tf.keras.models.Sequential()\n",
    "  network.add(tf.keras.layers.Dense(512, activation='relu', input_shape=(28 * 28,)))\n",
    "  network.add(tf.keras.layers.Dense(10, activation='sigmoid'))\n",
    "\n",
    "  network.compile(optimizer='rmsprop', loss='categorical_crossentropy', metrics=['accuracy'])\n",
    "  return network\n",
    "\n",
    "param_grid = { 'epochs':[1, 2, 3], 'batch_size':[32, 64] }  #Ephoch : 1,2,3 Batch : 32, 64\n",
    "\n",
    "# Repack Keras Model to sklearn library\n",
    "model = KerasClassifier(build_fn = build_model, verbose=1)\n",
    "\n",
    "# Grid Search\n",
    "gs = GridSearchCV( estimator=model, param_grid=param_grid, cv=3, n_jobs=-1)\n",
    "\n",
    "grid_result = gs.fit(train_images, train_labels)\n",
    "print(grid_result.best_score_)\n",
    "print(grid_result.best_params_)\n"
   ],
   "metadata": {
    "colab": {
     "base_uri": "https://localhost:8080/"
    },
    "id": "sOFNBpF5s12u",
    "executionInfo": {
     "status": "ok",
     "timestamp": 1728283686965,
     "user_tz": -540,
     "elapsed": 322455,
     "user": {
      "displayName": "홍석민[컴퓨터시스템공학과]",
      "userId": "11359324048911234531"
     }
    },
    "outputId": "e0848493-83fe-4f49-f8bc-9ad3919aca58"
   },
   "execution_count": null,
   "outputs": [
    {
     "output_type": "stream",
     "name": "stdout",
     "text": [
      "Collecting scikeras\n",
      "  Downloading scikeras-0.13.0-py3-none-any.whl.metadata (3.1 kB)\n",
      "Requirement already satisfied: keras>=3.2.0 in /usr/local/lib/python3.10/dist-packages (from scikeras) (3.4.1)\n",
      "Requirement already satisfied: scikit-learn>=1.4.2 in /usr/local/lib/python3.10/dist-packages (from scikeras) (1.5.2)\n",
      "Requirement already satisfied: absl-py in /usr/local/lib/python3.10/dist-packages (from keras>=3.2.0->scikeras) (1.4.0)\n",
      "Requirement already satisfied: numpy in /usr/local/lib/python3.10/dist-packages (from keras>=3.2.0->scikeras) (1.26.4)\n",
      "Requirement already satisfied: rich in /usr/local/lib/python3.10/dist-packages (from keras>=3.2.0->scikeras) (13.8.1)\n",
      "Requirement already satisfied: namex in /usr/local/lib/python3.10/dist-packages (from keras>=3.2.0->scikeras) (0.0.8)\n",
      "Requirement already satisfied: h5py in /usr/local/lib/python3.10/dist-packages (from keras>=3.2.0->scikeras) (3.11.0)\n",
      "Requirement already satisfied: optree in /usr/local/lib/python3.10/dist-packages (from keras>=3.2.0->scikeras) (0.12.1)\n",
      "Requirement already satisfied: ml-dtypes in /usr/local/lib/python3.10/dist-packages (from keras>=3.2.0->scikeras) (0.4.1)\n",
      "Requirement already satisfied: packaging in /usr/local/lib/python3.10/dist-packages (from keras>=3.2.0->scikeras) (24.1)\n",
      "Requirement already satisfied: scipy>=1.6.0 in /usr/local/lib/python3.10/dist-packages (from scikit-learn>=1.4.2->scikeras) (1.13.1)\n",
      "Requirement already satisfied: joblib>=1.2.0 in /usr/local/lib/python3.10/dist-packages (from scikit-learn>=1.4.2->scikeras) (1.4.2)\n",
      "Requirement already satisfied: threadpoolctl>=3.1.0 in /usr/local/lib/python3.10/dist-packages (from scikit-learn>=1.4.2->scikeras) (3.5.0)\n",
      "Requirement already satisfied: typing-extensions>=4.5.0 in /usr/local/lib/python3.10/dist-packages (from optree->keras>=3.2.0->scikeras) (4.12.2)\n",
      "Requirement already satisfied: markdown-it-py>=2.2.0 in /usr/local/lib/python3.10/dist-packages (from rich->keras>=3.2.0->scikeras) (3.0.0)\n",
      "Requirement already satisfied: pygments<3.0.0,>=2.13.0 in /usr/local/lib/python3.10/dist-packages (from rich->keras>=3.2.0->scikeras) (2.18.0)\n",
      "Requirement already satisfied: mdurl~=0.1 in /usr/local/lib/python3.10/dist-packages (from markdown-it-py>=2.2.0->rich->keras>=3.2.0->scikeras) (0.1.2)\n",
      "Downloading scikeras-0.13.0-py3-none-any.whl (26 kB)\n",
      "Installing collected packages: scikeras\n",
      "Successfully installed scikeras-0.13.0\n"
     ]
    },
    {
     "output_type": "stream",
     "name": "stderr",
     "text": [
      "/usr/local/lib/python3.10/dist-packages/scikeras/wrappers.py:925: UserWarning: ``build_fn`` will be renamed to ``model`` in a future release, at which point use of ``build_fn`` will raise an Error instead.\n",
      "  X, y = self._initialize(X, y)\n",
      "/usr/local/lib/python3.10/dist-packages/keras/src/layers/core/dense.py:87: UserWarning: Do not pass an `input_shape`/`input_dim` argument to a layer. When using Sequential models, prefer using an `Input(shape)` object as the first layer in the model instead.\n",
      "  super().__init__(activity_regularizer=activity_regularizer, **kwargs)\n"
     ]
    },
    {
     "output_type": "stream",
     "name": "stdout",
     "text": [
      "Epoch 1/3\n",
      "\u001B[1m1875/1875\u001B[0m \u001B[32m━━━━━━━━━━━━━━━━━━━━\u001B[0m\u001B[37m\u001B[0m \u001B[1m12s\u001B[0m 6ms/step - accuracy: 0.9016 - loss: 0.3331\n",
      "Epoch 2/3\n",
      "\u001B[1m1875/1875\u001B[0m \u001B[32m━━━━━━━━━━━━━━━━━━━━\u001B[0m\u001B[37m\u001B[0m \u001B[1m19s\u001B[0m 5ms/step - accuracy: 0.9733 - loss: 0.0913\n",
      "Epoch 3/3\n",
      "\u001B[1m1875/1875\u001B[0m \u001B[32m━━━━━━━━━━━━━━━━━━━━\u001B[0m\u001B[37m\u001B[0m \u001B[1m12s\u001B[0m 6ms/step - accuracy: 0.9813 - loss: 0.0595\n",
      "0.9723999999999999\n",
      "{'batch_size': 32, 'epochs': 3}\n"
     ]
    }
   ]
  },
  {
   "cell_type": "code",
   "source": [],
   "metadata": {
    "id": "DsGyswagt0o8"
   },
   "execution_count": null,
   "outputs": []
  }
 ]
}
