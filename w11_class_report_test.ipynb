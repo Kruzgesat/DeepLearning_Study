{
 "cells": [
  {
   "cell_type": "code",
   "id": "initial_id",
   "metadata": {
    "collapsed": true,
    "ExecuteTime": {
     "end_time": "2024-11-05T05:44:49.079450Z",
     "start_time": "2024-11-05T05:42:19.851493Z"
    }
   },
   "source": [
    "# Import required libraries\n",
    "import tensorflow_datasets as tfds\n",
    "import tensorflow as tf\n",
    "from tensorflow.keras.layers import Conv2D, MaxPooling2D, Flatten, Dense, Dropout\n",
    "from tensorflow.keras.models import Sequential\n",
    "from tensorflow.keras.optimizers import Adam\n",
    "\n",
    "# Load the dataset from TFDS\n",
    "dataset_name = 'oxford_iiit_pet'\n",
    "IMG_SIZE = 128  # Resize images to 128x128\n",
    "\n",
    "# Load dataset and split into training and test sets\n",
    "(ds_train, ds_test), ds_info = tfds.load(\n",
    "    dataset_name,\n",
    "    split=['train[:80%]', 'train[80%:]'],\n",
    "    as_supervised=True,\n",
    "    with_info=True\n",
    ")\n",
    "\n",
    "# Define a minimal preprocessing function to only resize images\n",
    "def resize_images(image, label):\n",
    "    image = tf.image.resize(image, (IMG_SIZE, IMG_SIZE))  # Resize only, no normalization\n",
    "    return image, label\n",
    "\n",
    "# Apply resizing and batch datasets\n",
    "ds_train = ds_train.map(resize_images).batch(len(ds_train))\n",
    "ds_test = ds_test.map(resize_images).batch(len(ds_test))\n",
    "\n",
    "# Retrieve data as NumPy arrays for X_train, y_train, X_test, y_test\n",
    "X_train, y_train = next(iter(ds_train))\n",
    "X_test, y_test = next(iter(ds_test))\n",
    "\n",
    "# Build the CNN model\n",
    "model = Sequential([\n",
    "    Conv2D(64, kernel_size=(3, 3), activation='relu', input_shape=(IMG_SIZE, IMG_SIZE, 3)),\n",
    "    MaxPooling2D(pool_size=(2, 2)),\n",
    "    Conv2D(64, kernel_size=(3, 3), activation='relu'),\n",
    "    MaxPooling2D(pool_size=(2, 2)),\n",
    "    Conv2D(128, kernel_size=(3, 3), activation='relu'),\n",
    "    MaxPooling2D(pool_size=(2, 2)),\n",
    "    Flatten(),\n",
    "    Dense(128, activation='relu'),\n",
    "    Dropout(0.5),  # Dropout for regularization\n",
    "    Dense(ds_info.features['label'].num_classes, activation='softmax')  # Adjust to number of classes\n",
    "])\n",
    "\n",
    "# Compile the model\n",
    "model.compile(optimizer=Adam(), loss='sparse_categorical_crossentropy', metrics=['accuracy'])\n",
    "\n",
    "# Train the model\n",
    "history = model.fit(\n",
    "    X_train, y_train,\n",
    "    validation_data=(X_test, y_test),\n",
    "    epochs=10,\n",
    "    batch_size=32,\n",
    "    verbose=1\n",
    ")"
   ],
   "outputs": [
    {
     "name": "stderr",
     "output_type": "stream",
     "text": [
      "Corrupt JPEG data: 240 extraneous bytes before marker 0xd9\n",
      "Corrupt JPEG data: premature end of data segment\n",
      "WARNING:absl:At this time, the v2.11+ optimizer `tf.keras.optimizers.Adam` runs slowly on M1/M2 Macs, please use the legacy Keras optimizer instead, located at `tf.keras.optimizers.legacy.Adam`.\n",
      "WARNING:absl:There is a known slowdown when using v2.11+ Keras optimizers on M1/M2 Macs. Falling back to the legacy Keras optimizer, i.e., `tf.keras.optimizers.legacy.Adam`.\n"
     ]
    },
    {
     "name": "stdout",
     "output_type": "stream",
     "text": [
      "Epoch 1/10\n",
      "92/92 [==============================] - 15s 162ms/step - loss: 7.1059 - accuracy: 0.0245 - val_loss: 3.6117 - val_accuracy: 0.0190\n",
      "Epoch 2/10\n",
      "92/92 [==============================] - 15s 160ms/step - loss: 3.6111 - accuracy: 0.0258 - val_loss: 3.6125 - val_accuracy: 0.0190\n",
      "Epoch 3/10\n",
      "92/92 [==============================] - 15s 161ms/step - loss: 3.6108 - accuracy: 0.0265 - val_loss: 3.6132 - val_accuracy: 0.0190\n",
      "Epoch 4/10\n",
      "92/92 [==============================] - 15s 159ms/step - loss: 3.6107 - accuracy: 0.0292 - val_loss: 3.6138 - val_accuracy: 0.0190\n",
      "Epoch 5/10\n",
      "92/92 [==============================] - 15s 162ms/step - loss: 3.6106 - accuracy: 0.0285 - val_loss: 3.6145 - val_accuracy: 0.0190\n",
      "Epoch 6/10\n",
      "92/92 [==============================] - 15s 160ms/step - loss: 3.6105 - accuracy: 0.0258 - val_loss: 3.6151 - val_accuracy: 0.0177\n",
      "Epoch 7/10\n",
      "92/92 [==============================] - 14s 157ms/step - loss: 3.6104 - accuracy: 0.0296 - val_loss: 3.6156 - val_accuracy: 0.0177\n",
      "Epoch 8/10\n",
      "92/92 [==============================] - 15s 160ms/step - loss: 3.6103 - accuracy: 0.0275 - val_loss: 3.6161 - val_accuracy: 0.0190\n",
      "Epoch 9/10\n",
      "92/92 [==============================] - 15s 163ms/step - loss: 3.6102 - accuracy: 0.0248 - val_loss: 3.6166 - val_accuracy: 0.0177\n",
      "Epoch 10/10\n",
      "92/92 [==============================] - 15s 160ms/step - loss: 3.6102 - accuracy: 0.0258 - val_loss: 3.6170 - val_accuracy: 0.0177\n"
     ]
    }
   ],
   "execution_count": 7
  },
  {
   "metadata": {
    "ExecuteTime": {
     "end_time": "2024-11-05T05:45:25.420068Z",
     "start_time": "2024-11-05T05:45:25.255810Z"
    }
   },
   "cell_type": "code",
   "source": [
    "import matplotlib.pyplot as plt\n",
    "\n",
    "plt.figure()\n",
    "plt.imshow(X_train[1])\n",
    "plt.colorbar()"
   ],
   "id": "1bf8fd3b8d0fc414",
   "outputs": [
    {
     "name": "stderr",
     "output_type": "stream",
     "text": [
      "WARNING:matplotlib.image:Clipping input data to the valid range for imshow with RGB data ([0..1] for floats or [0..255] for integers).\n"
     ]
    },
    {
     "data": {
      "text/plain": [
       "<matplotlib.colorbar.Colorbar at 0x11ae890a0>"
      ]
     },
     "execution_count": 8,
     "metadata": {},
     "output_type": "execute_result"
    },
    {
     "data": {
      "text/plain": [
       "<Figure size 640x480 with 2 Axes>"
      ],
      "image/png": "[encoded data removed]"
     },
     "metadata": {},
     "output_type": "display_data"
    }
   ],
   "execution_count": 8
  },
  {
   "metadata": {},
   "cell_type": "code",
   "outputs": [],
   "execution_count": null,
   "source": "",
   "id": "b258e3b5dc059d9d"
  }
 ],
 "metadata": {
  "kernelspec": {
   "display_name": "Python 3",
   "language": "python",
   "name": "python3"
  },
  "language_info": {
   "codemirror_mode": {
    "name": "ipython",
    "version": 2
   },
   "file_extension": ".py",
   "mimetype": "text/x-python",
   "name": "python",
   "nbconvert_exporter": "python",
   "pygments_lexer": "ipython2",
   "version": "2.7.6"
  }
 },
 "nbformat": 4,
 "nbformat_minor": 5
}
