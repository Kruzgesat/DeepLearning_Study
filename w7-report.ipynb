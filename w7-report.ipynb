{
 "nbformat": 4,
 "nbformat_minor": 0,
 "metadata": {
  "colab": {
   "provenance": [],
   "authorship_tag": "ABX9TyN/Nmbj/+vcZZrDg0mlVRfq"
  },
  "kernelspec": {
   "name": "python3",
   "display_name": "Python 3 (ipykernel)",
   "language": "python"
  },
  "language_info": {
   "name": "python"
  }
 },
 "cells": [
  {
   "cell_type": "code",
   "metadata": {
    "id": "icAI-jggoO89",
    "colab": {
     "base_uri": "https://localhost:8080/"
    },
    "executionInfo": {
     "status": "ok",
     "timestamp": 1728789384385,
     "user_tz": -540,
     "elapsed": 3368,
     "user": {
      "displayName": "홍석민[컴퓨터시스템공학과]",
      "userId": "11359324048911234531"
     }
    },
    "outputId": "14c34476-688a-4a7c-afe8-df54cc92adfb",
    "ExecuteTime": {
     "end_time": "2024-11-04T06:05:24.159891Z",
     "start_time": "2024-11-04T06:05:23.699017Z"
    }
   },
   "source": [
    "import numpy as np\n",
    "\n",
    "X = np.array([['Korea', 44, 7200], ['Japan', 27, 4800], ['China', 30, 6100]])\n",
    "\n",
    "from sklearn.preprocessing import LabelEncoder\n",
    "labelencoder = LabelEncoder()\n",
    "\n",
    "X[:, 0] = labelencoder.fit_transform(X[:, 0])\n",
    "\n",
    "print(X)"
   ],
   "outputs": [
    {
     "name": "stdout",
     "output_type": "stream",
     "text": [
      "[['2' '44' '7200']\n",
      " ['1' '27' '4800']\n",
      " ['0' '30' '6100']]\n"
     ]
    }
   ],
   "execution_count": 1
  },
  {
   "cell_type": "code",
   "source": [
    "import numpy as np\n",
    "\n",
    "X = np.array([['Korea', 44, 7200], ['Japan', 27, 4800], ['China', 30, 6100]])\n",
    "\n",
    "from sklearn.preprocessing import OneHotEncoder\n",
    "onehotencoder = OneHotEncoder()\n",
    "\n",
    "# Generate 2-Axis Array to handout\n",
    "XX = onehotencoder.fit_transform(X[:,0].reshape(-1,1)).toarray()\n",
    "print(XX)\n",
    "\n",
    "X = np.delete(X, [0], axis=1)\n",
    "X = np.concatenate((XX, X), axis = 1)\n",
    "\n",
    "print(X)"
   ],
   "metadata": {
    "colab": {
     "base_uri": "https://localhost:8080/"
    },
    "id": "B8MXP3Mg4GTY",
    "executionInfo": {
     "status": "ok",
     "timestamp": 1728789463562,
     "user_tz": -540,
     "elapsed": 308,
     "user": {
      "displayName": "홍석민[컴퓨터시스템공학과]",
      "userId": "11359324048911234531"
     }
    },
    "outputId": "d5a4be2d-bffb-4ae5-8097-8bb07f865ae5",
    "ExecuteTime": {
     "end_time": "2024-11-04T06:05:24.231070Z",
     "start_time": "2024-11-04T06:05:24.225397Z"
    }
   },
   "outputs": [
    {
     "name": "stdout",
     "output_type": "stream",
     "text": [
      "[[0. 0. 1.]\n",
      " [0. 1. 0.]\n",
      " [1. 0. 0.]]\n",
      "[['0.0' '0.0' '1.0' '44' '7200']\n",
      " ['0.0' '1.0' '0.0' '27' '4800']\n",
      " ['1.0' '0.0' '0.0' '30' '6100']]\n"
     ]
    }
   ],
   "execution_count": 2
  },
  {
   "cell_type": "code",
   "source": [
    "from sklearn.preprocessing import MinMaxScaler\n",
    "\n",
    "data = [[-1, 2], [-0.5, 6], [0, 10], [1, 18]]\n",
    "\n",
    "scaler = MinMaxScaler()\n",
    "scaler.fit(data)\n",
    "\n",
    "print(scaler.transform(data))"
   ],
   "metadata": {
    "colab": {
     "base_uri": "https://localhost:8080/"
    },
    "id": "9pB4hWyi4blb",
    "executionInfo": {
     "status": "ok",
     "timestamp": 1728789588662,
     "user_tz": -540,
     "elapsed": 301,
     "user": {
      "displayName": "홍석민[컴퓨터시스템공학과]",
      "userId": "11359324048911234531"
     }
    },
    "outputId": "e0769041-1524-43d2-dd3e-b45cd227af55",
    "ExecuteTime": {
     "end_time": "2024-11-04T06:05:24.268679Z",
     "start_time": "2024-11-04T06:05:24.266011Z"
    }
   },
   "outputs": [
    {
     "name": "stdout",
     "output_type": "stream",
     "text": [
      "[[0.   0.  ]\n",
      " [0.25 0.25]\n",
      " [0.5  0.5 ]\n",
      " [1.   1.  ]]\n"
     ]
    }
   ],
   "execution_count": 3
  },
  {
   "cell_type": "code",
   "source": [
    "import numpy as numpy\n",
    "import tensorflow as tf\n",
    "import matplotlib.pyplot as plt\n",
    "\n",
    "# Fetching Data\n",
    "(train_data, train_labels), (test_data, test_labels) = \\\n",
    "tf.keras.datasets.imdb.load_data( num_words=1000)\n",
    "\n",
    "# Transforming OneHotEncoder\n",
    "def one_hot_sequences(sequences, dimension=1000):\n",
    "  results = numpy.zeros((len(sequences), dimension))\n",
    "\n",
    "  for i, word_index in enumerate(sequences):\n",
    "    results[i, word_index] = 1.\n",
    "    return results\n",
    "\n",
    "train_data = one_hot_sequences(train_data)\n",
    "test_data = one_hot_sequences(test_data)\n",
    "\n",
    "# DNN\n",
    "model = tf.keras.Sequential()\n",
    "model.add(tf.keras.layers.Dense(16, activation='relu', input_shape=(1000,)))\n",
    "model.add(tf.keras.layers.Dense(16, activation='relu'))\n",
    "model.add(tf.keras.layers.Dense(1, activation='sigmoid'))\n",
    "model.compile(loss='binary_crossentropy', optimizer='adam', metrics=['accuracy'])\n",
    "\n",
    "# DNN Training\n",
    "history = model.fit(train_data,train_labels,epochs=20,batch_size=512,validation_data=(test_data, test_labels),verbose=2)\n",
    "\n",
    "# Graph Output of Loss values\n",
    "\n",
    "history_dict = history.history\n",
    "loss_values = history_dict['loss'] # Training Loss\n",
    "val_loss_values = history_dict['val_loss'] # Value Loss\n",
    "acc = history_dict['accuracy'] # Accuracy\n",
    "epochs = range(1, len(acc) + 1) # Epochs Value\n",
    "\n",
    "plt.plot(history.history['loss'])\n",
    "plt.plot(history.history['val_loss'])\n",
    "plt.title('Loss Plot')\n",
    "plt.ylabel('loss')\n",
    "plt.xlabel('epochs')\n",
    "plt.legend(['train error', 'val error'], loc='upper left')\n",
    "plt.show()\n",
    "\n"
   ],
   "metadata": {
    "colab": {
     "base_uri": "https://localhost:8080/",
     "height": 1000
    },
    "id": "_JkKud0Y4rJ4",
    "executionInfo": {
     "status": "ok",
     "timestamp": 1728789816818,
     "user_tz": -540,
     "elapsed": 28498,
     "user": {
      "displayName": "홍석민[컴퓨터시스템공학과]",
      "userId": "11359324048911234531"
     }
    },
    "outputId": "6f217aab-8a43-4d5a-a589-73731c64c188",
    "ExecuteTime": {
     "end_time": "2024-11-04T06:05:32.753481Z",
     "start_time": "2024-11-04T06:05:24.276556Z"
    }
   },
   "outputs": [
    {
     "name": "stdout",
     "output_type": "stream",
     "text": [
      "Downloading data from https://storage.googleapis.com/tensorflow/tf-keras-datasets/imdb.npz\n",
      "17464789/17464789 [==============================] - 1s 0us/step\n",
      "Epoch 1/20\n",
      "49/49 - 0s - loss: 0.6932 - accuracy: 0.4962 - val_loss: 0.6931 - val_accuracy: 0.5000 - 382ms/epoch - 8ms/step\n",
      "Epoch 2/20\n",
      "49/49 - 0s - loss: 0.6931 - accuracy: 0.4960 - val_loss: 0.6931 - val_accuracy: 0.5000 - 95ms/epoch - 2ms/step\n",
      "Epoch 3/20\n",
      "49/49 - 0s - loss: 0.6931 - accuracy: 0.4971 - val_loss: 0.6931 - val_accuracy: 0.5000 - 92ms/epoch - 2ms/step\n",
      "Epoch 4/20\n",
      "49/49 - 0s - loss: 0.6931 - accuracy: 0.4931 - val_loss: 0.6931 - val_accuracy: 0.5000 - 94ms/epoch - 2ms/step\n",
      "Epoch 5/20\n",
      "49/49 - 0s - loss: 0.6931 - accuracy: 0.4982 - val_loss: 0.6932 - val_accuracy: 0.5000 - 92ms/epoch - 2ms/step\n",
      "Epoch 6/20\n",
      "49/49 - 0s - loss: 0.6931 - accuracy: 0.4994 - val_loss: 0.6932 - val_accuracy: 0.5000 - 93ms/epoch - 2ms/step\n",
      "Epoch 7/20\n",
      "49/49 - 0s - loss: 0.6931 - accuracy: 0.4966 - val_loss: 0.6932 - val_accuracy: 0.5000 - 94ms/epoch - 2ms/step\n",
      "Epoch 8/20\n",
      "49/49 - 0s - loss: 0.6931 - accuracy: 0.4991 - val_loss: 0.6932 - val_accuracy: 0.5000 - 95ms/epoch - 2ms/step\n",
      "Epoch 9/20\n",
      "49/49 - 0s - loss: 0.6931 - accuracy: 0.4948 - val_loss: 0.6932 - val_accuracy: 0.5000 - 98ms/epoch - 2ms/step\n",
      "Epoch 10/20\n",
      "49/49 - 0s - loss: 0.6931 - accuracy: 0.5000 - val_loss: 0.6932 - val_accuracy: 0.5000 - 97ms/epoch - 2ms/step\n",
      "Epoch 11/20\n",
      "49/49 - 0s - loss: 0.6931 - accuracy: 0.4960 - val_loss: 0.6932 - val_accuracy: 0.5000 - 100ms/epoch - 2ms/step\n",
      "Epoch 12/20\n",
      "49/49 - 0s - loss: 0.6931 - accuracy: 0.4960 - val_loss: 0.6932 - val_accuracy: 0.5000 - 96ms/epoch - 2ms/step\n",
      "Epoch 13/20\n",
      "49/49 - 0s - loss: 0.6931 - accuracy: 0.4970 - val_loss: 0.6932 - val_accuracy: 0.5000 - 98ms/epoch - 2ms/step\n",
      "Epoch 14/20\n",
      "49/49 - 0s - loss: 0.6931 - accuracy: 0.4966 - val_loss: 0.6932 - val_accuracy: 0.5000 - 98ms/epoch - 2ms/step\n",
      "Epoch 15/20\n",
      "49/49 - 0s - loss: 0.6931 - accuracy: 0.4974 - val_loss: 0.6932 - val_accuracy: 0.5000 - 99ms/epoch - 2ms/step\n",
      "Epoch 16/20\n",
      "49/49 - 0s - loss: 0.6931 - accuracy: 0.5003 - val_loss: 0.6932 - val_accuracy: 0.5000 - 108ms/epoch - 2ms/step\n",
      "Epoch 17/20\n",
      "49/49 - 0s - loss: 0.6931 - accuracy: 0.4945 - val_loss: 0.6932 - val_accuracy: 0.5000 - 102ms/epoch - 2ms/step\n",
      "Epoch 18/20\n",
      "49/49 - 0s - loss: 0.6931 - accuracy: 0.4977 - val_loss: 0.6932 - val_accuracy: 0.5000 - 101ms/epoch - 2ms/step\n",
      "Epoch 19/20\n",
      "49/49 - 0s - loss: 0.6931 - accuracy: 0.4986 - val_loss: 0.6932 - val_accuracy: 0.5000 - 108ms/epoch - 2ms/step\n",
      "Epoch 20/20\n",
      "49/49 - 0s - loss: 0.6931 - accuracy: 0.4981 - val_loss: 0.6932 - val_accuracy: 0.5000 - 103ms/epoch - 2ms/step\n"
     ]
    },
    {
     "data": {
      "text/plain": [
       "<Figure size 640x480 with 1 Axes>"
      ],
      "image/png": "[encoded data removed]"
     },
     "metadata": {},
     "output_type": "display_data"
    }
   ],
   "execution_count": 4
  },
  {
   "cell_type": "code",
   "source": [
    "import numpy as numpy\n",
    "import tensorflow as tf\n",
    "import matplotlib.pyplot as plt\n",
    "\n",
    "# Fetching Data\n",
    "(train_data, train_labels), (test_data, test_labels) = \\\n",
    "tf.keras.datasets.imdb.load_data( num_words=1000)\n",
    "\n",
    "# Transforming OneHotEncoder\n",
    "def one_hot_sequences(sequences, dimension=1000):\n",
    "  results = numpy.zeros((len(sequences), dimension))\n",
    "\n",
    "  for i, word_index in enumerate(sequences):\n",
    "    results[i, word_index] = 1.\n",
    "    return results\n",
    "\n",
    "train_data = one_hot_sequences(train_data)\n",
    "test_data = one_hot_sequences(test_data)\n",
    "\n",
    "# DNN (Weigh Regulation)\n",
    "model = tf.keras.Sequential()\n",
    "model.add(tf.keras.layers.Dense(16, kernel_regularizer=tf.keras.regularizers.l2(0.001), activation='relu', input_shape=(1000,)))\n",
    "model.add(tf.keras.layers.Dense(16, kernel_regularizer=tf.keras.regularizers.l2(0.001), activation='relu'))\n",
    "model.add(tf.keras.layers.Dense(1, activation='sigmoid'))\n",
    "model.compile(loss='binary_crossentropy', optimizer='adam', metrics=['accuracy'])\n",
    "\n",
    "# DNN Training\n",
    "history = model.fit(train_data,train_labels,epochs=20,batch_size=512,validation_data=(test_data, test_labels),verbose=2)\n",
    "\n",
    "# Graph Output of Loss values\n",
    "\n",
    "history_dict = history.history\n",
    "loss_values = history_dict['loss'] # Training Loss\n",
    "val_loss_values = history_dict['val_loss'] # Value Loss\n",
    "acc = history_dict['accuracy'] # Accuracy\n",
    "epochs = range(1, len(acc) + 1) # Epochs Value\n",
    "\n",
    "plt.plot(history.history['loss'])\n",
    "plt.plot(history.history['val_loss'])\n",
    "plt.title('Loss Plot')\n",
    "plt.ylabel('loss')\n",
    "plt.xlabel('epochs')\n",
    "plt.legend(['train error', 'val error'], loc='upper left')\n",
    "plt.show()\n",
    "\n"
   ],
   "metadata": {
    "colab": {
     "base_uri": "https://localhost:8080/",
     "height": 1000
    },
    "id": "wa8xxMLv5rQY",
    "executionInfo": {
     "status": "ok",
     "timestamp": 1728790014327,
     "user_tz": -540,
     "elapsed": 21362,
     "user": {
      "displayName": "홍석민[컴퓨터시스템공학과]",
      "userId": "11359324048911234531"
     }
    },
    "outputId": "ef5bc51a-29a1-4bd1-f930-187153e01a27",
    "ExecuteTime": {
     "end_time": "2024-11-04T06:05:37.180304Z",
     "start_time": "2024-11-04T06:05:32.760568Z"
    }
   },
   "outputs": [
    {
     "name": "stdout",
     "output_type": "stream",
     "text": [
      "Epoch 1/20\n",
      "49/49 - 0s - loss: 0.7198 - accuracy: 0.4984 - val_loss: 0.7072 - val_accuracy: 0.5000 - 383ms/epoch - 8ms/step\n",
      "Epoch 2/20\n",
      "49/49 - 0s - loss: 0.7036 - accuracy: 0.5000 - val_loss: 0.7011 - val_accuracy: 0.5000 - 95ms/epoch - 2ms/step\n",
      "Epoch 3/20\n",
      "49/49 - 0s - loss: 0.6998 - accuracy: 0.4948 - val_loss: 0.6986 - val_accuracy: 0.5000 - 94ms/epoch - 2ms/step\n",
      "Epoch 4/20\n",
      "49/49 - 0s - loss: 0.6977 - accuracy: 0.4950 - val_loss: 0.6969 - val_accuracy: 0.5000 - 90ms/epoch - 2ms/step\n",
      "Epoch 5/20\n",
      "49/49 - 0s - loss: 0.6963 - accuracy: 0.4986 - val_loss: 0.6957 - val_accuracy: 0.5000 - 97ms/epoch - 2ms/step\n",
      "Epoch 6/20\n",
      "49/49 - 0s - loss: 0.6952 - accuracy: 0.4946 - val_loss: 0.6948 - val_accuracy: 0.5000 - 98ms/epoch - 2ms/step\n",
      "Epoch 7/20\n",
      "49/49 - 0s - loss: 0.6945 - accuracy: 0.5005 - val_loss: 0.6942 - val_accuracy: 0.5000 - 95ms/epoch - 2ms/step\n",
      "Epoch 8/20\n",
      "49/49 - 0s - loss: 0.6940 - accuracy: 0.4995 - val_loss: 0.6938 - val_accuracy: 0.5000 - 107ms/epoch - 2ms/step\n",
      "Epoch 9/20\n",
      "49/49 - 0s - loss: 0.6937 - accuracy: 0.4974 - val_loss: 0.6936 - val_accuracy: 0.5000 - 108ms/epoch - 2ms/step\n",
      "Epoch 10/20\n",
      "49/49 - 0s - loss: 0.6935 - accuracy: 0.4957 - val_loss: 0.6934 - val_accuracy: 0.5000 - 95ms/epoch - 2ms/step\n",
      "Epoch 11/20\n",
      "49/49 - 0s - loss: 0.6934 - accuracy: 0.4986 - val_loss: 0.6933 - val_accuracy: 0.5000 - 98ms/epoch - 2ms/step\n",
      "Epoch 12/20\n",
      "49/49 - 0s - loss: 0.6933 - accuracy: 0.4942 - val_loss: 0.6932 - val_accuracy: 0.5000 - 94ms/epoch - 2ms/step\n",
      "Epoch 13/20\n",
      "49/49 - 0s - loss: 0.6932 - accuracy: 0.4958 - val_loss: 0.6932 - val_accuracy: 0.5000 - 102ms/epoch - 2ms/step\n",
      "Epoch 14/20\n",
      "49/49 - 0s - loss: 0.6932 - accuracy: 0.4994 - val_loss: 0.6932 - val_accuracy: 0.5000 - 114ms/epoch - 2ms/step\n",
      "Epoch 15/20\n",
      "49/49 - 0s - loss: 0.6932 - accuracy: 0.4931 - val_loss: 0.6932 - val_accuracy: 0.5000 - 100ms/epoch - 2ms/step\n",
      "Epoch 16/20\n",
      "49/49 - 0s - loss: 0.6932 - accuracy: 0.4975 - val_loss: 0.6932 - val_accuracy: 0.5000 - 92ms/epoch - 2ms/step\n",
      "Epoch 17/20\n",
      "49/49 - 0s - loss: 0.6932 - accuracy: 0.4988 - val_loss: 0.6932 - val_accuracy: 0.5000 - 98ms/epoch - 2ms/step\n",
      "Epoch 18/20\n",
      "49/49 - 0s - loss: 0.6932 - accuracy: 0.4958 - val_loss: 0.6931 - val_accuracy: 0.5000 - 98ms/epoch - 2ms/step\n",
      "Epoch 19/20\n",
      "49/49 - 0s - loss: 0.6932 - accuracy: 0.5000 - val_loss: 0.6931 - val_accuracy: 0.5000 - 98ms/epoch - 2ms/step\n",
      "Epoch 20/20\n",
      "49/49 - 0s - loss: 0.6932 - accuracy: 0.4991 - val_loss: 0.6931 - val_accuracy: 0.5000 - 102ms/epoch - 2ms/step\n"
     ]
    },
    {
     "data": {
      "text/plain": [
       "<Figure size 640x480 with 1 Axes>"
      ],
      "image/png": "[encoded data removed]"
     },
     "metadata": {},
     "output_type": "display_data"
    }
   ],
   "execution_count": 5
  },
  {
   "cell_type": "code",
   "source": [
    "import matplotlib.pyplot as plt\n",
    "import tensorflow as tf\n",
    "\n",
    "mnist = tf.keras.datasets.mnist\n",
    "(x_train, y_train),(x_test, y_test) = mnist.load_data()\n",
    "x_train, x_test = x_train / 255.0, x_test / 255.0\n",
    "\n",
    "#DNN\n",
    "model = tf.keras.models.Sequential()\n",
    "model.add(tf.keras.layers.Flatten(input_shape=(28,28)))\n",
    "model.add(tf.keras.layers.Dense(512, activation='relu'))\n",
    "model.add(tf.keras.layers.Dropout(0.2))\n",
    "model.add(tf.keras.layers.Dense(10, activation='softmax'))\n",
    "model.compile(optimizer='adam',loss='sparse_categorical_crossentropy',metrics=['accuracy'])\n",
    "\n",
    "\n",
    "model.fit(x_train, y_train, epochs=5)\n",
    "model.evaluate(x_test, y_test)"
   ],
   "metadata": {
    "colab": {
     "base_uri": "https://localhost:8080/"
    },
    "id": "NNI33Upk6F58",
    "executionInfo": {
     "status": "ok",
     "timestamp": 1728790256169,
     "user_tz": -540,
     "elapsed": 95775,
     "user": {
      "displayName": "홍석민[컴퓨터시스템공학과]",
      "userId": "11359324048911234531"
     }
    },
    "outputId": "edc68290-36ee-4afb-aef2-7d8f6bd0a7fa",
    "ExecuteTime": {
     "end_time": "2024-11-04T06:05:52.895095Z",
     "start_time": "2024-11-04T06:05:37.187933Z"
    }
   },
   "outputs": [
    {
     "name": "stdout",
     "output_type": "stream",
     "text": [
      "Epoch 1/5\n",
      "1875/1875 [==============================] - 3s 1ms/step - loss: 0.2209 - accuracy: 0.9347\n",
      "Epoch 2/5\n",
      "1875/1875 [==============================] - 3s 1ms/step - loss: 0.0954 - accuracy: 0.9710\n",
      "Epoch 3/5\n",
      "1875/1875 [==============================] - 3s 2ms/step - loss: 0.0700 - accuracy: 0.9780\n",
      "Epoch 4/5\n",
      "1875/1875 [==============================] - 3s 2ms/step - loss: 0.0514 - accuracy: 0.9835\n",
      "Epoch 5/5\n",
      "1875/1875 [==============================] - 3s 2ms/step - loss: 0.0440 - accuracy: 0.9861\n",
      "313/313 [==============================] - 0s 764us/step - loss: 0.0617 - accuracy: 0.9814\n"
     ]
    },
    {
     "data": {
      "text/plain": [
       "[0.06169602647423744, 0.9814000129699707]"
      ]
     },
     "execution_count": 6,
     "metadata": {},
     "output_type": "execute_result"
    }
   ],
   "execution_count": 6
  },
  {
   "cell_type": "code",
   "source": [
    "import tensorflow as tf\n",
    "from tensorflow import keras\n",
    "import numpy as np\n",
    "import matplotlib.pyplot as plt\n",
    "from tensorflow.keras import datasets, layers, models\n",
    "\n",
    "fashion_mnist = keras.datasets.fashion_mnist\n",
    "(train_images, train_labels), (test_images, test_labels) = fashion_mnist.load_data()\n",
    "\n",
    "plt.imshow(train_images[0])\n",
    "\n",
    "train_images = train_images / 255.0\n",
    "test_images = test_images / 255.0\n",
    "\n",
    "#DNN\n",
    "model = models.Sequential()\n",
    "model.add(layers.Flatten(input_shape=(28, 28)))\n",
    "model.add(layers.Dense(128, activation='relu'))\n",
    "model.add(layers.Dense(10, activation='softmax'))\n",
    "model.compile(optimizer='adam',loss='sparse_categorical_crossentropy',metrics=['accuracy'])\n",
    "\n",
    "model.fit(train_images, train_labels, epochs=5)\n",
    "test_loss, test_acc = model.evaluate(test_images, test_labels)\n",
    "\n",
    "print('정확도:', test_acc)"
   ],
   "metadata": {
    "colab": {
     "base_uri": "https://localhost:8080/",
     "height": 767
    },
    "id": "SsGNxNLC6uJA",
    "executionInfo": {
     "status": "ok",
     "timestamp": 1728790308055,
     "user_tz": -540,
     "elapsed": 51893,
     "user": {
      "displayName": "홍석민[컴퓨터시스템공학과]",
      "userId": "11359324048911234531"
     }
    },
    "outputId": "5ca96e02-64b8-4547-cb01-7a68f6c1f53a",
    "ExecuteTime": {
     "end_time": "2024-11-04T06:06:00.178305Z",
     "start_time": "2024-11-04T06:05:52.961073Z"
    }
   },
   "outputs": [
    {
     "name": "stdout",
     "output_type": "stream",
     "text": [
      "Epoch 1/5\n",
      "1875/1875 [==============================] - 1s 668us/step - loss: 0.4986 - accuracy: 0.8239\n",
      "Epoch 2/5\n",
      "1875/1875 [==============================] - 1s 684us/step - loss: 0.3775 - accuracy: 0.8641\n",
      "Epoch 3/5\n",
      "1875/1875 [==============================] - 1s 682us/step - loss: 0.3385 - accuracy: 0.8763\n",
      "Epoch 4/5\n",
      "1875/1875 [==============================] - 1s 667us/step - loss: 0.3153 - accuracy: 0.8831\n",
      "Epoch 5/5\n",
      "1875/1875 [==============================] - 1s 668us/step - loss: 0.2970 - accuracy: 0.8904\n",
      "313/313 [==============================] - 0s 425us/step - loss: 0.4008 - accuracy: 0.8515\n",
      "정확도: 0.8514999747276306\n"
     ]
    },
    {
     "data": {
      "text/plain": [
       "<Figure size 640x480 with 1 Axes>"
      ],
      "image/png": "[encoded data removed]"
     },
     "metadata": {},
     "output_type": "display_data"
    }
   ],
   "execution_count": 7
  },
  {
   "cell_type": "code",
   "source": [],
   "metadata": {
    "id": "IDnsRTzz7tl9",
    "ExecuteTime": {
     "end_time": "2024-11-04T06:06:00.193388Z",
     "start_time": "2024-11-04T06:06:00.191851Z"
    }
   },
   "outputs": [],
   "execution_count": null
  }
 ]
}
