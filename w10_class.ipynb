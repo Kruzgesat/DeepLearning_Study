{
 "cells": [
  {
   "cell_type": "code",
   "metadata": {
    "id": "rrgEr8QtlQvP",
    "ExecuteTime": {
     "end_time": "2024-11-04T05:18:55.038101Z",
     "start_time": "2024-11-04T05:18:55.035543Z"
    }
   },
   "source": [
    "import tensorflow as tf\n",
    "import matplotlib.pyplot as plt"
   ],
   "outputs": [],
   "execution_count": 36
  },
  {
   "cell_type": "code",
   "metadata": {
    "id": "w8VpU0kuoQT-",
    "ExecuteTime": {
     "end_time": "2024-11-04T05:18:55.262482Z",
     "start_time": "2024-11-04T05:18:55.059737Z"
    }
   },
   "source": [
    "(train_images, train_labels), (test_images, test_labels) = tf.keras.datasets.mnist.load_data()"
   ],
   "outputs": [],
   "execution_count": 37
  },
  {
   "cell_type": "code",
   "metadata": {
    "colab": {
     "base_uri": "https://localhost:8080/"
    },
    "executionInfo": {
     "elapsed": 599,
     "status": "ok",
     "timestamp": 1730178042251,
     "user": {
      "displayName": "홍석민[컴퓨터시스템공학과]",
      "userId": "11359324048911234531"
     },
     "user_tz": -540
    },
    "id": "rwRwmsR-pDup",
    "outputId": "5d93e37d-f463-48b1-c999-17758b9b0c21",
    "ExecuteTime": {
     "end_time": "2024-11-04T05:18:55.275973Z",
     "start_time": "2024-11-04T05:18:55.271725Z"
    }
   },
   "source": [
    "train_images.shape"
   ],
   "outputs": [
    {
     "data": {
      "text/plain": [
       "(60000, 28, 28)"
      ]
     },
     "execution_count": 38,
     "metadata": {},
     "output_type": "execute_result"
    }
   ],
   "execution_count": 38
  },
  {
   "cell_type": "code",
   "metadata": {
    "colab": {
     "base_uri": "https://localhost:8080/"
    },
    "executionInfo": {
     "elapsed": 4,
     "status": "ok",
     "timestamp": 1730178080803,
     "user": {
      "displayName": "홍석민[컴퓨터시스템공학과]",
      "userId": "11359324048911234531"
     },
     "user_tz": -540
    },
    "id": "XQZzeFm_pScW",
    "outputId": "01930ea7-fd12-4ef1-e249-2d5b242fa45a",
    "ExecuteTime": {
     "end_time": "2024-11-04T05:18:55.300237Z",
     "start_time": "2024-11-04T05:18:55.297757Z"
    }
   },
   "source": [
    "train_labels"
   ],
   "outputs": [
    {
     "data": {
      "text/plain": [
       "array([5, 0, 4, ..., 5, 6, 8], dtype=uint8)"
      ]
     },
     "execution_count": 39,
     "metadata": {},
     "output_type": "execute_result"
    }
   ],
   "execution_count": 39
  },
  {
   "cell_type": "code",
   "metadata": {
    "colab": {
     "base_uri": "https://localhost:8080/",
     "height": 468
    },
    "executionInfo": {
     "elapsed": 1050,
     "status": "ok",
     "timestamp": 1730178091603,
     "user": {
      "displayName": "홍석민[컴퓨터시스템공학과]",
      "userId": "11359324048911234531"
     },
     "user_tz": -540
    },
    "id": "gibAz3gEpf6R",
    "outputId": "ef294f39-3682-41b0-c297-e434a43ea104",
    "ExecuteTime": {
     "end_time": "2024-11-04T05:18:55.396777Z",
     "start_time": "2024-11-04T05:18:55.325521Z"
    }
   },
   "source": [
    "plt.imshow(train_images[0], cmap=\"Greys\")"
   ],
   "outputs": [
    {
     "data": {
      "text/plain": [
       "<matplotlib.image.AxesImage at 0x317b728b0>"
      ]
     },
     "execution_count": 40,
     "metadata": {},
     "output_type": "execute_result"
    },
    {
     "data": {
      "text/plain": [
       "<Figure size 640x480 with 1 Axes>"
      ],
      "image/png": "[encoded data removed]"
     },
     "metadata": {},
     "output_type": "display_data"
    }
   ],
   "execution_count": 40
  },
  {
   "cell_type": "code",
   "metadata": {
    "id": "ReM2bBhnpoKa",
    "ExecuteTime": {
     "end_time": "2024-11-04T05:18:55.412487Z",
     "start_time": "2024-11-04T05:18:55.403623Z"
    }
   },
   "source": [
    "model = tf.keras.models.Sequential()"
   ],
   "outputs": [],
   "execution_count": 41
  },
  {
   "cell_type": "code",
   "metadata": {
    "colab": {
     "base_uri": "https://localhost:8080/"
    },
    "executionInfo": {
     "elapsed": 8,
     "status": "ok",
     "timestamp": 1730178353615,
     "user": {
      "displayName": "홍석민[컴퓨터시스템공학과]",
      "userId": "11359324048911234531"
     },
     "user_tz": -540
    },
    "id": "t_1V-iLBqHZf",
    "outputId": "ed72768f-3284-4cc2-9b3b-2cb1011f6792",
    "ExecuteTime": {
     "end_time": "2024-11-04T05:18:55.439612Z",
     "start_time": "2024-11-04T05:18:55.423373Z"
    }
   },
   "source": [
    "model.add(tf.keras.layers.Dense(512, activation='relu', input_shape=(784,)))\n",
    "model.add(tf.keras.layers.Dense(10, activation='sigmoid'))"
   ],
   "outputs": [],
   "execution_count": 42
  },
  {
   "cell_type": "code",
   "metadata": {
    "id": "hFnCYnrSqoWx",
    "ExecuteTime": {
     "end_time": "2024-11-04T05:18:55.456335Z",
     "start_time": "2024-11-04T05:18:55.450602Z"
    }
   },
   "source": [
    "model.compile(optimizer='rmsprop',loss='mse', metrics=['accuracy'])"
   ],
   "outputs": [],
   "execution_count": 43
  },
  {
   "cell_type": "code",
   "metadata": {
    "id": "xpNzpvy2rdxJ",
    "ExecuteTime": {
     "end_time": "2024-11-04T05:18:55.497422Z",
     "start_time": "2024-11-04T05:18:55.467812Z"
    }
   },
   "source": [
    "train_images = train_images.reshape((60000, 784))\n",
    "train_images = train_images.astype('float32') / 255.0"
   ],
   "outputs": [],
   "execution_count": 44
  },
  {
   "cell_type": "code",
   "metadata": {
    "id": "H1eA58VPsDsC",
    "ExecuteTime": {
     "end_time": "2024-11-04T05:18:55.514784Z",
     "start_time": "2024-11-04T05:18:55.508693Z"
    }
   },
   "source": [
    "test_images = test_images.reshape((10000, 784))\n",
    "test_images = test_images.astype('float32') / 255.0"
   ],
   "outputs": [],
   "execution_count": 45
  },
  {
   "cell_type": "code",
   "metadata": {
    "colab": {
     "base_uri": "https://localhost:8080/"
    },
    "executionInfo": {
     "elapsed": 520,
     "status": "ok",
     "timestamp": 1730178834035,
     "user": {
      "displayName": "홍석민[컴퓨터시스템공학과]",
      "userId": "11359324048911234531"
     },
     "user_tz": -540
    },
    "id": "WEP7GNqMsT4w",
    "outputId": "572cc427-8123-494b-9601-12702d471d2e",
    "ExecuteTime": {
     "end_time": "2024-11-04T05:18:55.533664Z",
     "start_time": "2024-11-04T05:18:55.531151Z"
    }
   },
   "source": [
    "test_images.shape"
   ],
   "outputs": [
    {
     "data": {
      "text/plain": [
       "(10000, 784)"
      ]
     },
     "execution_count": 46,
     "metadata": {},
     "output_type": "execute_result"
    }
   ],
   "execution_count": 46
  },
  {
   "cell_type": "code",
   "metadata": {
    "colab": {
     "base_uri": "https://localhost:8080/"
    },
    "executionInfo": {
     "elapsed": 4,
     "status": "ok",
     "timestamp": 1730178836450,
     "user": {
      "displayName": "홍석민[컴퓨터시스템공학과]",
      "userId": "11359324048911234531"
     },
     "user_tz": -540
    },
    "id": "jL3Xicp_sYGn",
    "outputId": "cfce4921-9755-4aca-8399-2b653073fdcb",
    "ExecuteTime": {
     "end_time": "2024-11-04T05:18:55.579771Z",
     "start_time": "2024-11-04T05:18:55.577639Z"
    }
   },
   "source": [
    "train_images.shape"
   ],
   "outputs": [
    {
     "data": {
      "text/plain": [
       "(60000, 784)"
      ]
     },
     "execution_count": 47,
     "metadata": {},
     "output_type": "execute_result"
    }
   ],
   "execution_count": 47
  },
  {
   "cell_type": "code",
   "metadata": {
    "id": "45NGGY9dsawr",
    "ExecuteTime": {
     "end_time": "2024-11-04T05:18:55.616844Z",
     "start_time": "2024-11-04T05:18:55.613350Z"
    }
   },
   "source": [
    "train_labels = tf.keras.utils.to_categorical(train_labels)\n",
    "test_labels = tf.keras.utils.to_categorical(test_labels)"
   ],
   "outputs": [],
   "execution_count": 48
  },
  {
   "cell_type": "code",
   "metadata": {
    "colab": {
     "base_uri": "https://localhost:8080/"
    },
    "executionInfo": {
     "elapsed": 27152,
     "status": "ok",
     "timestamp": 1730179116511,
     "user": {
      "displayName": "홍석민[컴퓨터시스템공학과]",
      "userId": "11359324048911234531"
     },
     "user_tz": -540
    },
    "id": "ymlOp8Pks7Kj",
    "outputId": "ab9cd70a-6c5c-4f8b-d282-6c31c4e1e25b",
    "ExecuteTime": {
     "end_time": "2024-11-04T05:19:03.278726Z",
     "start_time": "2024-11-04T05:18:55.642909Z"
    }
   },
   "source": [
    "model.fit(train_images, train_labels, epochs=5, batch_size=128)"
   ],
   "outputs": [
    {
     "name": "stdout",
     "output_type": "stream",
     "text": [
      "Epoch 1/5\n",
      "469/469 [==============================] - 2s 3ms/step - loss: 0.0161 - accuracy: 0.9151\n",
      "Epoch 2/5\n",
      "469/469 [==============================] - 1s 3ms/step - loss: 0.0063 - accuracy: 0.9659\n",
      "Epoch 3/5\n",
      "469/469 [==============================] - 1s 3ms/step - loss: 0.0045 - accuracy: 0.9763\n",
      "Epoch 4/5\n",
      "469/469 [==============================] - 1s 3ms/step - loss: 0.0034 - accuracy: 0.9826\n",
      "Epoch 5/5\n",
      "469/469 [==============================] - 2s 4ms/step - loss: 0.0028 - accuracy: 0.9861\n"
     ]
    },
    {
     "data": {
      "text/plain": [
       "<keras.src.callbacks.History at 0x17bf239a0>"
      ]
     },
     "execution_count": 49,
     "metadata": {},
     "output_type": "execute_result"
    }
   ],
   "execution_count": 49
  },
  {
   "cell_type": "code",
   "metadata": {
    "colab": {
     "base_uri": "https://localhost:8080/"
    },
    "executionInfo": {
     "elapsed": 3757,
     "status": "ok",
     "timestamp": 1730179203862,
     "user": {
      "displayName": "홍석민[컴퓨터시스템공학과]",
      "userId": "11359324048911234531"
     },
     "user_tz": -540
    },
    "id": "EU6hUFQjtYK4",
    "outputId": "8df1f9b6-edc4-4ef3-e03a-8ce162cb150e",
    "ExecuteTime": {
     "end_time": "2024-11-04T05:19:03.671675Z",
     "start_time": "2024-11-04T05:19:03.297684Z"
    }
   },
   "source": [
    "test_loss, test_acc = model.evaluate(test_images, test_labels)\n",
    "print(\"Accuracy : \", test_acc)"
   ],
   "outputs": [
    {
     "name": "stdout",
     "output_type": "stream",
     "text": [
      "313/313 [==============================] - 0s 982us/step - loss: 0.0036 - accuracy: 0.9813\n",
      "Accuracy :  0.9812999963760376\n"
     ]
    }
   ],
   "execution_count": 50
  },
  {
   "cell_type": "code",
   "metadata": {
    "colab": {
     "base_uri": "https://localhost:8080/"
    },
    "executionInfo": {
     "elapsed": 31064,
     "status": "ok",
     "timestamp": 1730179312371,
     "user": {
      "displayName": "홍석민[컴퓨터시스템공학과]",
      "userId": "11359324048911234531"
     },
     "user_tz": -540
    },
    "id": "ANg8NhESt280",
    "outputId": "adcf7c84-db09-4575-d248-bd0e1ad7592a",
    "ExecuteTime": {
     "end_time": "2024-11-04T05:19:11.326626Z",
     "start_time": "2024-11-04T05:19:03.683173Z"
    }
   },
   "source": [
    "history = model.fit(train_images, train_labels, epochs=5, batch_size=128)"
   ],
   "outputs": [
    {
     "name": "stdout",
     "output_type": "stream",
     "text": [
      "Epoch 1/5\n",
      "469/469 [==============================] - 1s 3ms/step - loss: 0.0023 - accuracy: 0.9884\n",
      "Epoch 2/5\n",
      "469/469 [==============================] - 2s 3ms/step - loss: 0.0020 - accuracy: 0.9904\n",
      "Epoch 3/5\n",
      "469/469 [==============================] - 2s 3ms/step - loss: 0.0017 - accuracy: 0.9919\n",
      "Epoch 4/5\n",
      "469/469 [==============================] - 2s 3ms/step - loss: 0.0014 - accuracy: 0.9929\n",
      "Epoch 5/5\n",
      "469/469 [==============================] - 2s 3ms/step - loss: 0.0012 - accuracy: 0.9938\n"
     ]
    }
   ],
   "execution_count": 51
  },
  {
   "cell_type": "code",
   "metadata": {
    "id": "3uX35DIuuK6q",
    "ExecuteTime": {
     "end_time": "2024-11-04T05:19:11.340608Z",
     "start_time": "2024-11-04T05:19:11.338125Z"
    }
   },
   "source": [
    "loss = history.history['loss']\n",
    "acc = history.history['accuracy']\n",
    "epochs = range(1, len(loss)+1)"
   ],
   "outputs": [],
   "execution_count": 52
  },
  {
   "cell_type": "code",
   "metadata": {
    "colab": {
     "base_uri": "https://localhost:8080/",
     "height": 469
    },
    "executionInfo": {
     "elapsed": 535,
     "status": "ok",
     "timestamp": 1730179349435,
     "user": {
      "displayName": "홍석민[컴퓨터시스템공학과]",
      "userId": "11359324048911234531"
     },
     "user_tz": -540
    },
    "id": "bucyAasZuY9s",
    "outputId": "d55d4794-71f7-43c7-a7fd-de1e3eb49fb3",
    "ExecuteTime": {
     "end_time": "2024-11-04T05:19:11.410978Z",
     "start_time": "2024-11-04T05:19:11.351772Z"
    }
   },
   "source": [
    "plt.plot(epochs, loss, 'b', label='Training Loss')\n",
    "plt.plot(epochs, acc, 'r', label='Accuracy')\n",
    "plt.xlabel('epochs')\n",
    "plt.ylabel('loss/acc')\n",
    "plt.show()"
   ],
   "outputs": [
    {
     "data": {
      "text/plain": [
       "<Figure size 640x480 with 1 Axes>"
      ],
      "image/png": "[encoded data removed]"
     },
     "metadata": {},
     "output_type": "display_data"
    }
   ],
   "execution_count": 53
  },
  {
   "cell_type": "code",
   "metadata": {
    "id": "5p6hgfn-ubb8",
    "ExecuteTime": {
     "end_time": "2024-11-04T05:19:11.424765Z",
     "start_time": "2024-11-04T05:19:11.422181Z"
    }
   },
   "source": [
    "import numpy as np\n",
    "import matplotlib.pyplot as plt\n",
    "import tensorflow as tf\n",
    "from tensorflow import keras\n",
    "\n",
    "from tensorflow.keras import datasets, layers, models"
   ],
   "outputs": [],
   "execution_count": 54
  },
  {
   "cell_type": "code",
   "metadata": {
    "id": "4nK88JsUycQ2",
    "ExecuteTime": {
     "end_time": "2024-11-04T05:19:11.683397Z",
     "start_time": "2024-11-04T05:19:11.444465Z"
    }
   },
   "source": [
    "fashion_mnist = keras.datasets.fashion_mnist\n",
    "(train_images, train_labels), (test_images, test_labels) = fashion_mnist.load_data()"
   ],
   "outputs": [],
   "execution_count": 55
  },
  {
   "cell_type": "code",
   "metadata": {
    "colab": {
     "base_uri": "https://localhost:8080/",
     "height": 468
    },
    "executionInfo": {
     "elapsed": 641,
     "status": "ok",
     "timestamp": 1730180576704,
     "user": {
      "displayName": "홍석민[컴퓨터시스템공학과]",
      "userId": "11359324048911234531"
     },
     "user_tz": -540
    },
    "id": "G4Aw2EYCyvz1",
    "outputId": "ce23e1ac-8c88-48d6-fdcc-2014e1b4b294",
    "ExecuteTime": {
     "end_time": "2024-11-04T05:19:11.757853Z",
     "start_time": "2024-11-04T05:19:11.694032Z"
    }
   },
   "source": [
    "plt.imshow(train_images[0])"
   ],
   "outputs": [
    {
     "data": {
      "text/plain": [
       "<matplotlib.image.AxesImage at 0x17c4752b0>"
      ]
     },
     "execution_count": 56,
     "metadata": {},
     "output_type": "execute_result"
    },
    {
     "data": {
      "text/plain": [
       "<Figure size 640x480 with 1 Axes>"
      ],
      "image/png": "[encoded data removed]"
     },
     "metadata": {},
     "output_type": "display_data"
    }
   ],
   "execution_count": 56
  },
  {
   "cell_type": "code",
   "metadata": {
    "id": "rY3k5F2Ey_4r",
    "ExecuteTime": {
     "end_time": "2024-11-04T05:19:11.852308Z",
     "start_time": "2024-11-04T05:19:11.769216Z"
    }
   },
   "source": [
    "train_images = train_images / 255.0\n",
    "test_images = test_images / 255.0"
   ],
   "outputs": [],
   "execution_count": 57
  },
  {
   "cell_type": "code",
   "metadata": {
    "colab": {
     "base_uri": "https://localhost:8080/"
    },
    "executionInfo": {
     "elapsed": 684,
     "status": "ok",
     "timestamp": 1730180673720,
     "user": {
      "displayName": "홍석민[컴퓨터시스템공학과]",
      "userId": "11359324048911234531"
     },
     "user_tz": -540
    },
    "id": "b3wC1aymzNga",
    "outputId": "8cc38d8d-d368-4800-c8fb-f2cf3ca31d38",
    "ExecuteTime": {
     "end_time": "2024-11-04T05:19:11.880693Z",
     "start_time": "2024-11-04T05:19:11.866116Z"
    }
   },
   "source": [
    "model = models.Sequential()\n",
    "model.add(layers.Flatten(input_shape=(28, 28)))\n",
    "model.add(layers.Dense(128, activation='relu'))\n",
    "model.add(layers.Dense(10, activation='softmax'))"
   ],
   "outputs": [],
   "execution_count": 58
  },
  {
   "cell_type": "code",
   "metadata": {
    "id": "hDTEKLcpzeqA",
    "ExecuteTime": {
     "end_time": "2024-11-04T05:19:11.897526Z",
     "start_time": "2024-11-04T05:19:11.892922Z"
    }
   },
   "source": [
    "model.compile(optimizer='adam', loss='sparse_categorical_crossentropy', metrics=['accuracy'])"
   ],
   "outputs": [],
   "execution_count": 59
  },
  {
   "cell_type": "code",
   "metadata": {
    "colab": {
     "base_uri": "https://localhost:8080/"
    },
    "executionInfo": {
     "elapsed": 19054,
     "status": "ok",
     "timestamp": 1730180960255,
     "user": {
      "displayName": "홍석민[컴퓨터시스템공학과]",
      "userId": "11359324048911234531"
     },
     "user_tz": -540
    },
    "id": "T5uSku7W0IZh",
    "outputId": "be14a18f-bf5b-4078-d980-66bd532ef583",
    "ExecuteTime": {
     "end_time": "2024-11-04T05:19:14.834407Z",
     "start_time": "2024-11-04T05:19:11.912981Z"
    }
   },
   "source": [
    "model.fit(train_images, train_labels, epochs=5, batch_size=128)"
   ],
   "outputs": [
    {
     "name": "stdout",
     "output_type": "stream",
     "text": [
      "Epoch 1/5\n",
      "469/469 [==============================] - 1s 1ms/step - loss: 0.5597 - accuracy: 0.8089\n",
      "Epoch 2/5\n",
      "469/469 [==============================] - 1s 1ms/step - loss: 0.4072 - accuracy: 0.8592\n",
      "Epoch 3/5\n",
      "469/469 [==============================] - 1s 1ms/step - loss: 0.3647 - accuracy: 0.8716\n",
      "Epoch 4/5\n",
      "469/469 [==============================] - 0s 1ms/step - loss: 0.3359 - accuracy: 0.8794\n",
      "Epoch 5/5\n",
      "469/469 [==============================] - 0s 1ms/step - loss: 0.3180 - accuracy: 0.8856\n"
     ]
    },
    {
     "data": {
      "text/plain": [
       "<keras.src.callbacks.History at 0x17c541850>"
      ]
     },
     "execution_count": 60,
     "metadata": {},
     "output_type": "execute_result"
    }
   ],
   "execution_count": 60
  },
  {
   "cell_type": "code",
   "metadata": {
    "colab": {
     "base_uri": "https://localhost:8080/"
    },
    "executionInfo": {
     "elapsed": 3801,
     "status": "ok",
     "timestamp": 1730180973518,
     "user": {
      "displayName": "홍석민[컴퓨터시스템공학과]",
      "userId": "11359324048911234531"
     },
     "user_tz": -540
    },
    "id": "sNxyiUA90gKJ",
    "outputId": "67275ce5-a339-4caf-fd66-7948640e0102",
    "ExecuteTime": {
     "end_time": "2024-11-04T05:19:15.131960Z",
     "start_time": "2024-11-04T05:19:14.904923Z"
    }
   },
   "source": [
    "test_loss, test_acc = model.evaluate(test_images, test_labels)"
   ],
   "outputs": [
    {
     "name": "stdout",
     "output_type": "stream",
     "text": [
      "313/313 [==============================] - 0s 464us/step - loss: 0.3554 - accuracy: 0.8725\n"
     ]
    }
   ],
   "execution_count": 61
  },
  {
   "cell_type": "code",
   "metadata": {
    "colab": {
     "base_uri": "https://localhost:8080/"
    },
    "executionInfo": {
     "elapsed": 475,
     "status": "ok",
     "timestamp": 1730180984271,
     "user": {
      "displayName": "홍석민[컴퓨터시스템공학과]",
      "userId": "11359324048911234531"
     },
     "user_tz": -540
    },
    "id": "nmRiRCb90nCJ",
    "outputId": "2d431e94-4357-4b1e-faeb-d880908f3f40",
    "ExecuteTime": {
     "end_time": "2024-11-04T05:19:15.146269Z",
     "start_time": "2024-11-04T05:19:15.144072Z"
    }
   },
   "source": [
    "print('Accuracy : ', test_acc)"
   ],
   "outputs": [
    {
     "name": "stdout",
     "output_type": "stream",
     "text": [
      "Accuracy :  0.8725000023841858\n"
     ]
    }
   ],
   "execution_count": 62
  },
  {
   "cell_type": "code",
   "metadata": {
    "id": "9sQeesvF0qUK",
    "ExecuteTime": {
     "end_time": "2024-11-04T05:19:15.219347Z",
     "start_time": "2024-11-04T05:19:15.217298Z"
    }
   },
   "source": [
    "import numpy as np\n",
    "import tensorflow as tf\n",
    "import matplotlib.pyplot as plt\n",
    "import pandas as pd"
   ],
   "outputs": [],
   "execution_count": 63
  },
  {
   "cell_type": "code",
   "metadata": {
    "id": "TF_M1VSA2DgA",
    "ExecuteTime": {
     "end_time": "2024-11-04T05:19:15.272856Z",
     "start_time": "2024-11-04T05:19:15.266241Z"
    }
   },
   "source": [
    "train = pd.read_csv(\"train.csv\", sep = ',')\n",
    "test = pd.read_csv(\"test.csv\", sep = ',')"
   ],
   "outputs": [],
   "execution_count": 64
  },
  {
   "cell_type": "code",
   "metadata": {
    "id": "WMbkmQIK3uAd",
    "ExecuteTime": {
     "end_time": "2024-11-04T05:19:15.285182Z",
     "start_time": "2024-11-04T05:19:15.282080Z"
    }
   },
   "source": [
    "train.drop(['SibSp','Parch','Ticket','Embarked','Name','Cabin','PassengerId','Fare','Age'], inplace=True, axis=1)"
   ],
   "outputs": [],
   "execution_count": 65
  },
  {
   "cell_type": "code",
   "metadata": {
    "id": "PpEGhJxV4AZQ",
    "ExecuteTime": {
     "end_time": "2024-11-04T05:19:15.299153Z",
     "start_time": "2024-11-04T05:19:15.296189Z"
    }
   },
   "source": [
    "train.dropna(inplace = True)"
   ],
   "outputs": [],
   "execution_count": 66
  },
  {
   "cell_type": "code",
   "metadata": {
    "colab": {
     "base_uri": "https://localhost:8080/",
     "height": 504
    },
    "executionInfo": {
     "elapsed": 590,
     "status": "ok",
     "timestamp": 1730182114239,
     "user": {
      "displayName": "홍석민[컴퓨터시스템공학과]",
      "userId": "11359324048911234531"
     },
     "user_tz": -540
    },
    "id": "B8FDoQTP4TR_",
    "outputId": "0e4de06a-2378-4138-f5a4-32cf143df8d3",
    "ExecuteTime": {
     "end_time": "2024-11-04T05:19:15.371337Z",
     "start_time": "2024-11-04T05:19:15.309493Z"
    }
   },
   "source": [
    "df = train.groupby('Sex').mean()[\"Survived\"]\n",
    "df.plot(kind='bar')\n",
    "plt.show()"
   ],
   "outputs": [
    {
     "data": {
      "text/plain": [
       "<Figure size 640x480 with 1 Axes>"
      ],
      "image/png": "[encoded data removed]"
     },
     "metadata": {},
     "output_type": "display_data"
    }
   ],
   "execution_count": 67
  },
  {
   "cell_type": "code",
   "metadata": {
    "id": "-s5FHe_049PA",
    "ExecuteTime": {
     "end_time": "2024-11-04T05:19:15.418744Z",
     "start_time": "2024-11-04T05:19:15.382724Z"
    }
   },
   "source": [
    "for ix in train.index:\n",
    "  if train.loc[ix, 'Sex'] == \"male\" :\n",
    "    train.loc[ix, 'Sex'] = 1\n",
    "  else :\n",
    "    train.loc[ix, 'Sex'] = 0"
   ],
   "outputs": [],
   "execution_count": 68
  },
  {
   "cell_type": "code",
   "metadata": {
    "id": "oNIIvFwK54ME",
    "ExecuteTime": {
     "end_time": "2024-11-04T05:19:15.431059Z",
     "start_time": "2024-11-04T05:19:15.428773Z"
    }
   },
   "source": [
    "target = np.ravel(train.Survived)"
   ],
   "outputs": [],
   "execution_count": 69
  },
  {
   "cell_type": "code",
   "metadata": {
    "id": "KH2cmLLi6I98",
    "ExecuteTime": {
     "end_time": "2024-11-04T05:19:15.455196Z",
     "start_time": "2024-11-04T05:19:15.444713Z"
    }
   },
   "source": [
    "train.drop(['Survived'], inplace = True, axis = 1)\n",
    "train = train.astype(float)"
   ],
   "outputs": [],
   "execution_count": 70
  },
  {
   "cell_type": "code",
   "metadata": {
    "colab": {
     "base_uri": "https://localhost:8080/"
    },
    "executionInfo": {
     "elapsed": 792,
     "status": "ok",
     "timestamp": 1730182768941,
     "user": {
      "displayName": "홍석민[컴퓨터시스템공학과]",
      "userId": "11359324048911234531"
     },
     "user_tz": -540
    },
    "id": "YJhaTn3O6b-I",
    "outputId": "faeea8aa-068d-4bde-8cc5-fe2283bcb28e",
    "ExecuteTime": {
     "end_time": "2024-11-04T05:19:15.494566Z",
     "start_time": "2024-11-04T05:19:15.475922Z"
    }
   },
   "source": [
    "model = models.Sequential()\n",
    "model.add(tf.keras.layers.Dense(16, activation=\"relu\", input_shape=(2,)))\n",
    "model.add(tf.keras.layers.Dense(8, activation=\"relu\"))\n",
    "model.add(tf.keras.layers.Dense(1, activation=\"sigmoid\"))"
   ],
   "outputs": [],
   "execution_count": 71
  },
  {
   "cell_type": "code",
   "metadata": {
    "colab": {
     "base_uri": "https://localhost:8080/"
    },
    "executionInfo": {
     "elapsed": 57233,
     "status": "ok",
     "timestamp": 1730182910716,
     "user": {
      "displayName": "홍석민[컴퓨터시스템공학과]",
      "userId": "11359324048911234531"
     },
     "user_tz": -540
    },
    "id": "43yyIKsB7eNX",
    "outputId": "84aabb13-7be9-4b5f-9768-1ed90f8d4a9f",
    "ExecuteTime": {
     "end_time": "2024-11-04T05:19:26.036662Z",
     "start_time": "2024-11-04T05:19:15.508100Z"
    }
   },
   "source": [
    "model.compile(loss='binary_crossentropy', optimizer = 'adam', metrics=['accuracy'])\n",
    "model.fit(train, target, epochs = 30, batch_size =1, verbose = 1)"
   ],
   "outputs": [
    {
     "name": "stdout",
     "output_type": "stream",
     "text": [
      "Epoch 1/30\n",
      "891/891 [==============================] - 1s 565us/step - loss: 0.5909 - accuracy: 0.6801\n",
      "Epoch 2/30\n",
      "891/891 [==============================] - 0s 385us/step - loss: 0.5180 - accuracy: 0.7856\n",
      "Epoch 3/30\n",
      "891/891 [==============================] - 0s 388us/step - loss: 0.4975 - accuracy: 0.7868\n",
      "Epoch 4/30\n",
      "891/891 [==============================] - 0s 385us/step - loss: 0.4883 - accuracy: 0.7868\n",
      "Epoch 5/30\n",
      "891/891 [==============================] - 0s 380us/step - loss: 0.4807 - accuracy: 0.7868\n",
      "Epoch 6/30\n",
      "891/891 [==============================] - 0s 384us/step - loss: 0.4762 - accuracy: 0.7868\n",
      "Epoch 7/30\n",
      "891/891 [==============================] - 0s 393us/step - loss: 0.4678 - accuracy: 0.7823\n",
      "Epoch 8/30\n",
      "891/891 [==============================] - 0s 388us/step - loss: 0.4679 - accuracy: 0.7924\n",
      "Epoch 9/30\n",
      "891/891 [==============================] - 0s 377us/step - loss: 0.4650 - accuracy: 0.7823\n",
      "Epoch 10/30\n",
      "891/891 [==============================] - 0s 377us/step - loss: 0.4655 - accuracy: 0.7811\n",
      "Epoch 11/30\n",
      "891/891 [==============================] - 0s 379us/step - loss: 0.4620 - accuracy: 0.7800\n",
      "Epoch 12/30\n",
      "891/891 [==============================] - 0s 377us/step - loss: 0.4603 - accuracy: 0.7834\n",
      "Epoch 13/30\n",
      "891/891 [==============================] - 0s 378us/step - loss: 0.4613 - accuracy: 0.7823\n",
      "Epoch 14/30\n",
      "891/891 [==============================] - 0s 377us/step - loss: 0.4561 - accuracy: 0.7901\n",
      "Epoch 15/30\n",
      "891/891 [==============================] - 0s 378us/step - loss: 0.4586 - accuracy: 0.7823\n",
      "Epoch 16/30\n",
      "891/891 [==============================] - 0s 380us/step - loss: 0.4595 - accuracy: 0.7890\n",
      "Epoch 17/30\n",
      "891/891 [==============================] - 0s 381us/step - loss: 0.4588 - accuracy: 0.7868\n",
      "Epoch 18/30\n",
      "891/891 [==============================] - 0s 378us/step - loss: 0.4597 - accuracy: 0.7733\n",
      "Epoch 19/30\n",
      "891/891 [==============================] - 0s 376us/step - loss: 0.4588 - accuracy: 0.7789\n",
      "Epoch 20/30\n",
      "891/891 [==============================] - 0s 379us/step - loss: 0.4578 - accuracy: 0.7890\n",
      "Epoch 21/30\n",
      "891/891 [==============================] - 0s 373us/step - loss: 0.4575 - accuracy: 0.7868\n",
      "Epoch 22/30\n",
      "891/891 [==============================] - 0s 376us/step - loss: 0.4575 - accuracy: 0.7778\n",
      "Epoch 23/30\n",
      "891/891 [==============================] - 0s 377us/step - loss: 0.4558 - accuracy: 0.7789\n",
      "Epoch 24/30\n",
      "891/891 [==============================] - 0s 377us/step - loss: 0.4559 - accuracy: 0.7811\n",
      "Epoch 25/30\n",
      "891/891 [==============================] - 0s 379us/step - loss: 0.4549 - accuracy: 0.7789\n",
      "Epoch 26/30\n",
      "891/891 [==============================] - 0s 378us/step - loss: 0.4553 - accuracy: 0.7845\n",
      "Epoch 27/30\n",
      "891/891 [==============================] - 0s 380us/step - loss: 0.4548 - accuracy: 0.7834\n",
      "Epoch 28/30\n",
      "891/891 [==============================] - 0s 389us/step - loss: 0.4556 - accuracy: 0.7733\n",
      "Epoch 29/30\n",
      "891/891 [==============================] - 0s 390us/step - loss: 0.4551 - accuracy: 0.7856\n",
      "Epoch 30/30\n",
      "891/891 [==============================] - 0s 378us/step - loss: 0.4529 - accuracy: 0.7957\n"
     ]
    },
    {
     "data": {
      "text/plain": [
       "<keras.src.callbacks.History at 0x17c685fd0>"
      ]
     },
     "execution_count": 72,
     "metadata": {},
     "output_type": "execute_result"
    }
   ],
   "execution_count": 72
  },
  {
   "cell_type": "code",
   "metadata": {
    "id": "kn49q55E7s6N",
    "ExecuteTime": {
     "end_time": "2024-11-04T05:19:26.099949Z",
     "start_time": "2024-11-04T05:19:26.097684Z"
    }
   },
   "source": [
    "import tensorflow as tf\n",
    "from tensorflow.keras import datasets, layers, models"
   ],
   "outputs": [],
   "execution_count": 73
  },
  {
   "cell_type": "code",
   "metadata": {
    "id": "4Ur0f0FuAIdK",
    "ExecuteTime": {
     "end_time": "2024-11-04T05:19:26.313776Z",
     "start_time": "2024-11-04T05:19:26.148954Z"
    }
   },
   "source": [
    "(train_images, train_labels), (test_images, test_labels) = datasets.mnist.load_data()"
   ],
   "outputs": [],
   "execution_count": 74
  },
  {
   "cell_type": "code",
   "metadata": {
    "id": "lhWs3j4XAazl",
    "ExecuteTime": {
     "end_time": "2024-11-04T05:19:26.319636Z",
     "start_time": "2024-11-04T05:19:26.317537Z"
    }
   },
   "source": [
    "train_images = train_images.reshape(60000, 28, 28, 1)\n",
    "test_images = test_images.reshape(10000, 28, 28, 1)"
   ],
   "outputs": [],
   "execution_count": 75
  },
  {
   "cell_type": "code",
   "metadata": {
    "id": "fAVizoIrAxfO",
    "ExecuteTime": {
     "end_time": "2024-11-04T05:19:26.395814Z",
     "start_time": "2024-11-04T05:19:26.331401Z"
    }
   },
   "source": [
    "train_images, test_images = train_images/255.0, test_images / 255.0"
   ],
   "outputs": [],
   "execution_count": 76
  },
  {
   "cell_type": "code",
   "metadata": {
    "colab": {
     "base_uri": "https://localhost:8080/"
    },
    "executionInfo": {
     "elapsed": 621,
     "status": "ok",
     "timestamp": 1730184380518,
     "user": {
      "displayName": "홍석민[컴퓨터시스템공학과]",
      "userId": "11359324048911234531"
     },
     "user_tz": -540
    },
    "id": "B2YJzg-xBOwA",
    "outputId": "1c48bd31-1461-41bd-d6b8-1d0469206f95",
    "ExecuteTime": {
     "end_time": "2024-11-04T05:19:26.417647Z",
     "start_time": "2024-11-04T05:19:26.407915Z"
    }
   },
   "source": [
    "model = models.Sequential()\n",
    "\n",
    "model.add(layers.Conv2D(32, (3,3), activation = 'relu', input_shape = (28, 28, 1)))"
   ],
   "outputs": [],
   "execution_count": 77
  },
  {
   "cell_type": "code",
   "metadata": {
    "id": "-9kQJPPDBnro",
    "ExecuteTime": {
     "end_time": "2024-11-04T05:19:26.432659Z",
     "start_time": "2024-11-04T05:19:26.428719Z"
    }
   },
   "source": [
    "model.add(layers.MaxPooling2D(2,2))"
   ],
   "outputs": [],
   "execution_count": 78
  },
  {
   "cell_type": "code",
   "metadata": {
    "id": "EciXoWYrBzBU",
    "ExecuteTime": {
     "end_time": "2024-11-04T05:19:26.451974Z",
     "start_time": "2024-11-04T05:19:26.444129Z"
    }
   },
   "source": [
    "model.add(layers.Conv2D(64, (3,3), activation = 'relu'))"
   ],
   "outputs": [],
   "execution_count": 79
  },
  {
   "cell_type": "code",
   "metadata": {
    "id": "qBHnlWveCVOt",
    "ExecuteTime": {
     "end_time": "2024-11-04T05:19:26.466944Z",
     "start_time": "2024-11-04T05:19:26.462791Z"
    }
   },
   "source": [
    "model.add(layers.MaxPooling2D(2,2))"
   ],
   "outputs": [],
   "execution_count": 80
  },
  {
   "cell_type": "code",
   "metadata": {
    "id": "6RObOf9NCYEk",
    "ExecuteTime": {
     "end_time": "2024-11-04T05:19:26.485923Z",
     "start_time": "2024-11-04T05:19:26.478208Z"
    }
   },
   "source": [
    "model.add(layers.Conv2D(64, (3,3), activation = 'relu'))"
   ],
   "outputs": [],
   "execution_count": 81
  },
  {
   "cell_type": "code",
   "metadata": {
    "id": "vXtHSNuPCd0z",
    "ExecuteTime": {
     "end_time": "2024-11-04T05:19:26.501536Z",
     "start_time": "2024-11-04T05:19:26.497342Z"
    }
   },
   "source": [
    "model.add(layers.Flatten())"
   ],
   "outputs": [],
   "execution_count": 82
  },
  {
   "cell_type": "code",
   "metadata": {
    "id": "KibMeU4OCnJn",
    "ExecuteTime": {
     "end_time": "2024-11-04T05:19:26.523501Z",
     "start_time": "2024-11-04T05:19:26.512419Z"
    }
   },
   "source": [
    "model.add(layers.Dense(64, activation = 'relu'))\n",
    "model.add(layers.Dense(10, activation = 'softmax'))"
   ],
   "outputs": [],
   "execution_count": 83
  },
  {
   "cell_type": "code",
   "metadata": {
    "colab": {
     "base_uri": "https://localhost:8080/",
     "height": 405
    },
    "executionInfo": {
     "elapsed": 10,
     "status": "ok",
     "timestamp": 1730184763296,
     "user": {
      "displayName": "홍석민[컴퓨터시스템공학과]",
      "userId": "11359324048911234531"
     },
     "user_tz": -540
    },
    "id": "Zfr_x-DxC-q7",
    "outputId": "5e616ca8-65b0-4636-fe15-ffb4a1df4e46",
    "ExecuteTime": {
     "end_time": "2024-11-04T05:19:26.544095Z",
     "start_time": "2024-11-04T05:19:26.534493Z"
    }
   },
   "source": [
    "model.summary()"
   ],
   "outputs": [
    {
     "name": "stdout",
     "output_type": "stream",
     "text": [
      "Model: \"sequential_5\"\n",
      "_________________________________________________________________\n",
      " Layer (type)                Output Shape              Param #   \n",
      "=================================================================\n",
      " conv2d (Conv2D)             (None, 26, 26, 32)        320       \n",
      "                                                                 \n",
      " max_pooling2d (MaxPooling2  (None, 13, 13, 32)        0         \n",
      " D)                                                              \n",
      "                                                                 \n",
      " conv2d_1 (Conv2D)           (None, 11, 11, 64)        18496     \n",
      "                                                                 \n",
      " max_pooling2d_1 (MaxPoolin  (None, 5, 5, 64)          0         \n",
      " g2D)                                                            \n",
      "                                                                 \n",
      " conv2d_2 (Conv2D)           (None, 3, 3, 64)          36928     \n",
      "                                                                 \n",
      " flatten_2 (Flatten)         (None, 576)               0         \n",
      "                                                                 \n",
      " dense_11 (Dense)            (None, 64)                36928     \n",
      "                                                                 \n",
      " dense_12 (Dense)            (None, 10)                650       \n",
      "                                                                 \n",
      "=================================================================\n",
      "Total params: 93322 (364.54 KB)\n",
      "Trainable params: 93322 (364.54 KB)\n",
      "Non-trainable params: 0 (0.00 Byte)\n",
      "_________________________________________________________________\n"
     ]
    }
   ],
   "execution_count": 84
  },
  {
   "cell_type": "code",
   "metadata": {
    "id": "pGCR5_AnDFH-",
    "ExecuteTime": {
     "end_time": "2024-11-04T05:19:26.560121Z",
     "start_time": "2024-11-04T05:19:26.554986Z"
    }
   },
   "source": [
    "model.compile(optimizer='adam', loss='sparse_categorical_crossentropy', metrics=['accuracy'])"
   ],
   "outputs": [],
   "execution_count": 85
  },
  {
   "cell_type": "code",
   "metadata": {
    "colab": {
     "background_save": true,
     "base_uri": "https://localhost:8080/"
    },
    "id": "4G3JXNUgDQXr",
    "outputId": "720c9d30-2748-4832-f42d-247028405279",
    "ExecuteTime": {
     "end_time": "2024-11-04T05:25:18.189716Z",
     "start_time": "2024-11-04T05:19:26.589446Z"
    }
   },
   "source": [
    "model.fit(train_images, train_labels, epochs = 5)"
   ],
   "outputs": [
    {
     "name": "stdout",
     "output_type": "stream",
     "text": [
      "Epoch 1/5\n",
      "1875/1875 [==============================] - 69s 37ms/step - loss: 0.1480 - accuracy: 0.9544\n",
      "Epoch 2/5\n",
      "1875/1875 [==============================] - 72s 38ms/step - loss: 0.0470 - accuracy: 0.9851\n",
      "Epoch 3/5\n",
      "1875/1875 [==============================] - 68s 36ms/step - loss: 0.0343 - accuracy: 0.9891\n",
      "Epoch 4/5\n",
      "1875/1875 [==============================] - 73s 39ms/step - loss: 0.0245 - accuracy: 0.9923\n",
      "Epoch 5/5\n",
      "1875/1875 [==============================] - 69s 37ms/step - loss: 0.0204 - accuracy: 0.9935\n"
     ]
    },
    {
     "data": {
      "text/plain": [
       "<keras.src.callbacks.History at 0x17c5413d0>"
      ]
     },
     "execution_count": 86,
     "metadata": {},
     "output_type": "execute_result"
    }
   ],
   "execution_count": 86
  },
  {
   "cell_type": "code",
   "metadata": {
    "id": "pDMTK68-Djf0",
    "ExecuteTime": {
     "end_time": "2024-11-04T05:25:18.428171Z",
     "start_time": "2024-11-04T05:25:18.420480Z"
    }
   },
   "source": [],
   "outputs": [],
   "execution_count": null
  }
 ],
 "metadata": {
  "colab": {
   "provenance": [],
   "authorship_tag": "ABX9TyN8AHjNZgmoA6hgoyo0hbv7"
  },
  "kernelspec": {
   "display_name": "Python 3 (ipykernel)",
   "name": "python3",
   "language": "python"
  },
  "language_info": {
   "name": "python"
  }
 },
 "nbformat": 4,
 "nbformat_minor": 0
}
