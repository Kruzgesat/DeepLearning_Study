{
 "cells": [
  {
   "cell_type": "code",
   "metadata": {
    "id": "rrgEr8QtlQvP",
    "ExecuteTime": {
     "end_time": "2024-11-04T06:07:28.706874Z",
     "start_time": "2024-11-04T06:07:28.694829Z"
    }
   },
   "source": [
    "import tensorflow as tf\n",
    "import matplotlib.pyplot as plt"
   ],
   "outputs": [],
   "execution_count": 87
  },
  {
   "cell_type": "code",
   "metadata": {
    "id": "w8VpU0kuoQT-",
    "ExecuteTime": {
     "end_time": "2024-11-04T06:07:28.948527Z",
     "start_time": "2024-11-04T06:07:28.724102Z"
    }
   },
   "source": [
    "(train_images, train_labels), (test_images, test_labels) = tf.keras.datasets.mnist.load_data()"
   ],
   "outputs": [],
   "execution_count": 88
  },
  {
   "cell_type": "code",
   "metadata": {
    "colab": {
     "base_uri": "https://localhost:8080/"
    },
    "executionInfo": {
     "elapsed": 599,
     "status": "ok",
     "timestamp": 1730178042251,
     "user": {
      "displayName": "홍석민[컴퓨터시스템공학과]",
      "userId": "11359324048911234531"
     },
     "user_tz": -540
    },
    "id": "rwRwmsR-pDup",
    "outputId": "5d93e37d-f463-48b1-c999-17758b9b0c21",
    "ExecuteTime": {
     "end_time": "2024-11-04T06:07:28.972065Z",
     "start_time": "2024-11-04T06:07:28.969256Z"
    }
   },
   "source": [
    "train_images.shape"
   ],
   "outputs": [
    {
     "data": {
      "text/plain": [
       "(60000, 28, 28)"
      ]
     },
     "execution_count": 89,
     "metadata": {},
     "output_type": "execute_result"
    }
   ],
   "execution_count": 89
  },
  {
   "cell_type": "code",
   "metadata": {
    "colab": {
     "base_uri": "https://localhost:8080/"
    },
    "executionInfo": {
     "elapsed": 4,
     "status": "ok",
     "timestamp": 1730178080803,
     "user": {
      "displayName": "홍석민[컴퓨터시스템공학과]",
      "userId": "11359324048911234531"
     },
     "user_tz": -540
    },
    "id": "XQZzeFm_pScW",
    "outputId": "01930ea7-fd12-4ef1-e249-2d5b242fa45a",
    "ExecuteTime": {
     "end_time": "2024-11-04T06:07:29.002414Z",
     "start_time": "2024-11-04T06:07:28.998827Z"
    }
   },
   "source": [
    "train_labels"
   ],
   "outputs": [
    {
     "data": {
      "text/plain": [
       "array([5, 0, 4, ..., 5, 6, 8], dtype=uint8)"
      ]
     },
     "execution_count": 90,
     "metadata": {},
     "output_type": "execute_result"
    }
   ],
   "execution_count": 90
  },
  {
   "cell_type": "code",
   "metadata": {
    "colab": {
     "base_uri": "https://localhost:8080/",
     "height": 468
    },
    "executionInfo": {
     "elapsed": 1050,
     "status": "ok",
     "timestamp": 1730178091603,
     "user": {
      "displayName": "홍석민[컴퓨터시스템공학과]",
      "userId": "11359324048911234531"
     },
     "user_tz": -540
    },
    "id": "gibAz3gEpf6R",
    "outputId": "ef294f39-3682-41b0-c297-e434a43ea104",
    "ExecuteTime": {
     "end_time": "2024-11-04T06:07:29.145474Z",
     "start_time": "2024-11-04T06:07:29.059624Z"
    }
   },
   "source": [
    "plt.imshow(train_images[0], cmap=\"Greys\")"
   ],
   "outputs": [
    {
     "data": {
      "text/plain": [
       "<matplotlib.image.AxesImage at 0x30f4c53d0>"
      ]
     },
     "execution_count": 91,
     "metadata": {},
     "output_type": "execute_result"
    },
    {
     "data": {
      "text/plain": [
       "<Figure size 640x480 with 1 Axes>"
      ],
      "image/png": "[encoded data removed]"
     },
     "metadata": {},
     "output_type": "display_data"
    }
   ],
   "execution_count": 91
  },
  {
   "cell_type": "code",
   "metadata": {
    "id": "ReM2bBhnpoKa",
    "ExecuteTime": {
     "end_time": "2024-11-04T06:07:29.159170Z",
     "start_time": "2024-11-04T06:07:29.152642Z"
    }
   },
   "source": [
    "model = tf.keras.models.Sequential()"
   ],
   "outputs": [],
   "execution_count": 92
  },
  {
   "cell_type": "code",
   "metadata": {
    "colab": {
     "base_uri": "https://localhost:8080/"
    },
    "executionInfo": {
     "elapsed": 8,
     "status": "ok",
     "timestamp": 1730178353615,
     "user": {
      "displayName": "홍석민[컴퓨터시스템공학과]",
      "userId": "11359324048911234531"
     },
     "user_tz": -540
    },
    "id": "t_1V-iLBqHZf",
    "outputId": "ed72768f-3284-4cc2-9b3b-2cb1011f6792",
    "ExecuteTime": {
     "end_time": "2024-11-04T06:07:29.185180Z",
     "start_time": "2024-11-04T06:07:29.169791Z"
    }
   },
   "source": [
    "model.add(tf.keras.layers.Dense(512, activation='relu', input_shape=(784,)))\n",
    "model.add(tf.keras.layers.Dense(10, activation='sigmoid'))"
   ],
   "outputs": [],
   "execution_count": 93
  },
  {
   "cell_type": "code",
   "metadata": {
    "id": "hFnCYnrSqoWx",
    "ExecuteTime": {
     "end_time": "2024-11-04T06:07:29.206810Z",
     "start_time": "2024-11-04T06:07:29.195980Z"
    }
   },
   "source": [
    "model.compile(optimizer='rmsprop',loss='mse', metrics=['accuracy'])"
   ],
   "outputs": [],
   "execution_count": 94
  },
  {
   "cell_type": "code",
   "metadata": {
    "id": "xpNzpvy2rdxJ",
    "ExecuteTime": {
     "end_time": "2024-11-04T06:07:29.283258Z",
     "start_time": "2024-11-04T06:07:29.217404Z"
    }
   },
   "source": [
    "train_images = train_images.reshape((60000, 784))\n",
    "train_images = train_images.astype('float32') / 255.0"
   ],
   "outputs": [],
   "execution_count": 95
  },
  {
   "cell_type": "code",
   "metadata": {
    "id": "H1eA58VPsDsC",
    "ExecuteTime": {
     "end_time": "2024-11-04T06:07:29.298831Z",
     "start_time": "2024-11-04T06:07:29.292948Z"
    }
   },
   "source": [
    "test_images = test_images.reshape((10000, 784))\n",
    "test_images = test_images.astype('float32') / 255.0"
   ],
   "outputs": [],
   "execution_count": 96
  },
  {
   "cell_type": "code",
   "metadata": {
    "colab": {
     "base_uri": "https://localhost:8080/"
    },
    "executionInfo": {
     "elapsed": 520,
     "status": "ok",
     "timestamp": 1730178834035,
     "user": {
      "displayName": "홍석민[컴퓨터시스템공학과]",
      "userId": "11359324048911234531"
     },
     "user_tz": -540
    },
    "id": "WEP7GNqMsT4w",
    "outputId": "572cc427-8123-494b-9601-12702d471d2e",
    "ExecuteTime": {
     "end_time": "2024-11-04T06:07:29.316118Z",
     "start_time": "2024-11-04T06:07:29.313434Z"
    }
   },
   "source": [
    "test_images.shape"
   ],
   "outputs": [
    {
     "data": {
      "text/plain": [
       "(10000, 784)"
      ]
     },
     "execution_count": 97,
     "metadata": {},
     "output_type": "execute_result"
    }
   ],
   "execution_count": 97
  },
  {
   "cell_type": "code",
   "metadata": {
    "colab": {
     "base_uri": "https://localhost:8080/"
    },
    "executionInfo": {
     "elapsed": 4,
     "status": "ok",
     "timestamp": 1730178836450,
     "user": {
      "displayName": "홍석민[컴퓨터시스템공학과]",
      "userId": "11359324048911234531"
     },
     "user_tz": -540
    },
    "id": "jL3Xicp_sYGn",
    "outputId": "cfce4921-9755-4aca-8399-2b653073fdcb",
    "ExecuteTime": {
     "end_time": "2024-11-04T06:07:29.356667Z",
     "start_time": "2024-11-04T06:07:29.354212Z"
    }
   },
   "source": [
    "train_images.shape"
   ],
   "outputs": [
    {
     "data": {
      "text/plain": [
       "(60000, 784)"
      ]
     },
     "execution_count": 98,
     "metadata": {},
     "output_type": "execute_result"
    }
   ],
   "execution_count": 98
  },
  {
   "cell_type": "code",
   "metadata": {
    "id": "45NGGY9dsawr",
    "ExecuteTime": {
     "end_time": "2024-11-04T06:07:29.397751Z",
     "start_time": "2024-11-04T06:07:29.394025Z"
    }
   },
   "source": [
    "train_labels = tf.keras.utils.to_categorical(train_labels)\n",
    "test_labels = tf.keras.utils.to_categorical(test_labels)"
   ],
   "outputs": [],
   "execution_count": 99
  },
  {
   "cell_type": "code",
   "metadata": {
    "colab": {
     "base_uri": "https://localhost:8080/"
    },
    "executionInfo": {
     "elapsed": 27152,
     "status": "ok",
     "timestamp": 1730179116511,
     "user": {
      "displayName": "홍석민[컴퓨터시스템공학과]",
      "userId": "11359324048911234531"
     },
     "user_tz": -540
    },
    "id": "ymlOp8Pks7Kj",
    "outputId": "ab9cd70a-6c5c-4f8b-d282-6c31c4e1e25b",
    "ExecuteTime": {
     "end_time": "2024-11-04T06:07:37.183645Z",
     "start_time": "2024-11-04T06:07:29.420699Z"
    }
   },
   "source": [
    "model.fit(train_images, train_labels, epochs=5, batch_size=128)"
   ],
   "outputs": [
    {
     "name": "stdout",
     "output_type": "stream",
     "text": [
      "Epoch 1/5\n",
      "469/469 [==============================] - 1s 3ms/step - loss: 0.0158 - accuracy: 0.9140\n",
      "Epoch 2/5\n",
      "469/469 [==============================] - 2s 3ms/step - loss: 0.0063 - accuracy: 0.9658\n",
      "Epoch 3/5\n",
      "469/469 [==============================] - 2s 4ms/step - loss: 0.0044 - accuracy: 0.9774\n",
      "Epoch 4/5\n",
      "469/469 [==============================] - 2s 3ms/step - loss: 0.0034 - accuracy: 0.9826\n",
      "Epoch 5/5\n",
      "469/469 [==============================] - 1s 3ms/step - loss: 0.0027 - accuracy: 0.9861\n"
     ]
    },
    {
     "data": {
      "text/plain": [
       "<keras.src.callbacks.History at 0x31ae68910>"
      ]
     },
     "execution_count": 100,
     "metadata": {},
     "output_type": "execute_result"
    }
   ],
   "execution_count": 100
  },
  {
   "cell_type": "code",
   "metadata": {
    "colab": {
     "base_uri": "https://localhost:8080/"
    },
    "executionInfo": {
     "elapsed": 3757,
     "status": "ok",
     "timestamp": 1730179203862,
     "user": {
      "displayName": "홍석민[컴퓨터시스템공학과]",
      "userId": "11359324048911234531"
     },
     "user_tz": -540
    },
    "id": "EU6hUFQjtYK4",
    "outputId": "8df1f9b6-edc4-4ef3-e03a-8ce162cb150e",
    "ExecuteTime": {
     "end_time": "2024-11-04T06:07:37.489422Z",
     "start_time": "2024-11-04T06:07:37.195347Z"
    }
   },
   "source": [
    "test_loss, test_acc = model.evaluate(test_images, test_labels)\n",
    "print(\"Accuracy : \", test_acc)"
   ],
   "outputs": [
    {
     "name": "stdout",
     "output_type": "stream",
     "text": [
      "313/313 [==============================] - 0s 766us/step - loss: 0.0034 - accuracy: 0.9814\n",
      "Accuracy :  0.9814000129699707\n"
     ]
    }
   ],
   "execution_count": 101
  },
  {
   "cell_type": "code",
   "metadata": {
    "colab": {
     "base_uri": "https://localhost:8080/"
    },
    "executionInfo": {
     "elapsed": 31064,
     "status": "ok",
     "timestamp": 1730179312371,
     "user": {
      "displayName": "홍석민[컴퓨터시스템공학과]",
      "userId": "11359324048911234531"
     },
     "user_tz": -540
    },
    "id": "ANg8NhESt280",
    "outputId": "adcf7c84-db09-4575-d248-bd0e1ad7592a",
    "ExecuteTime": {
     "end_time": "2024-11-04T06:07:44.524366Z",
     "start_time": "2024-11-04T06:07:37.500192Z"
    }
   },
   "source": [
    "history = model.fit(train_images, train_labels, epochs=5, batch_size=128)"
   ],
   "outputs": [
    {
     "name": "stdout",
     "output_type": "stream",
     "text": [
      "Epoch 1/5\n",
      "469/469 [==============================] - 1s 3ms/step - loss: 0.0022 - accuracy: 0.9889\n",
      "Epoch 2/5\n",
      "469/469 [==============================] - 1s 3ms/step - loss: 0.0019 - accuracy: 0.9907\n",
      "Epoch 3/5\n",
      "469/469 [==============================] - 1s 3ms/step - loss: 0.0016 - accuracy: 0.9919\n",
      "Epoch 4/5\n",
      "469/469 [==============================] - 1s 3ms/step - loss: 0.0014 - accuracy: 0.9929\n",
      "Epoch 5/5\n",
      "469/469 [==============================] - 1s 3ms/step - loss: 0.0012 - accuracy: 0.9941\n"
     ]
    }
   ],
   "execution_count": 102
  },
  {
   "cell_type": "code",
   "metadata": {
    "id": "3uX35DIuuK6q",
    "ExecuteTime": {
     "end_time": "2024-11-04T06:07:44.535662Z",
     "start_time": "2024-11-04T06:07:44.533439Z"
    }
   },
   "source": [
    "loss = history.history['loss']\n",
    "acc = history.history['accuracy']\n",
    "epochs = range(1, len(loss)+1)"
   ],
   "outputs": [],
   "execution_count": 103
  },
  {
   "cell_type": "code",
   "metadata": {
    "colab": {
     "base_uri": "https://localhost:8080/",
     "height": 469
    },
    "executionInfo": {
     "elapsed": 535,
     "status": "ok",
     "timestamp": 1730179349435,
     "user": {
      "displayName": "홍석민[컴퓨터시스템공학과]",
      "userId": "11359324048911234531"
     },
     "user_tz": -540
    },
    "id": "bucyAasZuY9s",
    "outputId": "d55d4794-71f7-43c7-a7fd-de1e3eb49fb3",
    "ExecuteTime": {
     "end_time": "2024-11-04T06:07:44.628730Z",
     "start_time": "2024-11-04T06:07:44.555461Z"
    }
   },
   "source": [
    "plt.plot(epochs, loss, 'b', label='Training Loss')\n",
    "plt.plot(epochs, acc, 'r', label='Accuracy')\n",
    "plt.xlabel('epochs')\n",
    "plt.ylabel('loss/acc')\n",
    "plt.show()"
   ],
   "outputs": [
    {
     "data": {
      "text/plain": [
       "<Figure size 640x480 with 1 Axes>"
      ],
      "image/png": "[encoded data removed]"
     },
     "metadata": {},
     "output_type": "display_data"
    }
   ],
   "execution_count": 104
  },
  {
   "cell_type": "code",
   "metadata": {
    "id": "5p6hgfn-ubb8",
    "ExecuteTime": {
     "end_time": "2024-11-04T06:07:44.662343Z",
     "start_time": "2024-11-04T06:07:44.660022Z"
    }
   },
   "source": [
    "import numpy as np\n",
    "import matplotlib.pyplot as plt\n",
    "import tensorflow as tf\n",
    "from tensorflow import keras\n",
    "\n",
    "from tensorflow.keras import datasets, layers, models"
   ],
   "outputs": [],
   "execution_count": 105
  },
  {
   "cell_type": "code",
   "metadata": {
    "id": "4nK88JsUycQ2",
    "ExecuteTime": {
     "end_time": "2024-11-04T06:07:44.938375Z",
     "start_time": "2024-11-04T06:07:44.672747Z"
    }
   },
   "source": [
    "fashion_mnist = keras.datasets.fashion_mnist\n",
    "(train_images, train_labels), (test_images, test_labels) = fashion_mnist.load_data()"
   ],
   "outputs": [],
   "execution_count": 106
  },
  {
   "cell_type": "code",
   "metadata": {
    "colab": {
     "base_uri": "https://localhost:8080/",
     "height": 468
    },
    "executionInfo": {
     "elapsed": 641,
     "status": "ok",
     "timestamp": 1730180576704,
     "user": {
      "displayName": "홍석민[컴퓨터시스템공학과]",
      "userId": "11359324048911234531"
     },
     "user_tz": -540
    },
    "id": "G4Aw2EYCyvz1",
    "outputId": "ce23e1ac-8c88-48d6-fdcc-2014e1b4b294",
    "ExecuteTime": {
     "end_time": "2024-11-04T06:07:45.016537Z",
     "start_time": "2024-11-04T06:07:44.948389Z"
    }
   },
   "source": [
    "plt.imshow(train_images[0])"
   ],
   "outputs": [
    {
     "data": {
      "text/plain": [
       "<matplotlib.image.AxesImage at 0x17fd4ea60>"
      ]
     },
     "execution_count": 107,
     "metadata": {},
     "output_type": "execute_result"
    },
    {
     "data": {
      "text/plain": [
       "<Figure size 640x480 with 1 Axes>"
      ],
      "image/png": "[encoded data removed]"
     },
     "metadata": {},
     "output_type": "display_data"
    }
   ],
   "execution_count": 107
  },
  {
   "cell_type": "code",
   "metadata": {
    "id": "rY3k5F2Ey_4r",
    "ExecuteTime": {
     "end_time": "2024-11-04T06:07:45.110147Z",
     "start_time": "2024-11-04T06:07:45.028610Z"
    }
   },
   "source": [
    "train_images = train_images / 255.0\n",
    "test_images = test_images / 255.0"
   ],
   "outputs": [],
   "execution_count": 108
  },
  {
   "cell_type": "code",
   "metadata": {
    "colab": {
     "base_uri": "https://localhost:8080/"
    },
    "executionInfo": {
     "elapsed": 684,
     "status": "ok",
     "timestamp": 1730180673720,
     "user": {
      "displayName": "홍석민[컴퓨터시스템공학과]",
      "userId": "11359324048911234531"
     },
     "user_tz": -540
    },
    "id": "b3wC1aymzNga",
    "outputId": "8cc38d8d-d368-4800-c8fb-f2cf3ca31d38",
    "ExecuteTime": {
     "end_time": "2024-11-04T06:07:45.141232Z",
     "start_time": "2024-11-04T06:07:45.121681Z"
    }
   },
   "source": [
    "model = models.Sequential()\n",
    "model.add(layers.Flatten(input_shape=(28, 28)))\n",
    "model.add(layers.Dense(128, activation='relu'))\n",
    "model.add(layers.Dense(10, activation='softmax'))"
   ],
   "outputs": [],
   "execution_count": 109
  },
  {
   "cell_type": "code",
   "metadata": {
    "id": "hDTEKLcpzeqA",
    "ExecuteTime": {
     "end_time": "2024-11-04T06:07:45.156243Z",
     "start_time": "2024-11-04T06:07:45.151430Z"
    }
   },
   "source": [
    "model.compile(optimizer='adam', loss='sparse_categorical_crossentropy', metrics=['accuracy'])"
   ],
   "outputs": [],
   "execution_count": 110
  },
  {
   "cell_type": "code",
   "metadata": {
    "colab": {
     "base_uri": "https://localhost:8080/"
    },
    "executionInfo": {
     "elapsed": 19054,
     "status": "ok",
     "timestamp": 1730180960255,
     "user": {
      "displayName": "홍석민[컴퓨터시스템공학과]",
      "userId": "11359324048911234531"
     },
     "user_tz": -540
    },
    "id": "T5uSku7W0IZh",
    "outputId": "be14a18f-bf5b-4078-d980-66bd532ef583",
    "ExecuteTime": {
     "end_time": "2024-11-04T06:07:48.114832Z",
     "start_time": "2024-11-04T06:07:45.166709Z"
    }
   },
   "source": [
    "model.fit(train_images, train_labels, epochs=5, batch_size=128)"
   ],
   "outputs": [
    {
     "name": "stdout",
     "output_type": "stream",
     "text": [
      "Epoch 1/5\n",
      "469/469 [==============================] - 1s 1ms/step - loss: 0.5528 - accuracy: 0.8107\n",
      "Epoch 2/5\n",
      "469/469 [==============================] - 1s 1ms/step - loss: 0.4034 - accuracy: 0.8575\n",
      "Epoch 3/5\n",
      "469/469 [==============================] - 1s 1ms/step - loss: 0.3669 - accuracy: 0.8697\n",
      "Epoch 4/5\n",
      "469/469 [==============================] - 1s 1ms/step - loss: 0.3384 - accuracy: 0.8783\n",
      "Epoch 5/5\n",
      "469/469 [==============================] - 1s 1ms/step - loss: 0.3218 - accuracy: 0.8842\n"
     ]
    },
    {
     "data": {
      "text/plain": [
       "<keras.src.callbacks.History at 0x17fd301f0>"
      ]
     },
     "execution_count": 111,
     "metadata": {},
     "output_type": "execute_result"
    }
   ],
   "execution_count": 111
  },
  {
   "cell_type": "code",
   "metadata": {
    "colab": {
     "base_uri": "https://localhost:8080/"
    },
    "executionInfo": {
     "elapsed": 3801,
     "status": "ok",
     "timestamp": 1730180973518,
     "user": {
      "displayName": "홍석민[컴퓨터시스템공학과]",
      "userId": "11359324048911234531"
     },
     "user_tz": -540
    },
    "id": "sNxyiUA90gKJ",
    "outputId": "67275ce5-a339-4caf-fd66-7948640e0102",
    "ExecuteTime": {
     "end_time": "2024-11-04T06:07:48.442814Z",
     "start_time": "2024-11-04T06:07:48.195684Z"
    }
   },
   "source": [
    "test_loss, test_acc = model.evaluate(test_images, test_labels)"
   ],
   "outputs": [
    {
     "name": "stdout",
     "output_type": "stream",
     "text": [
      "313/313 [==============================] - 0s 468us/step - loss: 0.3707 - accuracy: 0.8671\n"
     ]
    }
   ],
   "execution_count": 112
  },
  {
   "cell_type": "code",
   "metadata": {
    "colab": {
     "base_uri": "https://localhost:8080/"
    },
    "executionInfo": {
     "elapsed": 475,
     "status": "ok",
     "timestamp": 1730180984271,
     "user": {
      "displayName": "홍석민[컴퓨터시스템공학과]",
      "userId": "11359324048911234531"
     },
     "user_tz": -540
    },
    "id": "nmRiRCb90nCJ",
    "outputId": "2d431e94-4357-4b1e-faeb-d880908f3f40",
    "ExecuteTime": {
     "end_time": "2024-11-04T06:07:48.451943Z",
     "start_time": "2024-11-04T06:07:48.449492Z"
    }
   },
   "source": [
    "print('Accuracy : ', test_acc)"
   ],
   "outputs": [
    {
     "name": "stdout",
     "output_type": "stream",
     "text": [
      "Accuracy :  0.8671000003814697\n"
     ]
    }
   ],
   "execution_count": 113
  },
  {
   "cell_type": "code",
   "metadata": {
    "id": "9sQeesvF0qUK",
    "ExecuteTime": {
     "end_time": "2024-11-04T06:07:48.528348Z",
     "start_time": "2024-11-04T06:07:48.526296Z"
    }
   },
   "source": [
    "import numpy as np\n",
    "import tensorflow as tf\n",
    "import matplotlib.pyplot as plt\n",
    "import pandas as pd"
   ],
   "outputs": [],
   "execution_count": 114
  },
  {
   "cell_type": "code",
   "metadata": {
    "id": "TF_M1VSA2DgA",
    "ExecuteTime": {
     "end_time": "2024-11-04T06:07:48.556381Z",
     "start_time": "2024-11-04T06:07:48.545813Z"
    }
   },
   "source": [
    "train = pd.read_csv(\"train.csv\", sep = ',')\n",
    "test = pd.read_csv(\"test.csv\", sep = ',')"
   ],
   "outputs": [],
   "execution_count": 115
  },
  {
   "cell_type": "code",
   "metadata": {
    "id": "WMbkmQIK3uAd",
    "ExecuteTime": {
     "end_time": "2024-11-04T06:07:48.573027Z",
     "start_time": "2024-11-04T06:07:48.569957Z"
    }
   },
   "source": [
    "train.drop(['SibSp','Parch','Ticket','Embarked','Name','Cabin','PassengerId','Fare','Age'], inplace=True, axis=1)"
   ],
   "outputs": [],
   "execution_count": 116
  },
  {
   "cell_type": "code",
   "metadata": {
    "id": "PpEGhJxV4AZQ",
    "ExecuteTime": {
     "end_time": "2024-11-04T06:07:48.594589Z",
     "start_time": "2024-11-04T06:07:48.592256Z"
    }
   },
   "source": [
    "train.dropna(inplace = True)"
   ],
   "outputs": [],
   "execution_count": 117
  },
  {
   "cell_type": "code",
   "metadata": {
    "colab": {
     "base_uri": "https://localhost:8080/",
     "height": 504
    },
    "executionInfo": {
     "elapsed": 590,
     "status": "ok",
     "timestamp": 1730182114239,
     "user": {
      "displayName": "홍석민[컴퓨터시스템공학과]",
      "userId": "11359324048911234531"
     },
     "user_tz": -540
    },
    "id": "B8FDoQTP4TR_",
    "outputId": "0e4de06a-2378-4138-f5a4-32cf143df8d3",
    "ExecuteTime": {
     "end_time": "2024-11-04T06:07:48.669089Z",
     "start_time": "2024-11-04T06:07:48.612674Z"
    }
   },
   "source": [
    "df = train.groupby('Sex').mean()[\"Survived\"]\n",
    "df.plot(kind='bar')\n",
    "plt.show()"
   ],
   "outputs": [
    {
     "data": {
      "text/plain": [
       "<Figure size 640x480 with 1 Axes>"
      ],
      "image/png": "[encoded data removed]"
     },
     "metadata": {},
     "output_type": "display_data"
    }
   ],
   "execution_count": 118
  },
  {
   "cell_type": "code",
   "metadata": {
    "id": "-s5FHe_049PA",
    "ExecuteTime": {
     "end_time": "2024-11-04T06:07:48.712945Z",
     "start_time": "2024-11-04T06:07:48.680449Z"
    }
   },
   "source": [
    "for ix in train.index:\n",
    "  if train.loc[ix, 'Sex'] == \"male\" :\n",
    "    train.loc[ix, 'Sex'] = 1\n",
    "  else :\n",
    "    train.loc[ix, 'Sex'] = 0"
   ],
   "outputs": [],
   "execution_count": 119
  },
  {
   "cell_type": "code",
   "metadata": {
    "id": "oNIIvFwK54ME",
    "ExecuteTime": {
     "end_time": "2024-11-04T06:07:48.725777Z",
     "start_time": "2024-11-04T06:07:48.723778Z"
    }
   },
   "source": [
    "target = np.ravel(train.Survived)"
   ],
   "outputs": [],
   "execution_count": 120
  },
  {
   "cell_type": "code",
   "metadata": {
    "id": "KH2cmLLi6I98",
    "ExecuteTime": {
     "end_time": "2024-11-04T06:07:48.739305Z",
     "start_time": "2024-11-04T06:07:48.736526Z"
    }
   },
   "source": [
    "train.drop(['Survived'], inplace = True, axis = 1)\n",
    "train = train.astype(float)"
   ],
   "outputs": [],
   "execution_count": 121
  },
  {
   "cell_type": "code",
   "metadata": {
    "colab": {
     "base_uri": "https://localhost:8080/"
    },
    "executionInfo": {
     "elapsed": 792,
     "status": "ok",
     "timestamp": 1730182768941,
     "user": {
      "displayName": "홍석민[컴퓨터시스템공학과]",
      "userId": "11359324048911234531"
     },
     "user_tz": -540
    },
    "id": "YJhaTn3O6b-I",
    "outputId": "faeea8aa-068d-4bde-8cc5-fe2283bcb28e",
    "ExecuteTime": {
     "end_time": "2024-11-04T06:07:48.763171Z",
     "start_time": "2024-11-04T06:07:48.749657Z"
    }
   },
   "source": [
    "model = models.Sequential()\n",
    "model.add(tf.keras.layers.Dense(16, activation=\"relu\", input_shape=(2,)))\n",
    "model.add(tf.keras.layers.Dense(8, activation=\"relu\"))\n",
    "model.add(tf.keras.layers.Dense(1, activation=\"sigmoid\"))"
   ],
   "outputs": [],
   "execution_count": 122
  },
  {
   "cell_type": "code",
   "metadata": {
    "colab": {
     "base_uri": "https://localhost:8080/"
    },
    "executionInfo": {
     "elapsed": 57233,
     "status": "ok",
     "timestamp": 1730182910716,
     "user": {
      "displayName": "홍석민[컴퓨터시스템공학과]",
      "userId": "11359324048911234531"
     },
     "user_tz": -540
    },
    "id": "43yyIKsB7eNX",
    "outputId": "84aabb13-7be9-4b5f-9768-1ed90f8d4a9f",
    "ExecuteTime": {
     "end_time": "2024-11-04T06:07:59.361931Z",
     "start_time": "2024-11-04T06:07:48.773880Z"
    }
   },
   "source": [
    "model.compile(loss='binary_crossentropy', optimizer = 'adam', metrics=['accuracy'])\n",
    "model.fit(train, target, epochs = 30, batch_size =1, verbose = 1)"
   ],
   "outputs": [
    {
     "name": "stdout",
     "output_type": "stream",
     "text": [
      "Epoch 1/30\n",
      "891/891 [==============================] - 0s 368us/step - loss: 0.6214 - accuracy: 0.6016\n",
      "Epoch 2/30\n",
      "891/891 [==============================] - 0s 438us/step - loss: 0.5501 - accuracy: 0.7396\n",
      "Epoch 3/30\n",
      "891/891 [==============================] - 0s 403us/step - loss: 0.5090 - accuracy: 0.7868\n",
      "Epoch 4/30\n",
      "891/891 [==============================] - 0s 396us/step - loss: 0.4914 - accuracy: 0.7845\n",
      "Epoch 5/30\n",
      "891/891 [==============================] - 0s 365us/step - loss: 0.4838 - accuracy: 0.7868\n",
      "Epoch 6/30\n",
      "891/891 [==============================] - 0s 408us/step - loss: 0.4773 - accuracy: 0.7845\n",
      "Epoch 7/30\n",
      "891/891 [==============================] - 0s 408us/step - loss: 0.4731 - accuracy: 0.7879\n",
      "Epoch 8/30\n",
      "891/891 [==============================] - 0s 401us/step - loss: 0.4672 - accuracy: 0.7912\n",
      "Epoch 9/30\n",
      "891/891 [==============================] - 0s 379us/step - loss: 0.4699 - accuracy: 0.7879\n",
      "Epoch 10/30\n",
      "891/891 [==============================] - 0s 389us/step - loss: 0.4634 - accuracy: 0.7856\n",
      "Epoch 11/30\n",
      "891/891 [==============================] - 0s 397us/step - loss: 0.4612 - accuracy: 0.7800\n",
      "Epoch 12/30\n",
      "891/891 [==============================] - 0s 414us/step - loss: 0.4605 - accuracy: 0.7811\n",
      "Epoch 13/30\n",
      "891/891 [==============================] - 0s 409us/step - loss: 0.4599 - accuracy: 0.7811\n",
      "Epoch 14/30\n",
      "891/891 [==============================] - 0s 385us/step - loss: 0.4576 - accuracy: 0.7890\n",
      "Epoch 15/30\n",
      "891/891 [==============================] - 0s 377us/step - loss: 0.4586 - accuracy: 0.7811\n",
      "Epoch 16/30\n",
      "891/891 [==============================] - 0s 378us/step - loss: 0.4587 - accuracy: 0.7755\n",
      "Epoch 17/30\n",
      "891/891 [==============================] - 0s 379us/step - loss: 0.4563 - accuracy: 0.7856\n",
      "Epoch 18/30\n",
      "891/891 [==============================] - 0s 382us/step - loss: 0.4560 - accuracy: 0.7834\n",
      "Epoch 19/30\n",
      "891/891 [==============================] - 0s 384us/step - loss: 0.4514 - accuracy: 0.8070\n",
      "Epoch 20/30\n",
      "891/891 [==============================] - 0s 378us/step - loss: 0.4568 - accuracy: 0.7811\n",
      "Epoch 21/30\n",
      "891/891 [==============================] - 0s 380us/step - loss: 0.4561 - accuracy: 0.7744\n",
      "Epoch 22/30\n",
      "891/891 [==============================] - 0s 373us/step - loss: 0.4553 - accuracy: 0.7811\n",
      "Epoch 23/30\n",
      "891/891 [==============================] - 0s 380us/step - loss: 0.4571 - accuracy: 0.7767\n",
      "Epoch 24/30\n",
      "891/891 [==============================] - 0s 381us/step - loss: 0.4559 - accuracy: 0.7856\n",
      "Epoch 25/30\n",
      "891/891 [==============================] - 0s 386us/step - loss: 0.4534 - accuracy: 0.7901\n",
      "Epoch 26/30\n",
      "891/891 [==============================] - 0s 403us/step - loss: 0.4525 - accuracy: 0.8002\n",
      "Epoch 27/30\n",
      "891/891 [==============================] - 0s 379us/step - loss: 0.4561 - accuracy: 0.7823\n",
      "Epoch 28/30\n",
      "891/891 [==============================] - 0s 379us/step - loss: 0.4560 - accuracy: 0.7868\n",
      "Epoch 29/30\n",
      "891/891 [==============================] - 0s 389us/step - loss: 0.4550 - accuracy: 0.7811\n",
      "Epoch 30/30\n",
      "891/891 [==============================] - 0s 377us/step - loss: 0.4548 - accuracy: 0.7901\n"
     ]
    },
    {
     "data": {
      "text/plain": [
       "<keras.src.callbacks.History at 0x300313d00>"
      ]
     },
     "execution_count": 123,
     "metadata": {},
     "output_type": "execute_result"
    }
   ],
   "execution_count": 123
  },
  {
   "cell_type": "code",
   "metadata": {
    "id": "kn49q55E7s6N",
    "ExecuteTime": {
     "end_time": "2024-11-04T06:07:59.432996Z",
     "start_time": "2024-11-04T06:07:59.430995Z"
    }
   },
   "source": [
    "import tensorflow as tf\n",
    "from tensorflow.keras import datasets, layers, models"
   ],
   "outputs": [],
   "execution_count": 124
  },
  {
   "cell_type": "code",
   "metadata": {
    "id": "4Ur0f0FuAIdK",
    "ExecuteTime": {
     "end_time": "2024-11-04T06:07:59.643589Z",
     "start_time": "2024-11-04T06:07:59.466903Z"
    }
   },
   "source": [
    "(train_images, train_labels), (test_images, test_labels) = datasets.mnist.load_data()"
   ],
   "outputs": [],
   "execution_count": 125
  },
  {
   "cell_type": "code",
   "metadata": {
    "id": "lhWs3j4XAazl",
    "ExecuteTime": {
     "end_time": "2024-11-04T06:07:59.648890Z",
     "start_time": "2024-11-04T06:07:59.647067Z"
    }
   },
   "source": [
    "train_images = train_images.reshape(60000, 28, 28, 1)\n",
    "test_images = test_images.reshape(10000, 28, 28, 1)"
   ],
   "outputs": [],
   "execution_count": 126
  },
  {
   "cell_type": "code",
   "metadata": {
    "id": "fAVizoIrAxfO",
    "ExecuteTime": {
     "end_time": "2024-11-04T06:07:59.734116Z",
     "start_time": "2024-11-04T06:07:59.659306Z"
    }
   },
   "source": [
    "train_images, test_images = train_images/255.0, test_images / 255.0"
   ],
   "outputs": [],
   "execution_count": 127
  },
  {
   "cell_type": "code",
   "metadata": {
    "colab": {
     "base_uri": "https://localhost:8080/"
    },
    "executionInfo": {
     "elapsed": 621,
     "status": "ok",
     "timestamp": 1730184380518,
     "user": {
      "displayName": "홍석민[컴퓨터시스템공학과]",
      "userId": "11359324048911234531"
     },
     "user_tz": -540
    },
    "id": "B2YJzg-xBOwA",
    "outputId": "1c48bd31-1461-41bd-d6b8-1d0469206f95",
    "ExecuteTime": {
     "end_time": "2024-11-04T06:07:59.755599Z",
     "start_time": "2024-11-04T06:07:59.746333Z"
    }
   },
   "source": [
    "model = models.Sequential()\n",
    "\n",
    "model.add(layers.Conv2D(32, (3,3), activation = 'relu', input_shape = (28, 28, 1)))"
   ],
   "outputs": [],
   "execution_count": 128
  },
  {
   "cell_type": "code",
   "metadata": {
    "id": "-9kQJPPDBnro",
    "ExecuteTime": {
     "end_time": "2024-11-04T06:07:59.771125Z",
     "start_time": "2024-11-04T06:07:59.766869Z"
    }
   },
   "source": [
    "model.add(layers.MaxPooling2D(2,2))"
   ],
   "outputs": [],
   "execution_count": 129
  },
  {
   "cell_type": "code",
   "metadata": {
    "id": "EciXoWYrBzBU",
    "ExecuteTime": {
     "end_time": "2024-11-04T06:07:59.789371Z",
     "start_time": "2024-11-04T06:07:59.782732Z"
    }
   },
   "source": [
    "model.add(layers.Conv2D(64, (3,3), activation = 'relu'))"
   ],
   "outputs": [],
   "execution_count": 130
  },
  {
   "cell_type": "code",
   "metadata": {
    "id": "qBHnlWveCVOt",
    "ExecuteTime": {
     "end_time": "2024-11-04T06:07:59.804356Z",
     "start_time": "2024-11-04T06:07:59.800403Z"
    }
   },
   "source": [
    "model.add(layers.MaxPooling2D(2,2))"
   ],
   "outputs": [],
   "execution_count": 131
  },
  {
   "cell_type": "code",
   "metadata": {
    "id": "6RObOf9NCYEk",
    "ExecuteTime": {
     "end_time": "2024-11-04T06:07:59.821538Z",
     "start_time": "2024-11-04T06:07:59.814963Z"
    }
   },
   "source": [
    "model.add(layers.Conv2D(64, (3,3), activation = 'relu'))"
   ],
   "outputs": [],
   "execution_count": 132
  },
  {
   "cell_type": "code",
   "metadata": {
    "id": "vXtHSNuPCd0z",
    "ExecuteTime": {
     "end_time": "2024-11-04T06:07:59.837062Z",
     "start_time": "2024-11-04T06:07:59.832589Z"
    }
   },
   "source": [
    "model.add(layers.Flatten())"
   ],
   "outputs": [],
   "execution_count": 133
  },
  {
   "cell_type": "code",
   "metadata": {
    "id": "KibMeU4OCnJn",
    "ExecuteTime": {
     "end_time": "2024-11-04T06:07:59.858315Z",
     "start_time": "2024-11-04T06:07:59.848897Z"
    }
   },
   "source": [
    "model.add(layers.Dense(64, activation = 'relu'))\n",
    "model.add(layers.Dense(10, activation = 'softmax'))"
   ],
   "outputs": [],
   "execution_count": 134
  },
  {
   "cell_type": "code",
   "metadata": {
    "colab": {
     "base_uri": "https://localhost:8080/",
     "height": 405
    },
    "executionInfo": {
     "elapsed": 10,
     "status": "ok",
     "timestamp": 1730184763296,
     "user": {
      "displayName": "홍석민[컴퓨터시스템공학과]",
      "userId": "11359324048911234531"
     },
     "user_tz": -540
    },
    "id": "Zfr_x-DxC-q7",
    "outputId": "5e616ca8-65b0-4636-fe15-ffb4a1df4e46",
    "ExecuteTime": {
     "end_time": "2024-11-04T06:07:59.876695Z",
     "start_time": "2024-11-04T06:07:59.868596Z"
    }
   },
   "source": [
    "model.summary()"
   ],
   "outputs": [
    {
     "name": "stdout",
     "output_type": "stream",
     "text": [
      "Model: \"sequential_9\"\n",
      "_________________________________________________________________\n",
      " Layer (type)                Output Shape              Param #   \n",
      "=================================================================\n",
      " conv2d_3 (Conv2D)           (None, 26, 26, 32)        320       \n",
      "                                                                 \n",
      " max_pooling2d_2 (MaxPoolin  (None, 13, 13, 32)        0         \n",
      " g2D)                                                            \n",
      "                                                                 \n",
      " conv2d_4 (Conv2D)           (None, 11, 11, 64)        18496     \n",
      "                                                                 \n",
      " max_pooling2d_3 (MaxPoolin  (None, 5, 5, 64)          0         \n",
      " g2D)                                                            \n",
      "                                                                 \n",
      " conv2d_5 (Conv2D)           (None, 3, 3, 64)          36928     \n",
      "                                                                 \n",
      " flatten_4 (Flatten)         (None, 576)               0         \n",
      "                                                                 \n",
      " dense_20 (Dense)            (None, 64)                36928     \n",
      "                                                                 \n",
      " dense_21 (Dense)            (None, 10)                650       \n",
      "                                                                 \n",
      "=================================================================\n",
      "Total params: 93322 (364.54 KB)\n",
      "Trainable params: 93322 (364.54 KB)\n",
      "Non-trainable params: 0 (0.00 Byte)\n",
      "_________________________________________________________________\n"
     ]
    }
   ],
   "execution_count": 135
  },
  {
   "cell_type": "code",
   "metadata": {
    "id": "pGCR5_AnDFH-",
    "ExecuteTime": {
     "end_time": "2024-11-04T06:07:59.897675Z",
     "start_time": "2024-11-04T06:07:59.892235Z"
    }
   },
   "source": [
    "model.compile(optimizer='adam', loss='sparse_categorical_crossentropy', metrics=['accuracy'])"
   ],
   "outputs": [],
   "execution_count": 136
  },
  {
   "cell_type": "code",
   "metadata": {
    "colab": {
     "background_save": true,
     "base_uri": "https://localhost:8080/"
    },
    "id": "4G3JXNUgDQXr",
    "outputId": "720c9d30-2748-4832-f42d-247028405279",
    "ExecuteTime": {
     "end_time": "2024-11-04T06:09:07.840382Z",
     "start_time": "2024-11-04T06:07:59.937422Z"
    }
   },
   "source": [
    "model.fit(train_images, train_labels, epochs = 5)"
   ],
   "outputs": [
    {
     "name": "stdout",
     "output_type": "stream",
     "text": [
      "Epoch 1/5\n",
      "1875/1875 [==============================] - 13s 7ms/step - loss: 0.1500 - accuracy: 0.9534\n",
      "Epoch 2/5\n",
      "1875/1875 [==============================] - 14s 7ms/step - loss: 0.0458 - accuracy: 0.9856\n",
      "Epoch 3/5\n",
      "1875/1875 [==============================] - 13s 7ms/step - loss: 0.0338 - accuracy: 0.9891\n",
      "Epoch 4/5\n",
      "1875/1875 [==============================] - 13s 7ms/step - loss: 0.0263 - accuracy: 0.9916\n",
      "Epoch 5/5\n",
      "1875/1875 [==============================] - 14s 8ms/step - loss: 0.0206 - accuracy: 0.9937\n"
     ]
    },
    {
     "data": {
      "text/plain": [
       "<keras.src.callbacks.History at 0x306698070>"
      ]
     },
     "execution_count": 137,
     "metadata": {},
     "output_type": "execute_result"
    }
   ],
   "execution_count": 137
  },
  {
   "cell_type": "code",
   "metadata": {
    "id": "pDMTK68-Djf0",
    "ExecuteTime": {
     "end_time": "2024-11-04T06:09:07.911127Z",
     "start_time": "2024-11-04T06:09:07.909408Z"
    }
   },
   "source": [],
   "outputs": [],
   "execution_count": null
  }
 ],
 "metadata": {
  "colab": {
   "provenance": [],
   "authorship_tag": "ABX9TyN8AHjNZgmoA6hgoyo0hbv7"
  },
  "kernelspec": {
   "display_name": "Python 3 (ipykernel)",
   "name": "python3",
   "language": "python"
  },
  "language_info": {
   "name": "python"
  }
 },
 "nbformat": 4,
 "nbformat_minor": 0
}
