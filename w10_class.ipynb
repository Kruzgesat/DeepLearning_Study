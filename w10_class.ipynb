{
 "cells": [
  {
   "cell_type": "code",
   "metadata": {
    "id": "rrgEr8QtlQvP",
    "ExecuteTime": {
     "end_time": "2024-11-05T04:37:49.884971Z",
     "start_time": "2024-11-05T04:37:45.073537Z"
    }
   },
   "source": [
    "import tensorflow as tf\n",
    "import matplotlib.pyplot as plt"
   ],
   "outputs": [],
   "execution_count": 1
  },
  {
   "cell_type": "code",
   "metadata": {
    "id": "w8VpU0kuoQT-",
    "ExecuteTime": {
     "end_time": "2024-11-05T04:37:50.064211Z",
     "start_time": "2024-11-05T04:37:49.894471Z"
    }
   },
   "source": [
    "(train_images, train_labels), (test_images, test_labels) = tf.keras.datasets.mnist.load_data()"
   ],
   "outputs": [],
   "execution_count": 2
  },
  {
   "cell_type": "code",
   "metadata": {
    "colab": {
     "base_uri": "https://localhost:8080/"
    },
    "executionInfo": {
     "elapsed": 599,
     "status": "ok",
     "timestamp": 1730178042251,
     "user": {
      "displayName": "홍석민[컴퓨터시스템공학과]",
      "userId": "11359324048911234531"
     },
     "user_tz": -540
    },
    "id": "rwRwmsR-pDup",
    "outputId": "5d93e37d-f463-48b1-c999-17758b9b0c21",
    "ExecuteTime": {
     "end_time": "2024-11-05T04:37:50.107732Z",
     "start_time": "2024-11-05T04:37:50.104467Z"
    }
   },
   "source": [
    "train_images.shape"
   ],
   "outputs": [
    {
     "data": {
      "text/plain": [
       "(60000, 28, 28)"
      ]
     },
     "execution_count": 3,
     "metadata": {},
     "output_type": "execute_result"
    }
   ],
   "execution_count": 3
  },
  {
   "cell_type": "code",
   "metadata": {
    "colab": {
     "base_uri": "https://localhost:8080/"
    },
    "executionInfo": {
     "elapsed": 4,
     "status": "ok",
     "timestamp": 1730178080803,
     "user": {
      "displayName": "홍석민[컴퓨터시스템공학과]",
      "userId": "11359324048911234531"
     },
     "user_tz": -540
    },
    "id": "XQZzeFm_pScW",
    "outputId": "01930ea7-fd12-4ef1-e249-2d5b242fa45a",
    "ExecuteTime": {
     "end_time": "2024-11-05T04:37:50.186609Z",
     "start_time": "2024-11-05T04:37:50.184202Z"
    }
   },
   "source": [
    "train_labels"
   ],
   "outputs": [
    {
     "data": {
      "text/plain": [
       "array([5, 0, 4, ..., 5, 6, 8], dtype=uint8)"
      ]
     },
     "execution_count": 4,
     "metadata": {},
     "output_type": "execute_result"
    }
   ],
   "execution_count": 4
  },
  {
   "cell_type": "code",
   "metadata": {
    "colab": {
     "base_uri": "https://localhost:8080/",
     "height": 468
    },
    "executionInfo": {
     "elapsed": 1050,
     "status": "ok",
     "timestamp": 1730178091603,
     "user": {
      "displayName": "홍석민[컴퓨터시스템공학과]",
      "userId": "11359324048911234531"
     },
     "user_tz": -540
    },
    "id": "gibAz3gEpf6R",
    "outputId": "ef294f39-3682-41b0-c297-e434a43ea104",
    "ExecuteTime": {
     "end_time": "2024-11-05T04:37:50.488087Z",
     "start_time": "2024-11-05T04:37:50.384169Z"
    }
   },
   "source": [
    "plt.imshow(train_images[0], cmap=\"Greys\")"
   ],
   "outputs": [
    {
     "data": {
      "text/plain": [
       "<matplotlib.image.AxesImage at 0x30711c310>"
      ]
     },
     "execution_count": 5,
     "metadata": {},
     "output_type": "execute_result"
    },
    {
     "data": {
      "text/plain": [
       "<Figure size 640x480 with 1 Axes>"
      ],
      "image/png": "[encoded data removed]"
     },
     "metadata": {},
     "output_type": "display_data"
    }
   ],
   "execution_count": 5
  },
  {
   "cell_type": "code",
   "metadata": {
    "id": "ReM2bBhnpoKa",
    "ExecuteTime": {
     "end_time": "2024-11-05T04:37:50.620019Z",
     "start_time": "2024-11-05T04:37:50.583134Z"
    }
   },
   "source": [
    "model = tf.keras.models.Sequential()"
   ],
   "outputs": [],
   "execution_count": 6
  },
  {
   "cell_type": "code",
   "metadata": {
    "colab": {
     "base_uri": "https://localhost:8080/"
    },
    "executionInfo": {
     "elapsed": 8,
     "status": "ok",
     "timestamp": 1730178353615,
     "user": {
      "displayName": "홍석민[컴퓨터시스템공학과]",
      "userId": "11359324048911234531"
     },
     "user_tz": -540
    },
    "id": "t_1V-iLBqHZf",
    "outputId": "ed72768f-3284-4cc2-9b3b-2cb1011f6792",
    "ExecuteTime": {
     "end_time": "2024-11-05T04:37:50.651525Z",
     "start_time": "2024-11-05T04:37:50.626975Z"
    }
   },
   "source": [
    "model.add(tf.keras.layers.Dense(512, activation='relu', input_shape=(784,)))\n",
    "model.add(tf.keras.layers.Dense(10, activation='sigmoid'))"
   ],
   "outputs": [],
   "execution_count": 7
  },
  {
   "cell_type": "code",
   "metadata": {
    "id": "hFnCYnrSqoWx",
    "ExecuteTime": {
     "end_time": "2024-11-05T04:37:50.664049Z",
     "start_time": "2024-11-05T04:37:50.657760Z"
    }
   },
   "source": [
    "model.compile(optimizer='rmsprop',loss='mse', metrics=['accuracy'])"
   ],
   "outputs": [],
   "execution_count": 8
  },
  {
   "cell_type": "code",
   "metadata": {
    "id": "xpNzpvy2rdxJ",
    "ExecuteTime": {
     "end_time": "2024-11-05T04:37:50.750602Z",
     "start_time": "2024-11-05T04:37:50.673235Z"
    }
   },
   "source": [
    "train_images = train_images.reshape((60000, 784))\n",
    "train_images = train_images.astype('float32') / 255.0"
   ],
   "outputs": [],
   "execution_count": 9
  },
  {
   "cell_type": "code",
   "metadata": {
    "id": "H1eA58VPsDsC",
    "ExecuteTime": {
     "end_time": "2024-11-05T04:37:50.764141Z",
     "start_time": "2024-11-05T04:37:50.756966Z"
    }
   },
   "source": [
    "test_images = test_images.reshape((10000, 784))\n",
    "test_images = test_images.astype('float32') / 255.0"
   ],
   "outputs": [],
   "execution_count": 10
  },
  {
   "cell_type": "code",
   "metadata": {
    "colab": {
     "base_uri": "https://localhost:8080/"
    },
    "executionInfo": {
     "elapsed": 520,
     "status": "ok",
     "timestamp": 1730178834035,
     "user": {
      "displayName": "홍석민[컴퓨터시스템공학과]",
      "userId": "11359324048911234531"
     },
     "user_tz": -540
    },
    "id": "WEP7GNqMsT4w",
    "outputId": "572cc427-8123-494b-9601-12702d471d2e",
    "ExecuteTime": {
     "end_time": "2024-11-05T04:37:50.776847Z",
     "start_time": "2024-11-05T04:37:50.774185Z"
    }
   },
   "source": [
    "test_images.shape"
   ],
   "outputs": [
    {
     "data": {
      "text/plain": [
       "(10000, 784)"
      ]
     },
     "execution_count": 11,
     "metadata": {},
     "output_type": "execute_result"
    }
   ],
   "execution_count": 11
  },
  {
   "cell_type": "code",
   "metadata": {
    "colab": {
     "base_uri": "https://localhost:8080/"
    },
    "executionInfo": {
     "elapsed": 4,
     "status": "ok",
     "timestamp": 1730178836450,
     "user": {
      "displayName": "홍석민[컴퓨터시스템공학과]",
      "userId": "11359324048911234531"
     },
     "user_tz": -540
    },
    "id": "jL3Xicp_sYGn",
    "outputId": "cfce4921-9755-4aca-8399-2b653073fdcb",
    "ExecuteTime": {
     "end_time": "2024-11-05T04:37:50.821517Z",
     "start_time": "2024-11-05T04:37:50.819335Z"
    }
   },
   "source": [
    "train_images.shape"
   ],
   "outputs": [
    {
     "data": {
      "text/plain": [
       "(60000, 784)"
      ]
     },
     "execution_count": 12,
     "metadata": {},
     "output_type": "execute_result"
    }
   ],
   "execution_count": 12
  },
  {
   "cell_type": "code",
   "metadata": {
    "id": "45NGGY9dsawr",
    "ExecuteTime": {
     "end_time": "2024-11-05T04:37:50.864101Z",
     "start_time": "2024-11-05T04:37:50.861161Z"
    }
   },
   "source": [
    "train_labels = tf.keras.utils.to_categorical(train_labels)\n",
    "test_labels = tf.keras.utils.to_categorical(test_labels)"
   ],
   "outputs": [],
   "execution_count": 13
  },
  {
   "cell_type": "code",
   "metadata": {
    "colab": {
     "base_uri": "https://localhost:8080/"
    },
    "executionInfo": {
     "elapsed": 27152,
     "status": "ok",
     "timestamp": 1730179116511,
     "user": {
      "displayName": "홍석민[컴퓨터시스템공학과]",
      "userId": "11359324048911234531"
     },
     "user_tz": -540
    },
    "id": "ymlOp8Pks7Kj",
    "outputId": "ab9cd70a-6c5c-4f8b-d282-6c31c4e1e25b",
    "ExecuteTime": {
     "end_time": "2024-11-05T04:37:57.365478Z",
     "start_time": "2024-11-05T04:37:50.881885Z"
    }
   },
   "source": [
    "model.fit(train_images, train_labels, epochs=5, batch_size=128)"
   ],
   "outputs": [
    {
     "name": "stdout",
     "output_type": "stream",
     "text": [
      "Epoch 1/5\n",
      "469/469 [==============================] - 1s 3ms/step - loss: 0.0161 - accuracy: 0.9142\n",
      "Epoch 2/5\n",
      "469/469 [==============================] - 1s 3ms/step - loss: 0.0063 - accuracy: 0.9654\n",
      "Epoch 3/5\n",
      "469/469 [==============================] - 1s 3ms/step - loss: 0.0044 - accuracy: 0.9774\n",
      "Epoch 4/5\n",
      "469/469 [==============================] - 1s 3ms/step - loss: 0.0035 - accuracy: 0.9826\n",
      "Epoch 5/5\n",
      "469/469 [==============================] - 1s 3ms/step - loss: 0.0028 - accuracy: 0.9862\n"
     ]
    },
    {
     "data": {
      "text/plain": [
       "<keras.src.callbacks.History at 0x31e0b5df0>"
      ]
     },
     "execution_count": 14,
     "metadata": {},
     "output_type": "execute_result"
    }
   ],
   "execution_count": 14
  },
  {
   "cell_type": "code",
   "metadata": {
    "colab": {
     "base_uri": "https://localhost:8080/"
    },
    "executionInfo": {
     "elapsed": 3757,
     "status": "ok",
     "timestamp": 1730179203862,
     "user": {
      "displayName": "홍석민[컴퓨터시스템공학과]",
      "userId": "11359324048911234531"
     },
     "user_tz": -540
    },
    "id": "EU6hUFQjtYK4",
    "outputId": "8df1f9b6-edc4-4ef3-e03a-8ce162cb150e",
    "ExecuteTime": {
     "end_time": "2024-11-05T04:37:57.697235Z",
     "start_time": "2024-11-05T04:37:57.445004Z"
    }
   },
   "source": [
    "test_loss, test_acc = model.evaluate(test_images, test_labels)\n",
    "print(\"Accuracy : \", test_acc)"
   ],
   "outputs": [
    {
     "name": "stdout",
     "output_type": "stream",
     "text": [
      "313/313 [==============================] - 0s 589us/step - loss: 0.0037 - accuracy: 0.9791\n",
      "Accuracy :  0.9790999889373779\n"
     ]
    }
   ],
   "execution_count": 15
  },
  {
   "cell_type": "code",
   "metadata": {
    "colab": {
     "base_uri": "https://localhost:8080/"
    },
    "executionInfo": {
     "elapsed": 31064,
     "status": "ok",
     "timestamp": 1730179312371,
     "user": {
      "displayName": "홍석민[컴퓨터시스템공학과]",
      "userId": "11359324048911234531"
     },
     "user_tz": -540
    },
    "id": "ANg8NhESt280",
    "outputId": "adcf7c84-db09-4575-d248-bd0e1ad7592a",
    "ExecuteTime": {
     "end_time": "2024-11-05T04:38:04.046482Z",
     "start_time": "2024-11-05T04:37:57.707361Z"
    }
   },
   "source": [
    "history = model.fit(train_images, train_labels, epochs=5, batch_size=128)"
   ],
   "outputs": [
    {
     "name": "stdout",
     "output_type": "stream",
     "text": [
      "Epoch 1/5\n",
      "469/469 [==============================] - 1s 3ms/step - loss: 0.0023 - accuracy: 0.9887\n",
      "Epoch 2/5\n",
      "469/469 [==============================] - 1s 3ms/step - loss: 0.0019 - accuracy: 0.9904\n",
      "Epoch 3/5\n",
      "469/469 [==============================] - 1s 3ms/step - loss: 0.0017 - accuracy: 0.9916\n",
      "Epoch 4/5\n",
      "469/469 [==============================] - 1s 3ms/step - loss: 0.0014 - accuracy: 0.9926\n",
      "Epoch 5/5\n",
      "469/469 [==============================] - 1s 3ms/step - loss: 0.0012 - accuracy: 0.9939\n"
     ]
    }
   ],
   "execution_count": 16
  },
  {
   "cell_type": "code",
   "metadata": {
    "id": "3uX35DIuuK6q",
    "ExecuteTime": {
     "end_time": "2024-11-05T04:38:04.055506Z",
     "start_time": "2024-11-05T04:38:04.053156Z"
    }
   },
   "source": [
    "loss = history.history['loss']\n",
    "acc = history.history['accuracy']\n",
    "epochs = range(1, len(loss)+1)"
   ],
   "outputs": [],
   "execution_count": 17
  },
  {
   "cell_type": "code",
   "metadata": {
    "colab": {
     "base_uri": "https://localhost:8080/",
     "height": 469
    },
    "executionInfo": {
     "elapsed": 535,
     "status": "ok",
     "timestamp": 1730179349435,
     "user": {
      "displayName": "홍석민[컴퓨터시스템공학과]",
      "userId": "11359324048911234531"
     },
     "user_tz": -540
    },
    "id": "bucyAasZuY9s",
    "outputId": "d55d4794-71f7-43c7-a7fd-de1e3eb49fb3",
    "ExecuteTime": {
     "end_time": "2024-11-05T04:38:04.133919Z",
     "start_time": "2024-11-05T04:38:04.073422Z"
    }
   },
   "source": [
    "plt.plot(epochs, loss, 'b', label='Training Loss')\n",
    "plt.plot(epochs, acc, 'r', label='Accuracy')\n",
    "plt.xlabel('epochs')\n",
    "plt.ylabel('loss/acc')\n",
    "plt.show()"
   ],
   "outputs": [
    {
     "data": {
      "text/plain": [
       "<Figure size 640x480 with 1 Axes>"
      ],
      "image/png": "[encoded data removed]"
     },
     "metadata": {},
     "output_type": "display_data"
    }
   ],
   "execution_count": 18
  },
  {
   "cell_type": "code",
   "metadata": {
    "id": "5p6hgfn-ubb8",
    "ExecuteTime": {
     "end_time": "2024-11-05T04:38:04.156906Z",
     "start_time": "2024-11-05T04:38:04.152209Z"
    }
   },
   "source": [
    "import numpy as np\n",
    "import matplotlib.pyplot as plt\n",
    "import tensorflow as tf\n",
    "from tensorflow import keras\n",
    "\n",
    "from tensorflow.keras import datasets, layers, models"
   ],
   "outputs": [],
   "execution_count": 19
  },
  {
   "cell_type": "code",
   "metadata": {
    "id": "4nK88JsUycQ2",
    "ExecuteTime": {
     "end_time": "2024-11-05T04:38:04.429518Z",
     "start_time": "2024-11-05T04:38:04.178651Z"
    }
   },
   "source": [
    "fashion_mnist = keras.datasets.fashion_mnist\n",
    "(train_images, train_labels), (test_images, test_labels) = fashion_mnist.load_data()"
   ],
   "outputs": [],
   "execution_count": 20
  },
  {
   "cell_type": "code",
   "metadata": {
    "colab": {
     "base_uri": "https://localhost:8080/",
     "height": 468
    },
    "executionInfo": {
     "elapsed": 641,
     "status": "ok",
     "timestamp": 1730180576704,
     "user": {
      "displayName": "홍석민[컴퓨터시스템공학과]",
      "userId": "11359324048911234531"
     },
     "user_tz": -540
    },
    "id": "G4Aw2EYCyvz1",
    "outputId": "ce23e1ac-8c88-48d6-fdcc-2014e1b4b294",
    "ExecuteTime": {
     "end_time": "2024-11-05T04:38:04.497253Z",
     "start_time": "2024-11-05T04:38:04.434476Z"
    }
   },
   "source": [
    "plt.imshow(train_images[0])"
   ],
   "outputs": [
    {
     "data": {
      "text/plain": [
       "<matplotlib.image.AxesImage at 0x31e153a90>"
      ]
     },
     "execution_count": 21,
     "metadata": {},
     "output_type": "execute_result"
    },
    {
     "data": {
      "text/plain": [
       "<Figure size 640x480 with 1 Axes>"
      ],
      "image/png": "[encoded data removed]"
     },
     "metadata": {},
     "output_type": "display_data"
    }
   ],
   "execution_count": 21
  },
  {
   "cell_type": "code",
   "metadata": {
    "id": "rY3k5F2Ey_4r",
    "ExecuteTime": {
     "end_time": "2024-11-05T04:38:04.580251Z",
     "start_time": "2024-11-05T04:38:04.503944Z"
    }
   },
   "source": [
    "train_images = train_images / 255.0\n",
    "test_images = test_images / 255.0"
   ],
   "outputs": [],
   "execution_count": 22
  },
  {
   "cell_type": "code",
   "metadata": {
    "colab": {
     "base_uri": "https://localhost:8080/"
    },
    "executionInfo": {
     "elapsed": 684,
     "status": "ok",
     "timestamp": 1730180673720,
     "user": {
      "displayName": "홍석민[컴퓨터시스템공학과]",
      "userId": "11359324048911234531"
     },
     "user_tz": -540
    },
    "id": "b3wC1aymzNga",
    "outputId": "8cc38d8d-d368-4800-c8fb-f2cf3ca31d38",
    "ExecuteTime": {
     "end_time": "2024-11-05T04:38:04.604474Z",
     "start_time": "2024-11-05T04:38:04.588986Z"
    }
   },
   "source": [
    "model = models.Sequential()\n",
    "model.add(layers.Flatten(input_shape=(28, 28)))\n",
    "model.add(layers.Dense(128, activation='relu'))\n",
    "model.add(layers.Dense(10, activation='softmax'))"
   ],
   "outputs": [],
   "execution_count": 23
  },
  {
   "cell_type": "code",
   "metadata": {
    "id": "hDTEKLcpzeqA",
    "ExecuteTime": {
     "end_time": "2024-11-05T04:38:04.615916Z",
     "start_time": "2024-11-05T04:38:04.611259Z"
    }
   },
   "source": [
    "model.compile(optimizer='adam', loss='sparse_categorical_crossentropy', metrics=['accuracy'])"
   ],
   "outputs": [],
   "execution_count": 24
  },
  {
   "cell_type": "code",
   "metadata": {
    "colab": {
     "base_uri": "https://localhost:8080/"
    },
    "executionInfo": {
     "elapsed": 19054,
     "status": "ok",
     "timestamp": 1730180960255,
     "user": {
      "displayName": "홍석민[컴퓨터시스템공학과]",
      "userId": "11359324048911234531"
     },
     "user_tz": -540
    },
    "id": "T5uSku7W0IZh",
    "outputId": "be14a18f-bf5b-4078-d980-66bd532ef583",
    "ExecuteTime": {
     "end_time": "2024-11-05T04:38:07.417561Z",
     "start_time": "2024-11-05T04:38:04.622615Z"
    }
   },
   "source": [
    "model.fit(train_images, train_labels, epochs=5, batch_size=128)"
   ],
   "outputs": [
    {
     "name": "stdout",
     "output_type": "stream",
     "text": [
      "Epoch 1/5\n",
      "469/469 [==============================] - 1s 1ms/step - loss: 0.5517 - accuracy: 0.8119\n",
      "Epoch 2/5\n",
      "469/469 [==============================] - 1s 1ms/step - loss: 0.4061 - accuracy: 0.8576\n",
      "Epoch 3/5\n",
      "469/469 [==============================] - 0s 1ms/step - loss: 0.3669 - accuracy: 0.8699\n",
      "Epoch 4/5\n",
      "469/469 [==============================] - 1s 1ms/step - loss: 0.3410 - accuracy: 0.8783\n",
      "Epoch 5/5\n",
      "469/469 [==============================] - 0s 1ms/step - loss: 0.3242 - accuracy: 0.8828\n"
     ]
    },
    {
     "data": {
      "text/plain": [
       "<keras.src.callbacks.History at 0x31eea8910>"
      ]
     },
     "execution_count": 25,
     "metadata": {},
     "output_type": "execute_result"
    }
   ],
   "execution_count": 25
  },
  {
   "cell_type": "code",
   "metadata": {
    "colab": {
     "base_uri": "https://localhost:8080/"
    },
    "executionInfo": {
     "elapsed": 3801,
     "status": "ok",
     "timestamp": 1730180973518,
     "user": {
      "displayName": "홍석민[컴퓨터시스템공학과]",
      "userId": "11359324048911234531"
     },
     "user_tz": -540
    },
    "id": "sNxyiUA90gKJ",
    "outputId": "67275ce5-a339-4caf-fd66-7948640e0102",
    "ExecuteTime": {
     "end_time": "2024-11-05T04:38:07.711765Z",
     "start_time": "2024-11-05T04:38:07.483602Z"
    }
   },
   "source": [
    "test_loss, test_acc = model.evaluate(test_images, test_labels)"
   ],
   "outputs": [
    {
     "name": "stdout",
     "output_type": "stream",
     "text": [
      "313/313 [==============================] - 0s 477us/step - loss: 0.3629 - accuracy: 0.8696\n"
     ]
    }
   ],
   "execution_count": 26
  },
  {
   "cell_type": "code",
   "metadata": {
    "colab": {
     "base_uri": "https://localhost:8080/"
    },
    "executionInfo": {
     "elapsed": 475,
     "status": "ok",
     "timestamp": 1730180984271,
     "user": {
      "displayName": "홍석민[컴퓨터시스템공학과]",
      "userId": "11359324048911234531"
     },
     "user_tz": -540
    },
    "id": "nmRiRCb90nCJ",
    "outputId": "2d431e94-4357-4b1e-faeb-d880908f3f40",
    "ExecuteTime": {
     "end_time": "2024-11-05T04:38:07.723798Z",
     "start_time": "2024-11-05T04:38:07.722077Z"
    }
   },
   "source": [
    "print('Accuracy : ', test_acc)"
   ],
   "outputs": [
    {
     "name": "stdout",
     "output_type": "stream",
     "text": [
      "Accuracy :  0.8695999979972839\n"
     ]
    }
   ],
   "execution_count": 27
  },
  {
   "cell_type": "code",
   "metadata": {
    "id": "9sQeesvF0qUK",
    "ExecuteTime": {
     "end_time": "2024-11-05T04:38:07.846125Z",
     "start_time": "2024-11-05T04:38:07.844161Z"
    }
   },
   "source": [
    "import numpy as np\n",
    "import tensorflow as tf\n",
    "import matplotlib.pyplot as plt\n",
    "import pandas as pd"
   ],
   "outputs": [],
   "execution_count": 28
  },
  {
   "cell_type": "code",
   "metadata": {
    "id": "TF_M1VSA2DgA",
    "ExecuteTime": {
     "end_time": "2024-11-05T04:38:07.882609Z",
     "start_time": "2024-11-05T04:38:07.871573Z"
    }
   },
   "source": [
    "train = pd.read_csv(\"train.csv\", sep = ',')\n",
    "test = pd.read_csv(\"test.csv\", sep = ',')"
   ],
   "outputs": [],
   "execution_count": 29
  },
  {
   "cell_type": "code",
   "metadata": {
    "id": "WMbkmQIK3uAd",
    "ExecuteTime": {
     "end_time": "2024-11-05T04:38:07.892896Z",
     "start_time": "2024-11-05T04:38:07.887135Z"
    }
   },
   "source": [
    "train.drop(['SibSp','Parch','Ticket','Embarked','Name','Cabin','PassengerId','Fare','Age'], inplace=True, axis=1)"
   ],
   "outputs": [],
   "execution_count": 30
  },
  {
   "cell_type": "code",
   "metadata": {
    "id": "PpEGhJxV4AZQ",
    "ExecuteTime": {
     "end_time": "2024-11-05T04:38:07.906713Z",
     "start_time": "2024-11-05T04:38:07.904406Z"
    }
   },
   "source": [
    "train.dropna(inplace = True)"
   ],
   "outputs": [],
   "execution_count": 31
  },
  {
   "cell_type": "code",
   "metadata": {
    "colab": {
     "base_uri": "https://localhost:8080/",
     "height": 504
    },
    "executionInfo": {
     "elapsed": 590,
     "status": "ok",
     "timestamp": 1730182114239,
     "user": {
      "displayName": "홍석민[컴퓨터시스템공학과]",
      "userId": "11359324048911234531"
     },
     "user_tz": -540
    },
    "id": "B8FDoQTP4TR_",
    "outputId": "0e4de06a-2378-4138-f5a4-32cf143df8d3",
    "ExecuteTime": {
     "end_time": "2024-11-05T04:38:07.974231Z",
     "start_time": "2024-11-05T04:38:07.918178Z"
    }
   },
   "source": [
    "df = train.groupby('Sex').mean()[\"Survived\"]\n",
    "df.plot(kind='bar')\n",
    "plt.show()"
   ],
   "outputs": [
    {
     "data": {
      "text/plain": [
       "<Figure size 640x480 with 1 Axes>"
      ],
      "image/png": "[encoded data removed]"
     },
     "metadata": {},
     "output_type": "display_data"
    }
   ],
   "execution_count": 32
  },
  {
   "cell_type": "code",
   "metadata": {
    "id": "-s5FHe_049PA",
    "ExecuteTime": {
     "end_time": "2024-11-05T04:38:08.019870Z",
     "start_time": "2024-11-05T04:38:07.983883Z"
    }
   },
   "source": [
    "for ix in train.index:\n",
    "  if train.loc[ix, 'Sex'] == \"male\" :\n",
    "    train.loc[ix, 'Sex'] = 1\n",
    "  else :\n",
    "    train.loc[ix, 'Sex'] = 0"
   ],
   "outputs": [],
   "execution_count": 33
  },
  {
   "cell_type": "code",
   "metadata": {
    "id": "oNIIvFwK54ME",
    "ExecuteTime": {
     "end_time": "2024-11-05T04:38:08.032034Z",
     "start_time": "2024-11-05T04:38:08.029934Z"
    }
   },
   "source": [
    "target = np.ravel(train.Survived)"
   ],
   "outputs": [],
   "execution_count": 34
  },
  {
   "cell_type": "code",
   "metadata": {
    "id": "KH2cmLLi6I98",
    "ExecuteTime": {
     "end_time": "2024-11-05T04:38:08.044974Z",
     "start_time": "2024-11-05T04:38:08.042271Z"
    }
   },
   "source": [
    "train.drop(['Survived'], inplace = True, axis = 1)\n",
    "train = train.astype(float)"
   ],
   "outputs": [],
   "execution_count": 35
  },
  {
   "cell_type": "code",
   "metadata": {
    "colab": {
     "base_uri": "https://localhost:8080/"
    },
    "executionInfo": {
     "elapsed": 792,
     "status": "ok",
     "timestamp": 1730182768941,
     "user": {
      "displayName": "홍석민[컴퓨터시스템공학과]",
      "userId": "11359324048911234531"
     },
     "user_tz": -540
    },
    "id": "YJhaTn3O6b-I",
    "outputId": "faeea8aa-068d-4bde-8cc5-fe2283bcb28e",
    "ExecuteTime": {
     "end_time": "2024-11-05T04:38:08.073738Z",
     "start_time": "2024-11-05T04:38:08.056385Z"
    }
   },
   "source": [
    "model = models.Sequential()\n",
    "model.add(tf.keras.layers.Dense(16, activation=\"relu\", input_shape=(2,)))\n",
    "model.add(tf.keras.layers.Dense(8, activation=\"relu\"))\n",
    "model.add(tf.keras.layers.Dense(1, activation=\"sigmoid\"))"
   ],
   "outputs": [],
   "execution_count": 36
  },
  {
   "cell_type": "code",
   "metadata": {
    "colab": {
     "base_uri": "https://localhost:8080/"
    },
    "executionInfo": {
     "elapsed": 57233,
     "status": "ok",
     "timestamp": 1730182910716,
     "user": {
      "displayName": "홍석민[컴퓨터시스템공학과]",
      "userId": "11359324048911234531"
     },
     "user_tz": -540
    },
    "id": "43yyIKsB7eNX",
    "outputId": "84aabb13-7be9-4b5f-9768-1ed90f8d4a9f",
    "ExecuteTime": {
     "end_time": "2024-11-05T04:38:18.458458Z",
     "start_time": "2024-11-05T04:38:08.084156Z"
    }
   },
   "source": [
    "model.compile(loss='binary_crossentropy', optimizer = 'adam', metrics=['accuracy'])\n",
    "model.fit(train, target, epochs = 30, batch_size =1, verbose = 1)"
   ],
   "outputs": [
    {
     "name": "stdout",
     "output_type": "stream",
     "text": [
      "Epoch 1/30\n",
      "891/891 [==============================] - 0s 409us/step - loss: 0.5917 - accuracy: 0.6981\n",
      "Epoch 2/30\n",
      "891/891 [==============================] - 0s 382us/step - loss: 0.5219 - accuracy: 0.7868\n",
      "Epoch 3/30\n",
      "891/891 [==============================] - 0s 382us/step - loss: 0.5051 - accuracy: 0.7868\n",
      "Epoch 4/30\n",
      "891/891 [==============================] - 0s 406us/step - loss: 0.4925 - accuracy: 0.7868\n",
      "Epoch 5/30\n",
      "891/891 [==============================] - 0s 383us/step - loss: 0.4838 - accuracy: 0.7879\n",
      "Epoch 6/30\n",
      "891/891 [==============================] - 0s 372us/step - loss: 0.4755 - accuracy: 0.7856\n",
      "Epoch 7/30\n",
      "891/891 [==============================] - 0s 364us/step - loss: 0.4708 - accuracy: 0.7845\n",
      "Epoch 8/30\n",
      "891/891 [==============================] - 0s 361us/step - loss: 0.4673 - accuracy: 0.7845\n",
      "Epoch 9/30\n",
      "891/891 [==============================] - 0s 362us/step - loss: 0.4634 - accuracy: 0.7879\n",
      "Epoch 10/30\n",
      "891/891 [==============================] - 0s 355us/step - loss: 0.4613 - accuracy: 0.7901\n",
      "Epoch 11/30\n",
      "891/891 [==============================] - 0s 375us/step - loss: 0.4590 - accuracy: 0.7912\n",
      "Epoch 12/30\n",
      "891/891 [==============================] - 0s 386us/step - loss: 0.4601 - accuracy: 0.7890\n",
      "Epoch 13/30\n",
      "891/891 [==============================] - 0s 373us/step - loss: 0.4574 - accuracy: 0.7868\n",
      "Epoch 14/30\n",
      "891/891 [==============================] - 0s 367us/step - loss: 0.4594 - accuracy: 0.7856\n",
      "Epoch 15/30\n",
      "891/891 [==============================] - 0s 410us/step - loss: 0.4598 - accuracy: 0.7868\n",
      "Epoch 16/30\n",
      "891/891 [==============================] - 0s 385us/step - loss: 0.4578 - accuracy: 0.7710\n",
      "Epoch 17/30\n",
      "891/891 [==============================] - 0s 377us/step - loss: 0.4559 - accuracy: 0.7935\n",
      "Epoch 18/30\n",
      "891/891 [==============================] - 0s 381us/step - loss: 0.4585 - accuracy: 0.7845\n",
      "Epoch 19/30\n",
      "891/891 [==============================] - 0s 379us/step - loss: 0.4546 - accuracy: 0.7924\n",
      "Epoch 20/30\n",
      "891/891 [==============================] - 0s 385us/step - loss: 0.4556 - accuracy: 0.7901\n",
      "Epoch 21/30\n",
      "891/891 [==============================] - 0s 382us/step - loss: 0.4564 - accuracy: 0.7823\n",
      "Epoch 22/30\n",
      "891/891 [==============================] - 0s 397us/step - loss: 0.4549 - accuracy: 0.7901\n",
      "Epoch 23/30\n",
      "891/891 [==============================] - 0s 384us/step - loss: 0.4573 - accuracy: 0.7890\n",
      "Epoch 24/30\n",
      "891/891 [==============================] - 0s 384us/step - loss: 0.4576 - accuracy: 0.7710\n",
      "Epoch 25/30\n",
      "891/891 [==============================] - 0s 382us/step - loss: 0.4532 - accuracy: 0.7901\n",
      "Epoch 26/30\n",
      "891/891 [==============================] - 0s 386us/step - loss: 0.4568 - accuracy: 0.7767\n",
      "Epoch 27/30\n",
      "891/891 [==============================] - 0s 380us/step - loss: 0.4563 - accuracy: 0.7845\n",
      "Epoch 28/30\n",
      "891/891 [==============================] - 0s 375us/step - loss: 0.4538 - accuracy: 0.7924\n",
      "Epoch 29/30\n",
      "891/891 [==============================] - 0s 382us/step - loss: 0.4554 - accuracy: 0.7767\n",
      "Epoch 30/30\n",
      "891/891 [==============================] - 0s 388us/step - loss: 0.4545 - accuracy: 0.7856\n"
     ]
    },
    {
     "data": {
      "text/plain": [
       "<keras.src.callbacks.History at 0x31694fc40>"
      ]
     },
     "execution_count": 37,
     "metadata": {},
     "output_type": "execute_result"
    }
   ],
   "execution_count": 37
  },
  {
   "cell_type": "code",
   "metadata": {
    "id": "kn49q55E7s6N",
    "ExecuteTime": {
     "end_time": "2024-11-05T04:38:18.471076Z",
     "start_time": "2024-11-05T04:38:18.469045Z"
    }
   },
   "source": [
    "import tensorflow as tf\n",
    "from tensorflow.keras import datasets, layers, models"
   ],
   "outputs": [],
   "execution_count": 38
  },
  {
   "cell_type": "code",
   "metadata": {
    "id": "4Ur0f0FuAIdK",
    "ExecuteTime": {
     "end_time": "2024-11-05T04:38:18.643246Z",
     "start_time": "2024-11-05T04:38:18.484309Z"
    }
   },
   "source": [
    "(train_images, train_labels), (test_images, test_labels) = datasets.mnist.load_data()"
   ],
   "outputs": [],
   "execution_count": 39
  },
  {
   "cell_type": "code",
   "metadata": {
    "id": "lhWs3j4XAazl",
    "ExecuteTime": {
     "end_time": "2024-11-05T04:38:18.655230Z",
     "start_time": "2024-11-05T04:38:18.653372Z"
    }
   },
   "source": [
    "train_images = train_images.reshape(60000, 28, 28, 1)\n",
    "test_images = test_images.reshape(10000, 28, 28, 1)"
   ],
   "outputs": [],
   "execution_count": 40
  },
  {
   "cell_type": "code",
   "metadata": {
    "id": "fAVizoIrAxfO",
    "ExecuteTime": {
     "end_time": "2024-11-05T04:38:18.720900Z",
     "start_time": "2024-11-05T04:38:18.665121Z"
    }
   },
   "source": [
    "train_images, test_images = train_images/255.0, test_images / 255.0"
   ],
   "outputs": [],
   "execution_count": 41
  },
  {
   "cell_type": "code",
   "metadata": {
    "colab": {
     "base_uri": "https://localhost:8080/"
    },
    "executionInfo": {
     "elapsed": 621,
     "status": "ok",
     "timestamp": 1730184380518,
     "user": {
      "displayName": "홍석민[컴퓨터시스템공학과]",
      "userId": "11359324048911234531"
     },
     "user_tz": -540
    },
    "id": "B2YJzg-xBOwA",
    "outputId": "1c48bd31-1461-41bd-d6b8-1d0469206f95",
    "ExecuteTime": {
     "end_time": "2024-11-05T04:38:18.741847Z",
     "start_time": "2024-11-05T04:38:18.731204Z"
    }
   },
   "source": [
    "model = models.Sequential()\n",
    "\n",
    "model.add(layers.Conv2D(32, (3,3), activation = 'relu', input_shape = (28, 28, 1)))"
   ],
   "outputs": [],
   "execution_count": 42
  },
  {
   "cell_type": "code",
   "metadata": {
    "id": "-9kQJPPDBnro",
    "ExecuteTime": {
     "end_time": "2024-11-05T04:38:18.757127Z",
     "start_time": "2024-11-05T04:38:18.753048Z"
    }
   },
   "source": [
    "model.add(layers.MaxPooling2D(2,2))"
   ],
   "outputs": [],
   "execution_count": 43
  },
  {
   "cell_type": "code",
   "metadata": {
    "id": "EciXoWYrBzBU",
    "ExecuteTime": {
     "end_time": "2024-11-05T04:38:18.775645Z",
     "start_time": "2024-11-05T04:38:18.768061Z"
    }
   },
   "source": [
    "model.add(layers.Conv2D(64, (3,3), activation = 'relu'))"
   ],
   "outputs": [],
   "execution_count": 44
  },
  {
   "cell_type": "code",
   "metadata": {
    "id": "qBHnlWveCVOt",
    "ExecuteTime": {
     "end_time": "2024-11-05T04:38:18.790805Z",
     "start_time": "2024-11-05T04:38:18.787116Z"
    }
   },
   "source": [
    "model.add(layers.MaxPooling2D(2,2))"
   ],
   "outputs": [],
   "execution_count": 45
  },
  {
   "cell_type": "code",
   "metadata": {
    "id": "6RObOf9NCYEk",
    "ExecuteTime": {
     "end_time": "2024-11-05T04:38:18.809674Z",
     "start_time": "2024-11-05T04:38:18.801977Z"
    }
   },
   "source": [
    "model.add(layers.Conv2D(64, (3,3), activation = 'relu'))"
   ],
   "outputs": [],
   "execution_count": 46
  },
  {
   "cell_type": "code",
   "metadata": {
    "id": "vXtHSNuPCd0z",
    "ExecuteTime": {
     "end_time": "2024-11-05T04:38:18.825525Z",
     "start_time": "2024-11-05T04:38:18.820985Z"
    }
   },
   "source": [
    "model.add(layers.Flatten())"
   ],
   "outputs": [],
   "execution_count": 47
  },
  {
   "cell_type": "code",
   "metadata": {
    "id": "KibMeU4OCnJn",
    "ExecuteTime": {
     "end_time": "2024-11-05T04:38:18.872362Z",
     "start_time": "2024-11-05T04:38:18.861692Z"
    }
   },
   "source": [
    "model.add(layers.Dense(64, activation = 'relu'))\n",
    "model.add(layers.Dense(10, activation = 'softmax'))"
   ],
   "outputs": [],
   "execution_count": 48
  },
  {
   "cell_type": "code",
   "metadata": {
    "colab": {
     "base_uri": "https://localhost:8080/",
     "height": 405
    },
    "executionInfo": {
     "elapsed": 10,
     "status": "ok",
     "timestamp": 1730184763296,
     "user": {
      "displayName": "홍석민[컴퓨터시스템공학과]",
      "userId": "11359324048911234531"
     },
     "user_tz": -540
    },
    "id": "Zfr_x-DxC-q7",
    "outputId": "5e616ca8-65b0-4636-fe15-ffb4a1df4e46",
    "ExecuteTime": {
     "end_time": "2024-11-05T04:38:18.890797Z",
     "start_time": "2024-11-05T04:38:18.882736Z"
    }
   },
   "source": [
    "model.summary()"
   ],
   "outputs": [
    {
     "name": "stdout",
     "output_type": "stream",
     "text": [
      "Model: \"sequential_3\"\n",
      "_________________________________________________________________\n",
      " Layer (type)                Output Shape              Param #   \n",
      "=================================================================\n",
      " conv2d (Conv2D)             (None, 26, 26, 32)        320       \n",
      "                                                                 \n",
      " max_pooling2d (MaxPooling2  (None, 13, 13, 32)        0         \n",
      " D)                                                              \n",
      "                                                                 \n",
      " conv2d_1 (Conv2D)           (None, 11, 11, 64)        18496     \n",
      "                                                                 \n",
      " max_pooling2d_1 (MaxPoolin  (None, 5, 5, 64)          0         \n",
      " g2D)                                                            \n",
      "                                                                 \n",
      " conv2d_2 (Conv2D)           (None, 3, 3, 64)          36928     \n",
      "                                                                 \n",
      " flatten_1 (Flatten)         (None, 576)               0         \n",
      "                                                                 \n",
      " dense_7 (Dense)             (None, 64)                36928     \n",
      "                                                                 \n",
      " dense_8 (Dense)             (None, 10)                650       \n",
      "                                                                 \n",
      "=================================================================\n",
      "Total params: 93322 (364.54 KB)\n",
      "Trainable params: 93322 (364.54 KB)\n",
      "Non-trainable params: 0 (0.00 Byte)\n",
      "_________________________________________________________________\n"
     ]
    }
   ],
   "execution_count": 49
  },
  {
   "cell_type": "code",
   "metadata": {
    "id": "pGCR5_AnDFH-",
    "ExecuteTime": {
     "end_time": "2024-11-05T04:38:18.906914Z",
     "start_time": "2024-11-05T04:38:18.901596Z"
    }
   },
   "source": [
    "model.compile(optimizer='adam', loss='sparse_categorical_crossentropy', metrics=['accuracy'])"
   ],
   "outputs": [],
   "execution_count": 50
  },
  {
   "cell_type": "code",
   "metadata": {
    "colab": {
     "background_save": true,
     "base_uri": "https://localhost:8080/"
    },
    "id": "4G3JXNUgDQXr",
    "outputId": "720c9d30-2748-4832-f42d-247028405279",
    "ExecuteTime": {
     "end_time": "2024-11-05T04:39:28.175903Z",
     "start_time": "2024-11-05T04:38:19.007409Z"
    }
   },
   "source": [
    "model.fit(train_images, train_labels, epochs = 5)"
   ],
   "outputs": [
    {
     "name": "stdout",
     "output_type": "stream",
     "text": [
      "Epoch 1/5\n",
      "1875/1875 [==============================] - 13s 7ms/step - loss: 0.1434 - accuracy: 0.9552\n",
      "Epoch 2/5\n",
      "1875/1875 [==============================] - 14s 7ms/step - loss: 0.0470 - accuracy: 0.9859\n",
      "Epoch 3/5\n",
      "1875/1875 [==============================] - 14s 7ms/step - loss: 0.0338 - accuracy: 0.9897\n",
      "Epoch 4/5\n",
      "1875/1875 [==============================] - 15s 8ms/step - loss: 0.0248 - accuracy: 0.9920\n",
      "Epoch 5/5\n",
      "1875/1875 [==============================] - 14s 8ms/step - loss: 0.0199 - accuracy: 0.9937\n"
     ]
    },
    {
     "data": {
      "text/plain": [
       "<keras.src.callbacks.History at 0x316c0ec70>"
      ]
     },
     "execution_count": 51,
     "metadata": {},
     "output_type": "execute_result"
    }
   ],
   "execution_count": 51
  },
  {
   "cell_type": "code",
   "metadata": {
    "id": "pDMTK68-Djf0",
    "ExecuteTime": {
     "end_time": "2024-11-05T04:39:28.249175Z",
     "start_time": "2024-11-05T04:39:28.247301Z"
    }
   },
   "source": [],
   "outputs": [],
   "execution_count": null
  }
 ],
 "metadata": {
  "colab": {
   "provenance": [],
   "authorship_tag": "ABX9TyN8AHjNZgmoA6hgoyo0hbv7"
  },
  "kernelspec": {
   "display_name": "Python 3 (ipykernel)",
   "name": "python3",
   "language": "python"
  },
  "language_info": {
   "name": "python"
  }
 },
 "nbformat": 4,
 "nbformat_minor": 0
}
